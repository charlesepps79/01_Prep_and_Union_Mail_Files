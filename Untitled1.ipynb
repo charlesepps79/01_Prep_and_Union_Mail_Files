{
 "cells": [
  {
   "cell_type": "code",
   "execution_count": 4,
   "metadata": {},
   "outputs": [
    {
     "name": "stderr",
     "output_type": "stream",
     "text": [
      "Loading required package: gsubfn\n",
      "Loading required package: proto\n",
      "Loading required package: RSQLite\n"
     ]
    }
   ],
   "source": [
    "# set parameters to extend java's memory usage\n",
    "# to keep xlsx scripts from crashing\n",
    "options(java.parameters = \"-Xmx8000m\")\n",
    "\n",
    "library(sqldf)"
   ]
  },
  {
   "cell_type": "code",
   "execution_count": 2,
   "metadata": {},
   "outputs": [],
   "source": [
    "mb_pbfbxs_ita_0917 <- read.table(\"//rmc.local/dfsroot/Marketing/SourceData/Mail files For Data Warehouse/431) 114541A_RMC_PBFBXS9.0_17ITA_Final_Mailfile.TXT\", \n",
    "                                 fill=TRUE, header=TRUE, sep=\"\\t\", quote=\"\")"
   ]
  },
  {
   "cell_type": "code",
   "execution_count": 5,
   "metadata": {},
   "outputs": [
    {
     "data": {
      "text/html": [
       "83303"
      ],
      "text/latex": [
       "83303"
      ],
      "text/markdown": [
       "83303"
      ],
      "text/plain": [
       "[1] 83303"
      ]
     },
     "metadata": {},
     "output_type": "display_data"
    }
   ],
   "source": [
    "mb_pb_ita_0917 <- sqldf(\"select * from mb_pbfbxs_ita_0917 where campaign_id in ('PB09.0_17ITA')\")\n",
    "nrow(mb_pb_ita_0917)"
   ]
  },
  {
   "cell_type": "code",
   "execution_count": null,
   "metadata": {},
   "outputs": [],
   "source": [
    "mb_pb_ita_0917$Drop_Date <- as.Date(mb_pb_ita_0917$Drop_Date,format=\"%m/%d/%Y\")\n",
    "typeof(mb_pb_ita_0917$Drop_Date)\n",
    "save(mb_pb_ita_1017, file=\"E:/Pallavi/2018/rev1/rev2/mailfile/mailfiles/mb_pb_ita_0917.RData\")\n",
    "\n",
    "load(\"E:/Pallavi/2018/rev1/rev2/mailfile/mailfiles/mb_pb_ita.RData\")\n",
    "\n",
    "\n",
    "mb_pb_ita <- sqldf(\"select mon_ind, camp_type, camp_type1,ss7,Drop_Date, NAME,STREET, ZIP5, fico, apr,offer_amount,state,BranchNumber from mb_pb_ita\n",
    "union all\n",
    "select 93 as mon_ind,'06.PB_ITA' as camp_type,'PBITA_0917' as camp_type1,ss7,Drop_Date,name1 as NAME,STREET,ZIP5 as ZIP5,0 as fico,0 as apr,amt_given1 as offer_amount,state,BranchNumber from mb_pb_ita_0917\n",
    "\")\n",
    "\n",
    "save(mb_pb_ita, file=\"E:/Pallavi/2018/rev1/rev2/mailfile/mailfiles/mb_pb_ita.RData\")"
   ]
  }
 ],
 "metadata": {
  "kernelspec": {
   "display_name": "R",
   "language": "R",
   "name": "ir"
  },
  "language_info": {
   "codemirror_mode": "r",
   "file_extension": ".r",
   "mimetype": "text/x-r-source",
   "name": "R",
   "pygments_lexer": "r",
   "version": "3.4.3"
  }
 },
 "nbformat": 4,
 "nbformat_minor": 2
}
