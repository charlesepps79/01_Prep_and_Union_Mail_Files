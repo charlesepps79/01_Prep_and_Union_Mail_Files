{
 "cells": [
  {
   "cell_type": "code",
   "execution_count": 4,
   "metadata": {},
   "outputs": [
    {
     "name": "stderr",
     "output_type": "stream",
     "text": [
      "Loading required package: gsubfn\n",
      "Loading required package: proto\n",
      "Loading required package: RSQLite\n"
     ]
    }
   ],
   "source": [
    "# set parameters to extend java's memory usage\n",
    "# to keep xlsx scripts from crashing\n",
    "options(java.parameters = \"-Xmx8000m\")\n",
    "\n",
    "library(sqldf)"
   ]
  },
  {
   "cell_type": "code",
   "execution_count": 1,
   "metadata": {},
   "outputs": [],
   "source": [
    "mb_nbpqll_0518 <- read.table(\"E:/Pallavi/2018/rev1/rev2/mailfile/mailfiles/562) 118063A_RMC_NB4.0_0518PQ_Final_Mailfile.TXT\",\n",
    "                             fill = TRUE, header = TRUE, sep = \"\\t\",\n",
    "                             quote = \"\")"
   ]
  },
  {
   "cell_type": "code",
   "execution_count": 2,
   "metadata": {},
   "outputs": [
    {
     "data": {
      "text/html": [
       "78233"
      ],
      "text/latex": [
       "78233"
      ],
      "text/markdown": [
       "78233"
      ],
      "text/plain": [
       "[1] 78233"
      ]
     },
     "metadata": {},
     "output_type": "display_data"
    }
   ],
   "source": [
    "nrow(mb_nbpqll_0518)"
   ]
  },
  {
   "cell_type": "code",
   "execution_count": 5,
   "metadata": {},
   "outputs": [],
   "source": [
    "mb_nbpqll_0518 <- sqldf(\n",
    "  \"\n",
    "  select *, \n",
    "    case when length(SS7) = 5 then 'A00'|| SS7 \n",
    "         when length(SS7) = 6 then 'A0'|| SS7 \n",
    "          else 'A' || SS7 end as SSN7 \n",
    "  from mb_nbpqll_0518 a\n",
    "  \"\n",
    "  )"
   ]
  },
  {
   "cell_type": "code",
   "execution_count": 6,
   "metadata": {},
   "outputs": [
    {
     "data": {
      "text/html": [
       "<ol class=list-inline>\n",
       "\t<li>05/22/2018</li>\n",
       "\t<li></li>\n",
       "</ol>\n"
      ],
      "text/latex": [
       "\\begin{enumerate*}\n",
       "\\item 05/22/2018\n",
       "\\item \n",
       "\\end{enumerate*}\n"
      ],
      "text/markdown": [
       "1. 05/22/2018\n",
       "2. \n",
       "\n",
       "\n"
      ],
      "text/plain": [
       "[1] 05/22/2018           \n",
       "Levels:  05/22/2018"
      ]
     },
     "metadata": {},
     "output_type": "display_data"
    }
   ],
   "source": [
    "unique(mb_nbpqll_0518$Drop_Date)"
   ]
  },
  {
   "cell_type": "code",
   "execution_count": 7,
   "metadata": {},
   "outputs": [],
   "source": [
    "mb_nbpqll_0518$Drop_Date <- '05/22/2018'"
   ]
  },
  {
   "cell_type": "code",
   "execution_count": 8,
   "metadata": {},
   "outputs": [],
   "source": [
    "mb_nbpqll_0518$Drop_Date <- as.Date(mb_nbpqll_0518$Drop_Date, \n",
    "                                    format = \"%m/%d/%Y\")"
   ]
  },
  {
   "cell_type": "code",
   "execution_count": 9,
   "metadata": {},
   "outputs": [
    {
     "name": "stdout",
     "output_type": "stream",
     "text": [
      " Date[1:78233], format: \"2018-05-22\" \"2018-05-22\" \"2018-05-22\" \"2018-05-22\" \"2018-05-22\" ...\n"
     ]
    }
   ],
   "source": [
    "str(mb_nbpqll_0518$Drop_Date)"
   ]
  },
  {
   "cell_type": "code",
   "execution_count": 10,
   "metadata": {},
   "outputs": [
    {
     "data": {
      "text/html": [
       "<time datetime=\"2018-05-22\">2018-05-22</time>"
      ],
      "text/latex": [
       "2018-05-22"
      ],
      "text/markdown": [
       "2018-05-22"
      ],
      "text/plain": [
       "[1] \"2018-05-22\""
      ]
     },
     "metadata": {},
     "output_type": "display_data"
    }
   ],
   "source": [
    "unique(mb_nbpqll_0518$Drop_Date)"
   ]
  },
  {
   "cell_type": "code",
   "execution_count": 11,
   "metadata": {},
   "outputs": [],
   "source": [
    "save(mb_nbpqll_0518,\n",
    "     file = \"C:/Users/cepps/RMC/Mail Files/R_data_objects/nb_pq_ll/mb_nbpqll_0518.RData\")"
   ]
  },
  {
   "cell_type": "markdown",
   "metadata": {},
   "source": [
    "Append to consolidated NBPQLL mailfile"
   ]
  },
  {
   "cell_type": "code",
   "execution_count": 12,
   "metadata": {},
   "outputs": [],
   "source": [
    "load(\"C:/Users/cepps/RMC/Mail Files/R_data_objects/nb_pq_ll/mb_nbpqll.RData\")"
   ]
  },
  {
   "cell_type": "code",
   "execution_count": 13,
   "metadata": {},
   "outputs": [
    {
     "data": {
      "text/html": [
       "1496883"
      ],
      "text/latex": [
       "1496883"
      ],
      "text/markdown": [
       "1496883"
      ],
      "text/plain": [
       "[1] 1496883"
      ]
     },
     "metadata": {},
     "output_type": "display_data"
    }
   ],
   "source": [
    "nrow(mb_nbpqll)"
   ]
  },
  {
   "cell_type": "code",
   "execution_count": 14,
   "metadata": {},
   "outputs": [
    {
     "data": {
      "text/html": [
       "78233"
      ],
      "text/latex": [
       "78233"
      ],
      "text/markdown": [
       "78233"
      ],
      "text/plain": [
       "[1] 78233"
      ]
     },
     "metadata": {},
     "output_type": "display_data"
    }
   ],
   "source": [
    "nrow(mb_nbpqll_0518)"
   ]
  },
  {
   "cell_type": "code",
   "execution_count": 15,
   "metadata": {},
   "outputs": [],
   "source": [
    "mb_nbpqll <- sqldf(\n",
    "  \"\n",
    "  select  mon_ind, camp_type, camp_type1, ss7, Drop_Date, NAME, STREET,\n",
    "          ZIP5, fico, apr, offer_amount, state, BranchNumber \n",
    "  from mb_nbpqll\n",
    "  \n",
    "  union all\n",
    "\n",
    "  select 101 as mon_ind, '01.NBPQLL' as camp_type,\n",
    "         'NBPQLL_0518__May-18' as camp_type1, ss7, Drop_Date,\n",
    "         name as NAME, STREET, ZIP5 as ZIP5, fico, APR as apr,\n",
    "         OFFER_AMOUNT as offer_amount, state, BranchNumber \n",
    "  from mb_nbpqll_0518\n",
    "  \"\n",
    "  )"
   ]
  },
  {
   "cell_type": "code",
   "execution_count": 16,
   "metadata": {},
   "outputs": [
    {
     "data": {
      "text/html": [
       "1575116"
      ],
      "text/latex": [
       "1575116"
      ],
      "text/markdown": [
       "1575116"
      ],
      "text/plain": [
       "[1] 1575116"
      ]
     },
     "metadata": {},
     "output_type": "display_data"
    }
   ],
   "source": [
    "nrow(mb_nbpqll)"
   ]
  },
  {
   "cell_type": "code",
   "execution_count": 17,
   "metadata": {},
   "outputs": [],
   "source": [
    "save(mb_nbpqll,\n",
    "     file = \"C:/Users/cepps/RMC/Mail Files/R_data_objects/nb_pq_ll/mb_nbpqll.RData\")"
   ]
  },
  {
   "cell_type": "code",
   "execution_count": null,
   "metadata": {},
   "outputs": [],
   "source": []
  }
 ],
 "metadata": {
  "kernelspec": {
   "display_name": "R",
   "language": "R",
   "name": "ir"
  },
  "language_info": {
   "codemirror_mode": "r",
   "file_extension": ".r",
   "mimetype": "text/x-r-source",
   "name": "R",
   "pygments_lexer": "r",
   "version": "3.4.3"
  }
 },
 "nbformat": 4,
 "nbformat_minor": 2
}
