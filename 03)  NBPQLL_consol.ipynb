{
 "cells": [
  {
   "cell_type": "code",
   "execution_count": 1,
   "metadata": {},
   "outputs": [
    {
     "name": "stderr",
     "output_type": "stream",
     "text": [
      "Loading required package: gsubfn\n",
      "Loading required package: proto\n",
      "Loading required package: RSQLite\n"
     ]
    }
   ],
   "source": [
    "# set parameters to extend java's memory usage\n",
    "# to keep xlsx scripts from crashing\n",
    "options(java.parameters = \"-Xmx8000m\")\n",
    "\n",
    "library(sqldf)"
   ]
  },
  {
   "cell_type": "code",
   "execution_count": 2,
   "metadata": {},
   "outputs": [],
   "source": [
    "df <- read.table(\"//rmc.local/dfsroot/Marketing/SourceData/Mail files For Data Warehouse/550) 116960A_RMC_NB3.1_0418PQ_Final_Mailfile.txt\",\n",
    "                 fill = TRUE, header = TRUE, sep = \"\\t\", quote = \"\")"
   ]
  },
  {
   "cell_type": "code",
   "execution_count": 3,
   "metadata": {},
   "outputs": [
    {
     "data": {
      "text/html": [
       "130000"
      ],
      "text/latex": [
       "130000"
      ],
      "text/markdown": [
       "130000"
      ],
      "text/plain": [
       "[1] 130000"
      ]
     },
     "metadata": {},
     "output_type": "display_data"
    }
   ],
   "source": [
    "nrow(df)"
   ]
  },
  {
   "cell_type": "code",
   "execution_count": 4,
   "metadata": {},
   "outputs": [],
   "source": [
    "df <- sqldf(\n",
    "  \"\n",
    "  select *, \n",
    "    case when length(SS7) = 5 then 'A00'|| SS7 \n",
    "         when length(SS7) = 6 then 'A0'|| SS7 \n",
    "          else 'A' || SS7 end as SSN7 \n",
    "  from df a\n",
    "  \"\n",
    "  )"
   ]
  },
  {
   "cell_type": "code",
   "execution_count": 5,
   "metadata": {},
   "outputs": [
    {
     "data": {
      "text/html": [
       "<ol class=list-inline>\n",
       "\t<li>04/02/2018</li>\n",
       "\t<li></li>\n",
       "</ol>\n"
      ],
      "text/latex": [
       "\\begin{enumerate*}\n",
       "\\item 04/02/2018\n",
       "\\item \n",
       "\\end{enumerate*}\n"
      ],
      "text/markdown": [
       "1. 04/02/2018\n",
       "2. \n",
       "\n",
       "\n"
      ],
      "text/plain": [
       "[1] 04/02/2018           \n",
       "Levels:  04/02/2018"
      ]
     },
     "metadata": {},
     "output_type": "display_data"
    }
   ],
   "source": [
    "unique(df$Drop_Date)"
   ]
  },
  {
   "cell_type": "code",
   "execution_count": 6,
   "metadata": {},
   "outputs": [],
   "source": [
    "df$Drop_Date <- '04/02/2018'"
   ]
  },
  {
   "cell_type": "code",
   "execution_count": 7,
   "metadata": {},
   "outputs": [],
   "source": [
    "df$Drop_Date <- as.Date(df$Drop_Date, format = \"%m/%d/%Y\")"
   ]
  },
  {
   "cell_type": "code",
   "execution_count": 8,
   "metadata": {},
   "outputs": [
    {
     "name": "stdout",
     "output_type": "stream",
     "text": [
      " Date[1:130000], format: \"2018-04-02\" \"2018-04-02\" \"2018-04-02\" \"2018-04-02\" \"2018-04-02\" ...\n"
     ]
    }
   ],
   "source": [
    "str(df$Drop_Date)"
   ]
  },
  {
   "cell_type": "code",
   "execution_count": 9,
   "metadata": {},
   "outputs": [
    {
     "data": {
      "text/html": [
       "<time datetime=\"2018-04-02\">2018-04-02</time>"
      ],
      "text/latex": [
       "2018-04-02"
      ],
      "text/markdown": [
       "2018-04-02"
      ],
      "text/plain": [
       "[1] \"2018-04-02\""
      ]
     },
     "metadata": {},
     "output_type": "display_data"
    }
   ],
   "source": [
    "unique(df$Drop_Date)"
   ]
  },
  {
   "cell_type": "code",
   "execution_count": 10,
   "metadata": {},
   "outputs": [],
   "source": [
    "save(df, file = \"C:/Users/cepps/RMC/Mail Files/R_data_objects/nb_pq_ll/mb_nbpqll_0550.RData\")"
   ]
  },
  {
   "cell_type": "code",
   "execution_count": 11,
   "metadata": {},
   "outputs": [],
   "source": [
    "save(df, file = \"C:/Users/cepps/RMC/Mail Files/R_data_objects/nb_pq_ll/mb_nbpqll.rda\")"
   ]
  },
  {
   "cell_type": "markdown",
   "metadata": {},
   "source": [
    "Append to consolidated NBPQLL mailfile"
   ]
  },
  {
   "cell_type": "code",
   "execution_count": 12,
   "metadata": {},
   "outputs": [],
   "source": [
    "load(\"C:/Users/cepps/RMC/Mail Files/R_data_objects/nb_pq_ll/mb_nbpqll.rda\")"
   ]
  },
  {
   "cell_type": "code",
   "execution_count": 13,
   "metadata": {},
   "outputs": [
    {
     "ename": "ERROR",
     "evalue": "Error in head(mb_nbpqll): object 'mb_nbpqll' not found\n",
     "output_type": "error",
     "traceback": [
      "Error in head(mb_nbpqll): object 'mb_nbpqll' not found\nTraceback:\n",
      "1. head(mb_nbpqll)"
     ]
    }
   ],
   "source": [
    "head(mb_nbpqll)"
   ]
  },
  {
   "cell_type": "code",
   "execution_count": null,
   "metadata": {},
   "outputs": [],
   "source": [
    "nrow(df)"
   ]
  },
  {
   "cell_type": "code",
   "execution_count": null,
   "metadata": {},
   "outputs": [],
   "source": [
    "mb_nbpqll <- sqldf(\n",
    "  \"\n",
    "  select  mon_ind, camp_type, camp_type1, ss7, Drop_Date, NAME, STREET,\n",
    "          ZIP5, fico, apr, offer_amount, state, BranchNumber \n",
    "  from mb_nbpqll\n",
    "  \n",
    "  union all\n",
    "\n",
    "  select 101 as mon_ind, '01.NBPQLL' as camp_type,\n",
    "         'NBPQLL_0518__May-18' as camp_type1, ss7, Drop_Date,\n",
    "         name as NAME, STREET, ZIP5 as ZIP5, fico, APR as apr,\n",
    "         OFFER_AMOUNT as offer_amount, state, BranchNumber \n",
    "  from df\n",
    "  \"\n",
    "  )"
   ]
  },
  {
   "cell_type": "code",
   "execution_count": null,
   "metadata": {},
   "outputs": [],
   "source": [
    "nrow(mb_nbpqll)"
   ]
  },
  {
   "cell_type": "code",
   "execution_count": null,
   "metadata": {},
   "outputs": [],
   "source": [
    "save(mb_nbpqll,\n",
    "     file = \"C:/Users/cepps/RMC/Mail Files/R_data_objects/nb_pq_ll/mb_nbpqll.RData\")"
   ]
  },
  {
   "cell_type": "code",
   "execution_count": null,
   "metadata": {},
   "outputs": [],
   "source": []
  }
 ],
 "metadata": {
  "kernelspec": {
   "display_name": "R",
   "language": "R",
   "name": "ir"
  },
  "language_info": {
   "codemirror_mode": "r",
   "file_extension": ".r",
   "mimetype": "text/x-r-source",
   "name": "R",
   "pygments_lexer": "r",
   "version": "3.4.3"
  }
 },
 "nbformat": 4,
 "nbformat_minor": 2
}
