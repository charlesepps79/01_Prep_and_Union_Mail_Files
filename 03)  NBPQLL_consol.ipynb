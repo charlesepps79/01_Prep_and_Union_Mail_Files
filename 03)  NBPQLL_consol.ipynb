{
 "cells": [
  {
   "cell_type": "code",
   "execution_count": 1,
   "metadata": {},
   "outputs": [],
   "source": [
    "mb_nbpqll_0518 <- read.table(\"E:/Pallavi/2018/rev1/rev2/mailfile/mailfiles/562) 118063A_RMC_NB4.0_0518PQ_Final_Mailfile.TXT\",\n",
    "                             fill = TRUE, header = TRUE, sep = \"\\t\",\n",
    "                             quote = \"\")"
   ]
  },
  {
   "cell_type": "code",
   "execution_count": null,
   "metadata": {},
   "outputs": [],
   "source": [
    "nrow(mb_nbpqll_0518)\n",
    "\n",
    "mb_nbpqll_0518 <- sqldf(\n",
    "  \"\n",
    "  select *, \n",
    "    case when length(SS7) = 5 then 'A00'|| SS7 \n",
    "         when length(SS7) = 6 then 'A0'|| SS7 \n",
    "          else 'A' || SS7 end as SSN7 \n",
    "  from mb_nbpqll_0518 a\n",
    "  \"\n",
    "  )\n",
    "\n",
    "unique(mb_nbpqll_0518$Drop_Date)\n",
    "\n",
    "mb_nbpqll_0518$Drop_Date <- '05/22/2018'\n",
    "\n",
    "mb_nbpqll_0518$Drop_Date <- as.Date(mb_nbpqll_0518$Drop_Date, \n",
    "                                    format = \"%m/%d/%Y\")\n",
    "\n",
    "str(mb_nbpqll_0518$Drop_Date)\n",
    "\n",
    "unique(mb_nbpqll_0518$Drop_Date)\n",
    "\n",
    "save(mb_nbpqll_0518,\n",
    "     file = \"E:/Pallavi/2018/rev1/rev2/mailfile/mailfiles/mb_nbpqll_0518.RData\")\n",
    "\n",
    "# Append to consolidated NBPQLL mailfile\n",
    "\n",
    "load(\"E:/Pallavi/2018/rev1/rev2/mailfile/mailfiles/mb_nbpqll.RData\")\n",
    "\n",
    "nrow(mb_nbpqll)\n",
    "\n",
    "nrow(mb_nbpqll_0518)\n",
    "\n",
    "mb_nbpqll <- sqldf(\n",
    "  \"\n",
    "  select  mon_ind, camp_type, camp_type1, ss7, Drop_Date, NAME, STREET,\n",
    "          ZIP5, fico, apr, offer_amount, state, BranchNumber \n",
    "  from mb_nbpqll\n",
    "  \n",
    "  union all\n",
    "\n",
    "  select 101 as mon_ind, '01.NBPQLL' as camp_type,\n",
    "         'NBPQLL_0518__May-18' as camp_type1, ss7, Drop_Date,\n",
    "         name as NAME, STREET, ZIP5 as ZIP5, fico, APR as apr,\n",
    "         OFFER_AMOUNT as offer_amount, state, BranchNumber \n",
    "  from mb_nbpqll_0518\n",
    "  \"\n",
    "  )\n",
    "\n",
    "nrow(mb_nbpqll)\n",
    "\n",
    "save(mb_nbpqll,\n",
    "     file = \"E:/Pallavi/2018/rev1/rev2/mailfile/mailfiles/new_consol/mb_nbpqll.RData\")"
   ]
  }
 ],
 "metadata": {
  "kernelspec": {
   "display_name": "R",
   "language": "R",
   "name": "ir"
  },
  "language_info": {
   "codemirror_mode": "r",
   "file_extension": ".r",
   "mimetype": "text/x-r-source",
   "name": "R",
   "pygments_lexer": "r",
   "version": "3.4.3"
  }
 },
 "nbformat": 4,
 "nbformat_minor": 2
}
