{
 "cells": [
  {
   "cell_type": "markdown",
   "metadata": {},
   "source": [
    "Load libraries\n",
    "\n",
    "Set parameters to extend java's memory usage to keep xlsx scripts from crashing"
   ]
  },
  {
   "cell_type": "code",
   "execution_count": null,
   "metadata": {},
   "outputs": [],
   "source": [
    "# set parameters to extend java's memory usage\n",
    "# to keep xlsx scripts from crashing\n",
    "options(java.parameters = \"-Xmx8000m\")\n",
    "\n",
    "library(sqldf)"
   ]
  },
  {
   "cell_type": "markdown",
   "metadata": {},
   "source": [
    "Read in FBXSITA final mailfile"
   ]
  },
  {
   "cell_type": "code",
   "execution_count": null,
   "metadata": {},
   "outputs": [],
   "source": [
    "mb_pbfbxs_ita <- read.table(\"//rmc.local/dfsroot/Marketing/SourceData/Mail files For Data Warehouse/581) 118645A_RMC_PBFBXS8.0_18ITA_Setupheader.TXT\", \n",
    "                                 fill=TRUE, header=TRUE, sep=\"\\t\", quote=\"\")"
   ]
  },
  {
   "cell_type": "markdown",
   "metadata": {},
   "source": [
    "Print dimentions"
   ]
  },
  {
   "cell_type": "code",
   "execution_count": null,
   "metadata": {},
   "outputs": [],
   "source": [
    "dim(mb_pbfbxs_ita)"
   ]
  },
  {
   "cell_type": "markdown",
   "metadata": {},
   "source": [
    "Print summary of variables"
   ]
  },
  {
   "cell_type": "code",
   "execution_count": null,
   "metadata": {},
   "outputs": [],
   "source": [
    "str(mb_pbfbxs_ita)\n",
    "summary(mb_pbfbxs_ita)"
   ]
  },
  {
   "cell_type": "markdown",
   "metadata": {},
   "source": [
    "Store `ï..campaign_id` as `campaign_id`"
   ]
  },
  {
   "cell_type": "code",
   "execution_count": null,
   "metadata": {},
   "outputs": [],
   "source": [
    "mb_pbfbxs_ita$campaign_id <- mb_pbfbxs_ita$ï..campaign_id"
   ]
  },
  {
   "cell_type": "markdown",
   "metadata": {},
   "source": [
    "Find unique campaign IDs"
   ]
  },
  {
   "cell_type": "code",
   "execution_count": null,
   "metadata": {},
   "outputs": [],
   "source": [
    "unique(mb_pbfbxs_ita$Campaign_id)"
   ]
  },
  {
   "cell_type": "markdown",
   "metadata": {},
   "source": [
    "Subset the FBITA campaign"
   ]
  },
  {
   "cell_type": "code",
   "execution_count": null,
   "metadata": {},
   "outputs": [],
   "source": [
    "mb_fb_ita_1 <- sqldf(\n",
    "  \"\n",
    "  SELECT * \n",
    "  FROM mb_pbfbxs_ita \n",
    "  WHERE campaign_id IN ('FBITA5.0_2018')\n",
    "  \"\n",
    "  )"
   ]
  },
  {
   "cell_type": "markdown",
   "metadata": {},
   "source": [
    "Print dimensions"
   ]
  },
  {
   "cell_type": "code",
   "execution_count": null,
   "metadata": {},
   "outputs": [],
   "source": [
    "dim(mb_fb_ita_1)"
   ]
  },
  {
   "cell_type": "markdown",
   "metadata": {},
   "source": [
    "Print summary of variables"
   ]
  },
  {
   "cell_type": "code",
   "execution_count": null,
   "metadata": {},
   "outputs": [],
   "source": [
    "str(mb_fb_ita_1)\n",
    "summary(mb_fb_ita_1)"
   ]
  },
  {
   "cell_type": "markdown",
   "metadata": {},
   "source": [
    "Print column names"
   ]
  },
  {
   "cell_type": "code",
   "execution_count": null,
   "metadata": {},
   "outputs": [],
   "source": [
    "colnames(mb_fb_ita_1)"
   ]
  },
  {
   "cell_type": "markdown",
   "metadata": {},
   "source": [
    "Print `Drop_Date` variable type"
   ]
  },
  {
   "cell_type": "code",
   "execution_count": null,
   "metadata": {},
   "outputs": [],
   "source": [
    "typeof(mb_fb_ita_1$Drop_Date)"
   ]
  },
  {
   "cell_type": "markdown",
   "metadata": {},
   "source": [
    "Convert `Drop_Date` from integer to date type variable"
   ]
  },
  {
   "cell_type": "code",
   "execution_count": null,
   "metadata": {},
   "outputs": [],
   "source": [
    "mb_fb_ita_1$Drop_Date <- as.Date(\"2018-05-07\", format = \"%Y-%m-%d\", origin = \"1970-01-01\")"
   ]
  },
  {
   "cell_type": "markdown",
   "metadata": {},
   "source": [
    "Save FBITA R data object"
   ]
  },
  {
   "cell_type": "code",
   "execution_count": null,
   "metadata": {},
   "outputs": [],
   "source": [
    "save(mb_fb_ita_1,\n",
    "     file = \"C:/Users/cepps/RMC/Mail Files/R_data_objects/fbxs_ita/mb_fb_ita_0518.RData\")"
   ]
  },
  {
   "cell_type": "markdown",
   "metadata": {},
   "source": [
    "Load master FBITA R data object"
   ]
  },
  {
   "cell_type": "code",
   "execution_count": null,
   "metadata": {},
   "outputs": [],
   "source": [
    "load(\"E:/Pallavi/2018/rev1/rev2/mailfile/mailfiles/mb_fb_ita.RData\")"
   ]
  },
  {
   "cell_type": "code",
   "execution_count": null,
   "metadata": {},
   "outputs": [],
   "source": [
    "load(\"C:/Users/cepps/RMC/Mail Files/R_data_objects/fbxs_ita/mb_fb_ita.RData\")"
   ]
  },
  {
   "cell_type": "code",
   "execution_count": null,
   "metadata": {},
   "outputs": [],
   "source": [
    "unique(mb_fb_ita$camp_type1)"
   ]
  },
  {
   "cell_type": "markdown",
   "metadata": {},
   "source": [
    "Convert FBITA master set variable, `Drop_Date`, from double to date type"
   ]
  },
  {
   "cell_type": "code",
   "execution_count": null,
   "metadata": {},
   "outputs": [],
   "source": [
    "mb_fb_ita$Drop_Date <- as.Date(mb_fb_ita$Drop_Date,\n",
    "                               format = \"%Y-%m-%d\",\n",
    "                               origin = \"1970-01-01\")"
   ]
  },
  {
   "cell_type": "code",
   "execution_count": null,
   "metadata": {},
   "outputs": [],
   "source": [
    "write.table(mb_fb_ita, \"C:/Users/cepps/RMC/Mail Files/R_data_objects/fbxs_ita/mb_fb_ita_ALL.txt\", sep=\"\\t\", col.names = TRUE)"
   ]
  },
  {
   "cell_type": "markdown",
   "metadata": {},
   "source": [
    "Subset and join the master FBITA and current FBITA files"
   ]
  },
  {
   "cell_type": "code",
   "execution_count": null,
   "metadata": {},
   "outputs": [],
   "source": [
    "mb_fb_ita <- sqldf(\n",
    "   \"\n",
    "   select mon_ind, \n",
    "          camp_type, \n",
    "          camp_type1, \n",
    "          ss7, \n",
    "          Drop_Date, \n",
    "          NAME, \n",
    "          STREET,\n",
    "          ZIP5, \n",
    "          fico, \n",
    "          apr, \n",
    "          offer_amount, \n",
    "          state, \n",
    "          BranchNumber \n",
    "   from mb_fb_ita\n",
    "   \n",
    "   union all\n",
    "\n",
    "   select 104 as mon_ind, \n",
    "          '05.FB_ITA' as camp_type,\n",
    "          'FB_ITA_0818__Aug-18' as camp_type1, \n",
    "          SSN as ss7, \n",
    "          Drop_Date,\n",
    "          firstName||' '||lastName as NAME, \n",
    "          addressOne as STREET, \n",
    "          zip as ZIP5, \n",
    "          0 as fico, \n",
    "          0 as apr, \n",
    "          0 as offer_amount, \n",
    "          state, \n",
    "          Branch as BranchNumber \n",
    "   from mb_fb_ita_1\n",
    "   \"\n",
    "   )"
   ]
  },
  {
   "cell_type": "code",
   "execution_count": null,
   "metadata": {},
   "outputs": [],
   "source": [
    "mb_fb_ita <- sqldf(\n",
    "   \"\n",
    "   select mon_ind, \n",
    "          camp_type, \n",
    "          camp_type1, \n",
    "          ss7, \n",
    "          Drop_Date, \n",
    "          NAME, \n",
    "          STREET,\n",
    "          ZIP5, \n",
    "          fico, \n",
    "          apr, \n",
    "          offer_amount, \n",
    "          state, \n",
    "          BranchNumber \n",
    "   from mb_fb_ita\n",
    "   \n",
    "   union all\n",
    "\n",
    "   select 101 as mon_ind, \n",
    "          '05.FB_ITA' as camp_type,\n",
    "          'FB_ITA_0518_May-18' as camp_type1, \n",
    "          ss7, \n",
    "          Drop_Date,\n",
    "          name1 as NAME, \n",
    "          STREET, \n",
    "          ZIP5, \n",
    "          0 as fico, \n",
    "          0 as apr, \n",
    "          0 as offer_amount, \n",
    "          state, \n",
    "          BranchNumber \n",
    "   from mb_fb_ita_1\n",
    "   \"\n",
    "   )"
   ]
  },
  {
   "cell_type": "markdown",
   "metadata": {},
   "source": [
    "Save condensed master FBITA R data object"
   ]
  },
  {
   "cell_type": "code",
   "execution_count": null,
   "metadata": {},
   "outputs": [],
   "source": [
    "save(mb_fb_ita, \n",
    "     file = \"C:/Users/cepps/RMC/Mail Files/R_data_objects/fbxs_ita/new_consol/mb_fb_ita.RData\")"
   ]
  },
  {
   "cell_type": "markdown",
   "metadata": {},
   "source": [
    "Subset auto and retail cross sell campaigns as one cross sell data set"
   ]
  },
  {
   "cell_type": "code",
   "execution_count": null,
   "metadata": {},
   "outputs": [],
   "source": [
    "mb_xs_ita_1 <- sqldf(\n",
    "   \"\n",
    "   select * \n",
    "   from mb_pbfbxs_ita \n",
    "   where campaign_id in ('RetailXSITA5.0_2018', 'AutoXSITA5.0_2018')\n",
    "   \"\n",
    "   )"
   ]
  },
  {
   "cell_type": "markdown",
   "metadata": {},
   "source": [
    "Print dimensions"
   ]
  },
  {
   "cell_type": "code",
   "execution_count": null,
   "metadata": {},
   "outputs": [],
   "source": [
    "dim(mb_xs_ita_1)"
   ]
  },
  {
   "cell_type": "markdown",
   "metadata": {},
   "source": [
    "Print summary of variables"
   ]
  },
  {
   "cell_type": "code",
   "execution_count": null,
   "metadata": {},
   "outputs": [],
   "source": [
    "str(mb_xs_ita_1)\n",
    "summary(mb_xs_ita_1)"
   ]
  },
  {
   "cell_type": "markdown",
   "metadata": {},
   "source": [
    "Convert `Drop_Date` from integer to date type"
   ]
  },
  {
   "cell_type": "code",
   "execution_count": null,
   "metadata": {},
   "outputs": [],
   "source": [
    "mb_xs_ita_1$Drop_Date <- as.Date(\"2018-05-07\", format=\"%Y-%m-%d\", origin=\"1970-01-01\")"
   ]
  },
  {
   "cell_type": "code",
   "execution_count": null,
   "metadata": {},
   "outputs": [],
   "source": [
    "typeof(mb_xs_ita_1$Drop_Date)"
   ]
  },
  {
   "cell_type": "markdown",
   "metadata": {},
   "source": [
    "Save XSITA dataset as R data oblect"
   ]
  },
  {
   "cell_type": "code",
   "execution_count": null,
   "metadata": {},
   "outputs": [],
   "source": [
    "save(mb_xs_ita_1, \n",
    "     file = \"C:/Users/cepps/RMC/Mail Files/R_data_objects/fbxs_ita/mb_xs_ita_0518.RData\")"
   ]
  },
  {
   "cell_type": "markdown",
   "metadata": {},
   "source": [
    "Load XSELLITA master dataset"
   ]
  },
  {
   "cell_type": "code",
   "execution_count": null,
   "metadata": {},
   "outputs": [],
   "source": [
    "load(\"E:/Pallavi/2018/rev1/rev2/mailfile/mailfiles/mb_xsell_ita.RData\")"
   ]
  },
  {
   "cell_type": "code",
   "execution_count": null,
   "metadata": {},
   "outputs": [],
   "source": [
    "load(\"C:/Users/cepps/RMC/Mail Files/R_data_objects/fbxs_ita/mb_xsell_ita.RData\")"
   ]
  },
  {
   "cell_type": "code",
   "execution_count": null,
   "metadata": {},
   "outputs": [],
   "source": [
    "unique(mb_xsell_ita$camp_type1)"
   ]
  },
  {
   "cell_type": "code",
   "execution_count": null,
   "metadata": {},
   "outputs": [],
   "source": [
    "write.csv(mb_xsell_ita, file = \"C:/Users/cepps/RMC/Mail Files/R_data_objects/fbxs_ita/mb_xsell_ita_ALL.csv\")"
   ]
  },
  {
   "cell_type": "code",
   "execution_count": null,
   "metadata": {},
   "outputs": [],
   "source": [
    "write.table(mb_xsell_ita, \"C:/Users/cepps/RMC/Mail Files/R_data_objects/fbxs_ita/mb_xsell_ita_ALL.txt\", sep=\"\\t\", col.names = TRUE)"
   ]
  },
  {
   "cell_type": "code",
   "execution_count": null,
   "metadata": {
    "scrolled": true
   },
   "outputs": [],
   "source": [
    "str(mb_xsell_ita)\n",
    "summary(mb_xsell_ita)"
   ]
  },
  {
   "cell_type": "markdown",
   "metadata": {},
   "source": [
    "Convert `Drop_Date` from integer to date type"
   ]
  },
  {
   "cell_type": "code",
   "execution_count": null,
   "metadata": {},
   "outputs": [],
   "source": [
    "mb_xsell_ita$Drop_Date <- as.Date(mb_xsell_ita$Drop_Date,\n",
    "                                  format = \"%Y-%m-%d\",\n",
    "                                  origin = \"1970-01-01\")"
   ]
  },
  {
   "cell_type": "markdown",
   "metadata": {},
   "source": [
    "Subset and join the master XSELLITA and current XSELLITA files"
   ]
  },
  {
   "cell_type": "code",
   "execution_count": null,
   "metadata": {},
   "outputs": [],
   "source": [
    "mb_xsell_ita <- sqldf(\n",
    "   \"\n",
    "   select mon_ind, \n",
    "          camp_type, \n",
    "          camp_type1, \n",
    "          ss7, \n",
    "          Drop_Date, \n",
    "          NAME, \n",
    "          STREET,\n",
    "          ZIP5, \n",
    "          fico, \n",
    "          apr, \n",
    "          offer_amount, \n",
    "          state, \n",
    "          BranchNumber \n",
    "   from mb_xsell_ita\n",
    "   \n",
    "   union all\n",
    "\n",
    "   select 104 as mon_ind, \n",
    "          '07.XSELL_ITA' as camp_type,\n",
    "          'XSELL_ITA_0818' as camp_type1, \n",
    "          SSN as ss7, \n",
    "          Drop_Date,\n",
    "          firstName||' '||lastName as NAME, \n",
    "          addressOne as STREET, \n",
    "          zip as ZIP5, \n",
    "          0 as fico, \n",
    "          0 as apr, \n",
    "          0 as offer_amount, \n",
    "          state, \n",
    "          Branch as BranchNumber \n",
    "   from mb_xs_ita_1\n",
    "   \"\n",
    "   )"
   ]
  },
  {
   "cell_type": "code",
   "execution_count": null,
   "metadata": {},
   "outputs": [],
   "source": [
    "mb_xsell_ita <- sqldf(\n",
    "   \"\n",
    "   select mon_ind, \n",
    "          camp_type, \n",
    "          camp_type1, \n",
    "          ss7, \n",
    "          Drop_Date, \n",
    "          NAME, \n",
    "          STREET,\n",
    "          ZIP5, \n",
    "          fico, \n",
    "          apr, \n",
    "          offer_amount, \n",
    "          state, \n",
    "          BranchNumber \n",
    "   from mb_xsell_ita\n",
    "\n",
    "   union all\n",
    "\n",
    "   select 101 as mon_ind, \n",
    "          '07.XSELL_ITA' as camp_type, \n",
    "          'XSELL_ITA_0518' as camp_type1, \n",
    "          ss7, \n",
    "          Drop_Date,\n",
    "          name1 as NAME, \n",
    "          STREET, \n",
    "          ZIP5 as ZIP5, \n",
    "          fico, \n",
    "          0 as apr,\n",
    "          0 as offer_amount, \n",
    "          state, \n",
    "          BranchNumber \n",
    "   from mb_xs_ita_1\n",
    "   \"\n",
    "   )"
   ]
  },
  {
   "cell_type": "markdown",
   "metadata": {},
   "source": [
    "Save condensed master XSELLITA dataset as R data object"
   ]
  },
  {
   "cell_type": "code",
   "execution_count": null,
   "metadata": {},
   "outputs": [],
   "source": [
    "save(mb_xsell_ita, \n",
    "     file = \"C:/Users/cepps/RMC/Mail Files/R_data_objects/fbxs_ita/new_consol/mb_xsell_ita.RData\")"
   ]
  },
  {
   "cell_type": "code",
   "execution_count": null,
   "metadata": {},
   "outputs": [],
   "source": []
  }
 ],
 "metadata": {
  "kernelspec": {
   "display_name": "R",
   "language": "R",
   "name": "ir"
  },
  "language_info": {
   "codemirror_mode": "r",
   "file_extension": ".r",
   "mimetype": "text/x-r-source",
   "name": "R",
   "pygments_lexer": "r",
   "version": "3.4.3"
  }
 },
 "nbformat": 4,
 "nbformat_minor": 2
}
