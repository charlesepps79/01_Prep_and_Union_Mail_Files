{
 "cells": [
  {
   "cell_type": "markdown",
   "metadata": {},
   "source": [
    "Load libraries\n",
    "\n",
    "Set parameters to extend java's memory usage to keep xlsx scripts from crashing"
   ]
  },
  {
   "cell_type": "code",
   "execution_count": 1,
   "metadata": {},
   "outputs": [
    {
     "name": "stderr",
     "output_type": "stream",
     "text": [
      "Loading required package: gsubfn\n",
      "Loading required package: proto\n",
      "Loading required package: RSQLite\n"
     ]
    }
   ],
   "source": [
    "# set parameters to extend java's memory usage\n",
    "# to keep xlsx scripts from crashing\n",
    "options(java.parameters = \"-Xmx8000m\")\n",
    "\n",
    "library(sqldf)"
   ]
  },
  {
   "cell_type": "markdown",
   "metadata": {},
   "source": [
    "Read in FBXSITA final mailfile"
   ]
  },
  {
   "cell_type": "code",
   "execution_count": 2,
   "metadata": {},
   "outputs": [],
   "source": [
    "mb_pbfbxs_ita_0518 <- read.table(\"E:/Pallavi/2018/rev1/rev2/mailfile/mailfiles/561) 117487A_RMC_PBFBXS5.0_18ITA_Final_Mailfile.TXT\", \n",
    "                                 fill=TRUE, header=TRUE, sep=\"\\t\",\n",
    "                                 quote=\"\")"
   ]
  },
  {
   "cell_type": "markdown",
   "metadata": {},
   "source": [
    "Print dimentions"
   ]
  },
  {
   "cell_type": "code",
   "execution_count": 3,
   "metadata": {},
   "outputs": [
    {
     "data": {
      "text/html": [
       "<ol class=list-inline>\n",
       "\t<li>97500</li>\n",
       "\t<li>49</li>\n",
       "</ol>\n"
      ],
      "text/latex": [
       "\\begin{enumerate*}\n",
       "\\item 97500\n",
       "\\item 49\n",
       "\\end{enumerate*}\n"
      ],
      "text/markdown": [
       "1. 97500\n",
       "2. 49\n",
       "\n",
       "\n"
      ],
      "text/plain": [
       "[1] 97500    49"
      ]
     },
     "metadata": {},
     "output_type": "display_data"
    }
   ],
   "source": [
    "dim(mb_pbfbxs_ita_0518)"
   ]
  },
  {
   "cell_type": "markdown",
   "metadata": {},
   "source": [
    "Print summary of variables"
   ]
  },
  {
   "cell_type": "code",
   "execution_count": 4,
   "metadata": {},
   "outputs": [
    {
     "name": "stdout",
     "output_type": "stream",
     "text": [
      "'data.frame':\t97500 obs. of  49 variables:\n",
      " $ ï..campaign_id     : Factor w/ 3 levels \"AutoXSITA5.0_2018\",..: 2 2 2 2 2 2 2 2 3 2 ...\n",
      " $ HHfilecode         : Factor w/ 2 levels \"FB\",\"XS\": 1 1 1 1 1 1 1 1 2 1 ...\n",
      " $ BATCH              : Factor w/ 2 levels \"FMITA\",\"PMITA\": 1 1 1 1 1 1 1 1 1 1 ...\n",
      " $ LETTERCD           : Factor w/ 2 levels \"FB\",\"XS\": 1 1 1 1 1 1 1 1 2 1 ...\n",
      " $ SS7                : Factor w/ 97231 levels \"0001218\",\"0005366\",..: 45152 43563 80601 69759 79283 84223 48348 55892 22820 7414 ...\n",
      " $ NAME1              : Factor w/ 89107 levels \"A. Coker\",\"A. Ja Nay Bucholtz\",..: 15041 83442 47438 4102 85483 86470 77900 7859 14536 37169 ...\n",
      " $ ADDR2              : Factor w/ 2054 levels \"\",\"'\",\" \",\"(chayenne Sub)\",..: 3 3 3 3 3 3 3 3 3 3 ...\n",
      " $ STREET             : Factor w/ 94356 levels \"\",\"1 A St. Ste A\",..: 33058 66371 5598 2499 2646 91016 32165 6839 6540 6541 ...\n",
      " $ CITY               : Factor w/ 2659 levels \"\",\"Abbeville\",..: 225 225 225 612 612 1122 1921 1921 1921 1921 ...\n",
      " $ STATE              : Factor w/ 10 levels \"\",\"AL\",\"GA\",\"NC\",..: 3 3 3 3 3 3 3 3 3 3 ...\n",
      " $ ZIP5               : int  31302 31302 31302 31305 31305 31313 31322 31322 31322 31322 ...\n",
      " $ ZIP4               : int  8031 9218 8111 5800 5828 4518 2306 3137 3360 3377 ...\n",
      " $ DOB                : int  19881023 19701105 19620726 19811202 19751023 19890924 19560714 19620117 19710828 19840701 ...\n",
      " $ Made_UnMade        : logi  NA NA NA NA NA NA ...\n",
      " $ QSEQNUM            : int  1 2 3 4 5 6 7 8 9 10 ...\n",
      " $ Drop_Date          : Factor w/ 2 levels \"\",\"05/07/2018\": 2 2 2 2 2 2 2 2 2 2 ...\n",
      " $ Closed_Date        : Factor w/ 2 levels \"\",\"06/05/2018\": 2 2 2 2 2 2 2 2 2 2 ...\n",
      " $ MLA_Status         : Factor w/ 3 levels \"\",\"N\",\"Z\": 2 2 2 2 2 2 2 2 2 2 ...\n",
      " $ BranchNumber       : int  1101 1101 1101 1102 1102 1101 1101 1101 1101 1101 ...\n",
      " $ BranchCompany      : Factor w/ 2 levels \"\",\"Regional Finance\": 2 2 2 2 2 2 2 2 2 2 ...\n",
      " $ BranchStreetAddress: Factor w/ 341 levels \"\",\"100 Forum Drive, Suite 4\",..: 289 289 289 206 206 289 289 289 289 289 ...\n",
      " $ BranchCity         : Factor w/ 261 levels \"\",\"Abilene\",\"Abingdon\",..: 217 217 217 42 42 217 217 217 217 217 ...\n",
      " $ BranchState        : Factor w/ 10 levels \"\",\"AL\",\"GA\",\"NC\",..: 3 3 3 3 3 3 3 3 3 3 ...\n",
      " $ BranchZip          : Factor w/ 341 levels \"\",\"20110-1700\",..: 129 129 129 130 130 129 129 129 129 129 ...\n",
      " $ BranchPhone        : Factor w/ 341 levels \"\",\"(205) 227-0090\",..: 290 290 290 289 289 290 290 290 290 290 ...\n",
      " $ BranchFax          : Factor w/ 341 levels \"\",\"(205) 210-4965\",..: 304 304 304 303 303 304 304 304 304 304 ...\n",
      " $ BranchManager      : Factor w/ 338 levels \"\",\" \",\"Aaron Balls\",..: 85 85 85 38 38 85 85 85 85 85 ...\n",
      " $ BranchSupervisor   : Factor w/ 41 levels \"\",\" \",\"Andrew Ivy\",..: 28 28 28 28 28 28 28 28 28 28 ...\n",
      " $ BranchStateVP      : Factor w/ 7 levels \"\",\" \",\"Heather Meares\",..: 3 3 3 3 3 3 3 3 3 3 ...\n",
      " $ Distance_to_Branch : num  14.8 13.2 18.7 17.9 17.9 ...\n",
      " $ ConProfile         : num  NA NA NA NA 1e+12 ...\n",
      " $ BrAcctNo           : Factor w/ 96890 levels \"\",\"0101034890\",..: 83686 83833 83791 83971 84010 83814 83475 83550 94432 83815 ...\n",
      " $ CifNo              : Factor w/ 87611 levels \"\",\" \",\"100025\",..: 74119 72293 75862 76677 76110 79270 73692 75360 2 79399 ...\n",
      " $ MGC                : logi  NA NA NA NA NA NA ...\n",
      " $ Month_Split        : logi  NA NA NA NA NA NA ...\n",
      " $ FNAME              : Factor w/ 15025 levels \"\",\"A\",\"A Ja Nay\",..: 2451 13784 7299 660 14345 14462 12742 1368 2412 6158 ...\n",
      " $ MNAME              : Factor w/ 416 levels \"\",\" \",\"\\\"TRENT\\\"\",..: 2 2 7 140 7 2 280 183 2 7 ...\n",
      " $ LNAME              : Factor w/ 24763 levels \"\",\"A\",\"Aaron\",..: 17388 19474 18108 17129 17655 18793 9206 23703 1914 14078 ...\n",
      " $ amt_given1         : logi  NA NA NA NA NA NA ...\n",
      " $ up_to_OFFER        : Factor w/ 3 levels \"\",\"6,000\",\"7,000\": 3 3 3 3 3 3 3 3 3 3 ...\n",
      " $ From_Offer_Amount  : Factor w/ 4 levels \"\",\"2,501\",\"600\",..: 3 3 3 3 3 3 3 3 3 3 ...\n",
      " $ Fico_Range_25pt    : Factor w/ 21 levels \"\",\" \",\"<500\",..: 8 2 10 9 10 7 9 12 5 9 ...\n",
      " $ State1             : Factor w/ 10 levels \"\",\" \",\"AL\",\"GA\",..: 4 4 4 4 4 4 4 4 4 4 ...\n",
      " $ Test_Code          : logi  NA NA NA NA NA NA ...\n",
      " $ fico               : int  593 NA 639 608 626 551 623 675 523 606 ...\n",
      " $ POffDate           : Factor w/ 1113 levels \"\",\" \",\"2014-11-17\",..: 954 445 1018 854 1080 1090 755 871 2 1052 ...\n",
      " $ RMC_Phone          : Factor w/ 57154 levels \"\",\" \",\"()-\",\"(000)000-0001\",..: 41940 42054 41829 41973 41900 2 41887 41830 55930 2 ...\n",
      " $ RMC_CellPhone      : Factor w/ 15241 levels \"\",\" \",\"()-\",\"(110)906-1367\",..: 14042 2 2026 2 2 14490 2 2 2 10107 ...\n",
      " $ X                  : logi  NA NA NA NA NA NA ...\n"
     ]
    },
    {
     "data": {
      "text/plain": [
       "             ï..campaign_id  HHfilecode   BATCH       LETTERCD  \n",
       " AutoXSITA5.0_2018  : 2025   FB:88173   FMITA:49118   FB:88173  \n",
       " FBITA5.0_2018      :88173   XS: 9327   PMITA:48382   XS: 9327  \n",
       " RetailXSITA5.0_2018: 7302                                      \n",
       "                                                                \n",
       "                                                                \n",
       "                                                                \n",
       "                                                                \n",
       "      SS7                    NAME1           ADDR2                STREET     \n",
       " 3709069:    3   Maria Garcia   :   37          :94019               :  124  \n",
       " 0043521:    2   Maria Martinez :   36          :   77   P.O. Box 93 :    7  \n",
       " 0118294:    2   Jose Hernandez :   34   Apt. B :   48   P.O. Box 203:    6  \n",
       " 0137024:    2   Maria Hernandez:   34   Rd.    :   47   P.O. Box 34 :    6  \n",
       " 0177992:    2   Maria Rodriguez:   34   Apt. A :   46   P.O. Box 75 :    6  \n",
       " 0194846:    2   Jose Martinez  :   33   Apt. D :   33   P.O. Box 114:    5  \n",
       " (Other):97487   (Other)        :97292   (Other): 3230   (Other)     :97346  \n",
       "          CITY           STATE            ZIP5            ZIP4     \n",
       " Houston    : 4841   TX     :39010   Min.   :20112   Min.   :   1  \n",
       " San Antonio: 3896   SC     :15867   1st Qu.:29730   1st Qu.:2747  \n",
       " El Paso    : 2597   AL     :12186   Median :38474   Median :4468  \n",
       " Fort Worth : 1293   NC     : 9221   Mean   :54625   Mean   :4801  \n",
       " Charlotte  : 1186   TN     : 7930   3rd Qu.:77433   3rd Qu.:6760  \n",
       " Dallas     : 1180   OK     : 6485   Max.   :88352   Max.   :9999  \n",
       " (Other)    :82507   (Other): 6801   NA's   :611     NA's   :611   \n",
       "      DOB           Made_UnMade       QSEQNUM           Drop_Date    \n",
       " Min.   :18810310   Mode:logical   Min.   :    1             :  611  \n",
       " 1st Qu.:19571023   NA's:97500     1st Qu.:24376   05/07/2018:96889  \n",
       " Median :19680318                  Median :48764                     \n",
       " Mean   :19677197                  Mean   :48767                     \n",
       " 3rd Qu.:19790323                  3rd Qu.:73162                     \n",
       " Max.   :20211114                  Max.   :97576                     \n",
       " NA's   :15213                     NA's   :611                       \n",
       "     Closed_Date    MLA_Status  BranchNumber             BranchCompany  \n",
       "           :  611    :  611    Min.   : 101.0                   :  611  \n",
       " 06/05/2018:96889   N:82280    1st Qu.: 520.0   Regional Finance:96889  \n",
       "                    Z:14609    Median : 574.0                           \n",
       "                               Mean   : 602.2                           \n",
       "                               3rd Qu.: 803.0                           \n",
       "                               Max.   :1217.0                           \n",
       "                               NA's   :611                              \n",
       "                          BranchStreetAddress       BranchCity   \n",
       " 1703 Shaver Street                 :  751    San Antonio: 4319  \n",
       " 2021 Gallatin Pike North, Suite 240:  747    Houston    : 2796  \n",
       " 3910 Fairmont Parkway, Suite D     :  745    El Paso    : 2606  \n",
       " 6240 Phelan Blvd                   :  733    Columbia   : 1860  \n",
       " 500 8th Avenue, Suite 100          :  723    Fort Worth : 1680  \n",
       " 1121 SW Military Drive, Suite 103  :  703    Pasadena   : 1496  \n",
       " (Other)                            :93098    (Other)    :82743  \n",
       "  BranchState         BranchZip             BranchPhone   \n",
       " TX     :39010   77502-2027:  751   (832) 786-3844:  751  \n",
       " SC     :15867   37115-2029:  747   (615) 851-5054:  747  \n",
       " AL     :12186   77504-3066:  745   (281) 487-3529:  745  \n",
       " NC     : 9221   77706-6120:  733   (409) 866-1931:  733  \n",
       " TN     : 7930   76104-2065:  723   (817) 870-9929:  723  \n",
       " OK     : 6485   78221-1672:  703   (210) 924-2220:  703  \n",
       " (Other): 6801   (Other)   :93098   (Other)       :93098  \n",
       "          BranchFax               BranchManager          BranchSupervisor\n",
       " (832) 559-0679:  751   Crystal Martinez :  751   Sandra Lopez   : 4979  \n",
       " (615) 647-6852:  747   Al Kozlowski     :  747   Javier Sagardia: 4592  \n",
       " (281) 305-2747:  745   Maritza Manriquez:  745                  : 4474  \n",
       " (409) 263-0364:  733   Lorigine Bender  :  733   Stephanie Drake: 4386  \n",
       " (817) 200-7112:  723   Nick Hoff        :  723   Joe Gandaria   : 3745  \n",
       " (210) 417-4208:  703   George Silva     :  703   Nellie Carrillo: 3717  \n",
       " (Other)       :93098   (Other)          :93098   (Other)        :71607  \n",
       "         BranchStateVP   Distance_to_Branch   ConProfile       \n",
       "                :  611   Min.   :  0.000    Min.   :0.000e+00  \n",
       "                :13260   1st Qu.:  2.780    1st Qu.:1.000e+12  \n",
       " Heather Meares :15168   Median :  5.323    Median :1.000e+12  \n",
       " Kenny Haynes   :17151   Mean   :  8.156    Mean   :9.101e+11  \n",
       " Lee Wright     :  636   3rd Qu.:  9.989    3rd Qu.:1.000e+12  \n",
       " Michael Johnson:34807   Max.   :694.135    Max.   :1.000e+12  \n",
       " Scott Juvelier :15867   NA's   :611        NA's   :38959      \n",
       "       BrAcctNo         CifNo         MGC          Month_Split   \n",
       "           :  611          : 9280   Mode:logical   Mode:logical  \n",
       " 0101034890:    1          :  611   NA's:97500     NA's:97500    \n",
       " 0101035303:    1   100025 :    1                                \n",
       " 0101035314:    1   100049 :    1                                \n",
       " 0101035316:    1   100056 :    1                                \n",
       " 0101035479:    1   100071 :    1                                \n",
       " (Other)   :96884   (Other):87605                                \n",
       "     FNAME           MNAME             LNAME       amt_given1     up_to_OFFER  \n",
       " MARIA  : 1277          :91126   SMITH    :  783   Mode:logical        :  611  \n",
       " JAMES  : 1202          :  611   WILLIAMS :  763   NA's:97500     6,000:12186  \n",
       " MICHAEL: 1149   L      :  461   JOHNSON  :  729                  7,000:84703  \n",
       " ROBERT :  941   A      :  408   GARCIA   :  681                               \n",
       " JOSE   :  932   M      :  382   MARTINEZ :  673                               \n",
       " DAVID  :  921   (Other): 4511   HERNANDEZ:  658                               \n",
       " (Other):91078   NA's   :    1   (Other)  :93213                               \n",
       " From_Offer_Amount Fico_Range_25pt     State1      Test_Code     \n",
       "      :  611       625-649:21285          :39027   Mode:logical  \n",
       " 2,501:  133       600-624:20509   SC     :15880   NA's:97500    \n",
       " 600  :87535       650-674:16331   AL     :12206                 \n",
       " 700  : 9221       575-599:12196   NC     : 9232                 \n",
       "                   550-574: 6633   TN     : 7931                 \n",
       "                   675-699: 6531   OK     : 6501                 \n",
       "                   (Other):14015   (Other): 6723                 \n",
       "      fico             POffDate             RMC_Phone           RMC_CellPhone  \n",
       " Min.   :  0.0             : 9280                :39003   ()-          :63889  \n",
       " 1st Qu.:597.0             :  611                :  611                :17642  \n",
       " Median :627.0   2018-02-22:  355   (111)111-1111:   50                :  611  \n",
       " Mean   :632.4   2018-02-23:  239   (999)999-9999:   46   (111)111-1111:   11  \n",
       " 3rd Qu.:657.0   2017-02-23:  229   2.05E+12     :   37   (205)000-0000:    7  \n",
       " Max.   :999.0   2018-02-09:  228   3.34E+12     :   37   (999)999-9999:    6  \n",
       " NA's   :831     (Other)   :86558   (Other)      :57716   (Other)      :15334  \n",
       "    X          \n",
       " Mode:logical  \n",
       " NA's:97500    \n",
       "               \n",
       "               \n",
       "               \n",
       "               \n",
       "               "
      ]
     },
     "metadata": {},
     "output_type": "display_data"
    }
   ],
   "source": [
    "str(mb_pbfbxs_ita_0518)\n",
    "summary(mb_pbfbxs_ita_0518)"
   ]
  },
  {
   "cell_type": "markdown",
   "metadata": {},
   "source": [
    "Store `ï..campaign_id` as `campaign_id`"
   ]
  },
  {
   "cell_type": "code",
   "execution_count": 5,
   "metadata": {},
   "outputs": [],
   "source": [
    "mb_pbfbxs_ita_0518$campaign_id <- mb_pbfbxs_ita_0518$ï..campaign_id"
   ]
  },
  {
   "cell_type": "markdown",
   "metadata": {},
   "source": [
    "Find unique campaign IDs"
   ]
  },
  {
   "cell_type": "code",
   "execution_count": 6,
   "metadata": {},
   "outputs": [
    {
     "data": {
      "text/html": [
       "<ol class=list-inline>\n",
       "\t<li>FBITA5.0_2018</li>\n",
       "\t<li>RetailXSITA5.0_2018</li>\n",
       "\t<li>AutoXSITA5.0_2018</li>\n",
       "</ol>\n"
      ],
      "text/latex": [
       "\\begin{enumerate*}\n",
       "\\item FBITA5.0\\_2018\n",
       "\\item RetailXSITA5.0\\_2018\n",
       "\\item AutoXSITA5.0\\_2018\n",
       "\\end{enumerate*}\n"
      ],
      "text/markdown": [
       "1. FBITA5.0_2018\n",
       "2. RetailXSITA5.0_2018\n",
       "3. AutoXSITA5.0_2018\n",
       "\n",
       "\n"
      ],
      "text/plain": [
       "[1] FBITA5.0_2018       RetailXSITA5.0_2018 AutoXSITA5.0_2018  \n",
       "Levels: AutoXSITA5.0_2018 FBITA5.0_2018 RetailXSITA5.0_2018"
      ]
     },
     "metadata": {},
     "output_type": "display_data"
    }
   ],
   "source": [
    "unique(mb_pbfbxs_ita_0518$campaign_id)"
   ]
  },
  {
   "cell_type": "markdown",
   "metadata": {},
   "source": [
    "Subset the FBITA campaign"
   ]
  },
  {
   "cell_type": "code",
   "execution_count": 7,
   "metadata": {},
   "outputs": [],
   "source": [
    "mb_fb_ita_0518 <- sqldf(\n",
    "  \"\n",
    "  SELECT * \n",
    "  FROM mb_pbfbxs_ita_0518 \n",
    "  WHERE campaign_id IN ('FBITA5.0_2018')\n",
    "  \"\n",
    "  )"
   ]
  },
  {
   "cell_type": "markdown",
   "metadata": {},
   "source": [
    "Print dimensions"
   ]
  },
  {
   "cell_type": "code",
   "execution_count": 8,
   "metadata": {},
   "outputs": [
    {
     "data": {
      "text/html": [
       "<ol class=list-inline>\n",
       "\t<li>88173</li>\n",
       "\t<li>50</li>\n",
       "</ol>\n"
      ],
      "text/latex": [
       "\\begin{enumerate*}\n",
       "\\item 88173\n",
       "\\item 50\n",
       "\\end{enumerate*}\n"
      ],
      "text/markdown": [
       "1. 88173\n",
       "2. 50\n",
       "\n",
       "\n"
      ],
      "text/plain": [
       "[1] 88173    50"
      ]
     },
     "metadata": {},
     "output_type": "display_data"
    }
   ],
   "source": [
    "dim(mb_fb_ita_0518)"
   ]
  },
  {
   "cell_type": "markdown",
   "metadata": {},
   "source": [
    "Print summary of variables"
   ]
  },
  {
   "cell_type": "code",
   "execution_count": 9,
   "metadata": {},
   "outputs": [
    {
     "name": "stdout",
     "output_type": "stream",
     "text": [
      "'data.frame':\t88173 obs. of  50 variables:\n",
      " $ Ã¯..campaign_id    : chr  \"FBITA5.0_2018\" \"FBITA5.0_2018\" \"FBITA5.0_2018\" \"FBITA5.0_2018\" ...\n",
      " $ HHfilecode         : Factor w/ 2 levels \"FB\",\"XS\": 1 1 1 1 1 1 1 1 1 1 ...\n",
      " $ BATCH              : Factor w/ 2 levels \"FMITA\",\"PMITA\": 1 1 1 1 1 1 1 1 1 1 ...\n",
      " $ LETTERCD           : Factor w/ 2 levels \"FB\",\"XS\": 1 1 1 1 1 1 1 1 1 1 ...\n",
      " $ SS7                : Factor w/ 97231 levels \"0001218\",\"0005366\",..: 45152 43563 80601 69759 79283 84223 48348 55892 7414 91062 ...\n",
      " $ NAME1              : Factor w/ 89107 levels \"A. Coker\",\"A. Ja Nay Bucholtz\",..: 15041 83442 47438 4102 85483 86470 77900 7859 37169 49717 ...\n",
      " $ ADDR2              : Factor w/ 2054 levels \"\",\"'\",\" \",\"(chayenne Sub)\",..: 3 3 3 3 3 3 3 3 3 3 ...\n",
      " $ STREET             : Factor w/ 94356 levels \"\",\"1 A St. Ste A\",..: 33058 66371 5598 2499 2646 91016 32165 6839 6541 16676 ...\n",
      " $ CITY               : Factor w/ 2659 levels \"\",\"Abbeville\",..: 225 225 225 612 612 1122 1921 1921 1921 1921 ...\n",
      " $ STATE              : Factor w/ 10 levels \"\",\"AL\",\"GA\",\"NC\",..: 3 3 3 3 3 3 3 3 3 3 ...\n",
      " $ ZIP5               : int  31302 31302 31302 31305 31305 31313 31322 31322 31322 31322 ...\n",
      " $ ZIP4               : int  8031 9218 8111 5800 5828 4518 2306 3137 3377 4076 ...\n",
      " $ DOB                : int  19881023 19701105 19620726 19811202 19751023 19890924 19560714 19620117 19840701 19790307 ...\n",
      " $ Made_UnMade        : logi  NA NA NA NA NA NA ...\n",
      " $ QSEQNUM            : int  1 2 3 4 5 6 7 8 10 11 ...\n",
      " $ Drop_Date          : Factor w/ 2 levels \"\",\"05/07/2018\": 2 2 2 2 2 2 2 2 2 2 ...\n",
      " $ Closed_Date        : Factor w/ 2 levels \"\",\"06/05/2018\": 2 2 2 2 2 2 2 2 2 2 ...\n",
      " $ MLA_Status         : Factor w/ 3 levels \"\",\"N\",\"Z\": 2 2 2 2 2 2 2 2 2 2 ...\n",
      " $ BranchNumber       : int  1101 1101 1101 1102 1102 1101 1101 1101 1101 1101 ...\n",
      " $ BranchCompany      : Factor w/ 2 levels \"\",\"Regional Finance\": 2 2 2 2 2 2 2 2 2 2 ...\n",
      " $ BranchStreetAddress: Factor w/ 341 levels \"\",\"100 Forum Drive, Suite 4\",..: 289 289 289 206 206 289 289 289 289 289 ...\n",
      " $ BranchCity         : Factor w/ 261 levels \"\",\"Abilene\",\"Abingdon\",..: 217 217 217 42 42 217 217 217 217 217 ...\n",
      " $ BranchState        : Factor w/ 10 levels \"\",\"AL\",\"GA\",\"NC\",..: 3 3 3 3 3 3 3 3 3 3 ...\n",
      " $ BranchZip          : Factor w/ 341 levels \"\",\"20110-1700\",..: 129 129 129 130 130 129 129 129 129 129 ...\n",
      " $ BranchPhone        : Factor w/ 341 levels \"\",\"(205) 227-0090\",..: 290 290 290 289 289 290 290 290 290 290 ...\n",
      " $ BranchFax          : Factor w/ 341 levels \"\",\"(205) 210-4965\",..: 304 304 304 303 303 304 304 304 304 304 ...\n",
      " $ BranchManager      : Factor w/ 338 levels \"\",\" \",\"Aaron Balls\",..: 85 85 85 38 38 85 85 85 85 85 ...\n",
      " $ BranchSupervisor   : Factor w/ 41 levels \"\",\" \",\"Andrew Ivy\",..: 28 28 28 28 28 28 28 28 28 28 ...\n",
      " $ BranchStateVP      : Factor w/ 7 levels \"\",\" \",\"Heather Meares\",..: 3 3 3 3 3 3 3 3 3 3 ...\n",
      " $ Distance_to_Branch : num  14.8 13.2 18.7 17.9 17.9 ...\n",
      " $ ConProfile         : num  NA NA NA NA 1e+12 ...\n",
      " $ BrAcctNo           : Factor w/ 96890 levels \"\",\"0101034890\",..: 83686 83833 83791 83971 84010 83814 83475 83550 83815 83770 ...\n",
      " $ CifNo              : Factor w/ 87611 levels \"\",\" \",\"100025\",..: 74119 72293 75862 76677 76110 79270 73692 75360 79399 79177 ...\n",
      " $ MGC                : logi  NA NA NA NA NA NA ...\n",
      " $ Month_Split        : logi  NA NA NA NA NA NA ...\n",
      " $ FNAME              : Factor w/ 15025 levels \"\",\"A\",\"A Ja Nay\",..: 2451 13784 7299 660 14345 14462 12742 1368 6158 7942 ...\n",
      " $ MNAME              : Factor w/ 416 levels \"\",\" \",\"\\\"TRENT\\\"\",..: 2 2 7 140 7 2 280 183 7 361 ...\n",
      " $ LNAME              : Factor w/ 24763 levels \"\",\"A\",\"Aaron\",..: 17388 19474 18108 17129 17655 18793 9206 23703 14078 21114 ...\n",
      " $ amt_given1         : logi  NA NA NA NA NA NA ...\n",
      " $ up_to_OFFER        : Factor w/ 3 levels \"\",\"6,000\",\"7,000\": 3 3 3 3 3 3 3 3 3 3 ...\n",
      " $ From_Offer_Amount  : Factor w/ 4 levels \"\",\"2,501\",\"600\",..: 3 3 3 3 3 3 3 3 3 3 ...\n",
      " $ Fico_Range_25pt    : Factor w/ 21 levels \"\",\" \",\"<500\",..: 8 2 10 9 10 7 9 12 9 10 ...\n",
      " $ State1             : Factor w/ 10 levels \"\",\" \",\"AL\",\"GA\",..: 4 4 4 4 4 4 4 4 4 4 ...\n",
      " $ Test_Code          : logi  NA NA NA NA NA NA ...\n",
      " $ fico               : int  593 NA 639 608 626 551 623 675 606 633 ...\n",
      " $ POffDate           : Factor w/ 1113 levels \"\",\" \",\"2014-11-17\",..: 954 445 1018 854 1080 1090 755 871 1052 949 ...\n",
      " $ RMC_Phone          : Factor w/ 57154 levels \"\",\" \",\"()-\",\"(000)000-0001\",..: 41940 42054 41829 41973 41900 2 41887 41830 2 2 ...\n",
      " $ RMC_CellPhone      : Factor w/ 15241 levels \"\",\" \",\"()-\",\"(110)906-1367\",..: 14042 2 2026 2 2 14490 2 2 10107 14499 ...\n",
      " $ X                  : logi  NA NA NA NA NA NA ...\n",
      " $ campaign_id        : Factor w/ 3 levels \"AutoXSITA5.0_2018\",..: 2 2 2 2 2 2 2 2 2 2 ...\n"
     ]
    },
    {
     "data": {
      "text/plain": [
       " Ã¯..campaign_id    HHfilecode   BATCH       LETTERCD        SS7       \n",
       " Length:88173       FB:88173   FMITA:44371   FB:88173   0043521:    2  \n",
       " Class :character   XS:    0   PMITA:43802   XS:    0   0118294:    2  \n",
       " Mode  :character                                       0137024:    2  \n",
       "                                                        0177992:    2  \n",
       "                                                        0253279:    2  \n",
       "                                                        0338945:    2  \n",
       "                                                        (Other):88161  \n",
       "             NAME1           ADDR2                STREET     \n",
       " Maria Garcia   :   36          :85073               :  108  \n",
       " Jose Hernandez :   34          :   61   P.O. Box 93 :    7  \n",
       " Maria Hernandez:   34   Rd.    :   47   P.O. Box 203:    6  \n",
       " Maria Martinez :   34   Apt. B :   35   P.O. Box 75 :    6  \n",
       " Maria Rodriguez:   32   Apt. A :   34   P.O. Box 114:    5  \n",
       " Jose Martinez  :   30   Apt. D :   26   P.O. Box 136:    5  \n",
       " (Other)        :87973   (Other): 2897   (Other)     :88036  \n",
       "          CITY           STATE            ZIP5            ZIP4     \n",
       " Houston    : 4361   TX     :35432   Min.   :20112   Min.   :   1  \n",
       " San Antonio: 3579   SC     :14429   1st Qu.:29906   1st Qu.:2749  \n",
       " El Paso    : 2459   AL     :11103   Median :73012   Median :4475  \n",
       " Fort Worth : 1085   TN     : 7604   Mean   :54999   Mean   :4801  \n",
       " Dallas     : 1006   NC     : 7360   3rd Qu.:77469   3rd Qu.:6756  \n",
       " Columbia   :  996   OK     : 6112   Max.   :88352   Max.   :9999  \n",
       " (Other)    :74687   (Other): 6133   NA's   :564     NA's   :564   \n",
       "      DOB           Made_UnMade       QSEQNUM           Drop_Date    \n",
       " Min.   :18810310   Mode:logical   Min.   :    1             :  564  \n",
       " 1st Qu.:19561109   NA's:88173     1st Qu.:24587   05/07/2018:87609  \n",
       " Median :19660720                  Median :48833                     \n",
       " Mean   :19664522                  Mean   :48902                     \n",
       " 3rd Qu.:19770330                  3rd Qu.:73345                     \n",
       " Max.   :20161013                  Max.   :97576                     \n",
       " NA's   :15166                     NA's   :564                       \n",
       "     Closed_Date    MLA_Status  BranchNumber             BranchCompany  \n",
       "           :  564    :  564    Min.   : 101.0                   :  564  \n",
       " 06/05/2018:87609   N:73003    1st Qu.: 519.0   Regional Finance:87609  \n",
       "                    Z:14606    Median : 573.0                           \n",
       "                               Mean   : 601.9                           \n",
       "                               3rd Qu.: 803.0                           \n",
       "                               Max.   :1217.0                           \n",
       "                               NA's   :564                              \n",
       "                          BranchStreetAddress       BranchCity   \n",
       " 2021 Gallatin Pike North, Suite 240:  730    San Antonio: 3985  \n",
       " 6240 Phelan Blvd                   :  706    Houston    : 2526  \n",
       " 3910 Fairmont Parkway, Suite D     :  691    El Paso    : 2472  \n",
       " 1703 Shaver Street                 :  679    Columbia   : 1642  \n",
       " 1121 SW Military Drive, Suite 103  :  662    Fort Worth : 1478  \n",
       " 500 8th Avenue, Suite 100          :  661    Pasadena   : 1370  \n",
       " (Other)                            :84044    (Other)    :74700  \n",
       "  BranchState         BranchZip             BranchPhone   \n",
       " TX     :35432   37115-2029:  730   (615) 851-5054:  730  \n",
       " SC     :14429   77706-6120:  706   (409) 866-1931:  706  \n",
       " AL     :11103   77504-3066:  691   (281) 487-3529:  691  \n",
       " TN     : 7604   77502-2027:  679   (832) 786-3844:  679  \n",
       " NC     : 7360   78221-1672:  662   (210) 924-2220:  662  \n",
       " OK     : 6112   76104-2065:  661   (817) 870-9929:  661  \n",
       " (Other): 6133   (Other)   :84044   (Other)       :84044  \n",
       "          BranchFax               BranchManager          BranchSupervisor\n",
       " (615) 647-6852:  730   Al Kozlowski     :  730   Sandra Lopez   : 4534  \n",
       " (409) 263-0364:  706   Lorigine Bender  :  706                  : 4093  \n",
       " (281) 305-2747:  691   Maritza Manriquez:  691   Javier Sagardia: 3957  \n",
       " (832) 559-0679:  679   Crystal Martinez :  679   Stephanie Drake: 3880  \n",
       " (210) 417-4208:  662   George Silva     :  662   Nellie Carrillo: 3484  \n",
       " (817) 200-7112:  661   Nick Hoff        :  661   Joe Gandaria   : 3348  \n",
       " (Other)       :84044   (Other)          :84044   (Other)        :64877  \n",
       "         BranchStateVP   Distance_to_Branch   ConProfile       \n",
       "                :  564   Min.   :  0.000    Min.   :0.000e+00  \n",
       "                :12426   1st Qu.:  2.836    1st Qu.:1.000e+12  \n",
       " Heather Meares :13781   Median :  5.419    Median :1.000e+12  \n",
       " Kenny Haynes   :14964   Mean   :  8.364    Mean   :9.101e+11  \n",
       " Lee Wright     :  450   3rd Qu.: 10.194    3rd Qu.:1.000e+12  \n",
       " Michael Johnson:31559   Max.   :694.135    Max.   :1.000e+12  \n",
       " Scott Juvelier :14429   NA's   :564        NA's   :29632      \n",
       "       BrAcctNo         CifNo         MGC          Month_Split   \n",
       "           :  564          :  564   Mode:logical   Mode:logical  \n",
       " 0101034890:    1   100025 :    1   NA's:88173     NA's:88173    \n",
       " 0101035303:    1   100049 :    1                                \n",
       " 0101035314:    1   100056 :    1                                \n",
       " 0101035316:    1   100071 :    1                                \n",
       " 0101035479:    1   100101 :    1                                \n",
       " (Other)   :87604   (Other):87604                                \n",
       "     FNAME           MNAME             LNAME       amt_given1     up_to_OFFER  \n",
       " MARIA  : 1252          :84812   SMITH    :  750   Mode:logical        :  564  \n",
       " JAMES  : 1168          :  564   WILLIAMS :  724   NA's:88173     6,000:11103  \n",
       " MICHAEL: 1117   L      :  320   JOHNSON  :  703                  7,000:76506  \n",
       " JOSE   :  913   A      :  283   GARCIA   :  666                               \n",
       " ROBERT :  913   M      :  258   MARTINEZ :  648                               \n",
       " DAVID  :  894   D      :  185   HERNANDEZ:  646                               \n",
       " (Other):81916   (Other): 1751   (Other)  :84036                               \n",
       " From_Offer_Amount Fico_Range_25pt     State1      Test_Code     \n",
       "      :  564       625-649:21064          :35449   Mode:logical  \n",
       " 2,501:  105       600-624:18979   SC     :14442   NA's:88173    \n",
       " 600  :80144       650-674:16211   AL     :11123                 \n",
       " 700  : 7360       575-599:10341   TN     : 7605                 \n",
       "                   675-699: 6483   NC     : 7371                 \n",
       "                   550-574: 4682   OK     : 6128                 \n",
       "                   (Other):10413   (Other): 6055                 \n",
       "      fico             POffDate             RMC_Phone           RMC_CellPhone  \n",
       " Min.   :  0.0             :  564                :37004   ()-          :63889  \n",
       " 1st Qu.:605.0   2018-02-22:  355                :  564                : 8362  \n",
       " Median :632.0   2018-02-23:  239   (111)111-1111:   50                :  564  \n",
       " Mean   :639.4   2017-02-23:  229   (999)999-9999:   46   (111)111-1111:   11  \n",
       " 3rd Qu.:660.0   2018-02-09:  228   (843)000-0000:   18   (205)000-0000:    7  \n",
       " Max.   :999.0   2016-02-10:  227   (256)000-0000:   11   (999)999-9999:    6  \n",
       " NA's   :784     (Other)   :86331   (Other)      :50480   (Other)      :15334  \n",
       "    X                        campaign_id   \n",
       " Mode:logical   AutoXSITA5.0_2018  :    0  \n",
       " NA's:88173     FBITA5.0_2018      :88173  \n",
       "                RetailXSITA5.0_2018:    0  \n",
       "                                           \n",
       "                                           \n",
       "                                           \n",
       "                                           "
      ]
     },
     "metadata": {},
     "output_type": "display_data"
    }
   ],
   "source": [
    "str(mb_fb_ita_0518)\n",
    "summary(mb_fb_ita_0518)"
   ]
  },
  {
   "cell_type": "markdown",
   "metadata": {},
   "source": [
    "Print column names"
   ]
  },
  {
   "cell_type": "code",
   "execution_count": 10,
   "metadata": {},
   "outputs": [
    {
     "data": {
      "text/html": [
       "<ol class=list-inline>\n",
       "\t<li>'Ã¯..campaign_id'</li>\n",
       "\t<li>'HHfilecode'</li>\n",
       "\t<li>'BATCH'</li>\n",
       "\t<li>'LETTERCD'</li>\n",
       "\t<li>'SS7'</li>\n",
       "\t<li>'NAME1'</li>\n",
       "\t<li>'ADDR2'</li>\n",
       "\t<li>'STREET'</li>\n",
       "\t<li>'CITY'</li>\n",
       "\t<li>'STATE'</li>\n",
       "\t<li>'ZIP5'</li>\n",
       "\t<li>'ZIP4'</li>\n",
       "\t<li>'DOB'</li>\n",
       "\t<li>'Made_UnMade'</li>\n",
       "\t<li>'QSEQNUM'</li>\n",
       "\t<li>'Drop_Date'</li>\n",
       "\t<li>'Closed_Date'</li>\n",
       "\t<li>'MLA_Status'</li>\n",
       "\t<li>'BranchNumber'</li>\n",
       "\t<li>'BranchCompany'</li>\n",
       "\t<li>'BranchStreetAddress'</li>\n",
       "\t<li>'BranchCity'</li>\n",
       "\t<li>'BranchState'</li>\n",
       "\t<li>'BranchZip'</li>\n",
       "\t<li>'BranchPhone'</li>\n",
       "\t<li>'BranchFax'</li>\n",
       "\t<li>'BranchManager'</li>\n",
       "\t<li>'BranchSupervisor'</li>\n",
       "\t<li>'BranchStateVP'</li>\n",
       "\t<li>'Distance_to_Branch'</li>\n",
       "\t<li>'ConProfile'</li>\n",
       "\t<li>'BrAcctNo'</li>\n",
       "\t<li>'CifNo'</li>\n",
       "\t<li>'MGC'</li>\n",
       "\t<li>'Month_Split'</li>\n",
       "\t<li>'FNAME'</li>\n",
       "\t<li>'MNAME'</li>\n",
       "\t<li>'LNAME'</li>\n",
       "\t<li>'amt_given1'</li>\n",
       "\t<li>'up_to_OFFER'</li>\n",
       "\t<li>'From_Offer_Amount'</li>\n",
       "\t<li>'Fico_Range_25pt'</li>\n",
       "\t<li>'State1'</li>\n",
       "\t<li>'Test_Code'</li>\n",
       "\t<li>'fico'</li>\n",
       "\t<li>'POffDate'</li>\n",
       "\t<li>'RMC_Phone'</li>\n",
       "\t<li>'RMC_CellPhone'</li>\n",
       "\t<li>'X'</li>\n",
       "\t<li>'campaign_id'</li>\n",
       "</ol>\n"
      ],
      "text/latex": [
       "\\begin{enumerate*}\n",
       "\\item 'Ã¯..campaign\\_id'\n",
       "\\item 'HHfilecode'\n",
       "\\item 'BATCH'\n",
       "\\item 'LETTERCD'\n",
       "\\item 'SS7'\n",
       "\\item 'NAME1'\n",
       "\\item 'ADDR2'\n",
       "\\item 'STREET'\n",
       "\\item 'CITY'\n",
       "\\item 'STATE'\n",
       "\\item 'ZIP5'\n",
       "\\item 'ZIP4'\n",
       "\\item 'DOB'\n",
       "\\item 'Made\\_UnMade'\n",
       "\\item 'QSEQNUM'\n",
       "\\item 'Drop\\_Date'\n",
       "\\item 'Closed\\_Date'\n",
       "\\item 'MLA\\_Status'\n",
       "\\item 'BranchNumber'\n",
       "\\item 'BranchCompany'\n",
       "\\item 'BranchStreetAddress'\n",
       "\\item 'BranchCity'\n",
       "\\item 'BranchState'\n",
       "\\item 'BranchZip'\n",
       "\\item 'BranchPhone'\n",
       "\\item 'BranchFax'\n",
       "\\item 'BranchManager'\n",
       "\\item 'BranchSupervisor'\n",
       "\\item 'BranchStateVP'\n",
       "\\item 'Distance\\_to\\_Branch'\n",
       "\\item 'ConProfile'\n",
       "\\item 'BrAcctNo'\n",
       "\\item 'CifNo'\n",
       "\\item 'MGC'\n",
       "\\item 'Month\\_Split'\n",
       "\\item 'FNAME'\n",
       "\\item 'MNAME'\n",
       "\\item 'LNAME'\n",
       "\\item 'amt\\_given1'\n",
       "\\item 'up\\_to\\_OFFER'\n",
       "\\item 'From\\_Offer\\_Amount'\n",
       "\\item 'Fico\\_Range\\_25pt'\n",
       "\\item 'State1'\n",
       "\\item 'Test\\_Code'\n",
       "\\item 'fico'\n",
       "\\item 'POffDate'\n",
       "\\item 'RMC\\_Phone'\n",
       "\\item 'RMC\\_CellPhone'\n",
       "\\item 'X'\n",
       "\\item 'campaign\\_id'\n",
       "\\end{enumerate*}\n"
      ],
      "text/markdown": [
       "1. 'Ã¯..campaign_id'\n",
       "2. 'HHfilecode'\n",
       "3. 'BATCH'\n",
       "4. 'LETTERCD'\n",
       "5. 'SS7'\n",
       "6. 'NAME1'\n",
       "7. 'ADDR2'\n",
       "8. 'STREET'\n",
       "9. 'CITY'\n",
       "10. 'STATE'\n",
       "11. 'ZIP5'\n",
       "12. 'ZIP4'\n",
       "13. 'DOB'\n",
       "14. 'Made_UnMade'\n",
       "15. 'QSEQNUM'\n",
       "16. 'Drop_Date'\n",
       "17. 'Closed_Date'\n",
       "18. 'MLA_Status'\n",
       "19. 'BranchNumber'\n",
       "20. 'BranchCompany'\n",
       "21. 'BranchStreetAddress'\n",
       "22. 'BranchCity'\n",
       "23. 'BranchState'\n",
       "24. 'BranchZip'\n",
       "25. 'BranchPhone'\n",
       "26. 'BranchFax'\n",
       "27. 'BranchManager'\n",
       "28. 'BranchSupervisor'\n",
       "29. 'BranchStateVP'\n",
       "30. 'Distance_to_Branch'\n",
       "31. 'ConProfile'\n",
       "32. 'BrAcctNo'\n",
       "33. 'CifNo'\n",
       "34. 'MGC'\n",
       "35. 'Month_Split'\n",
       "36. 'FNAME'\n",
       "37. 'MNAME'\n",
       "38. 'LNAME'\n",
       "39. 'amt_given1'\n",
       "40. 'up_to_OFFER'\n",
       "41. 'From_Offer_Amount'\n",
       "42. 'Fico_Range_25pt'\n",
       "43. 'State1'\n",
       "44. 'Test_Code'\n",
       "45. 'fico'\n",
       "46. 'POffDate'\n",
       "47. 'RMC_Phone'\n",
       "48. 'RMC_CellPhone'\n",
       "49. 'X'\n",
       "50. 'campaign_id'\n",
       "\n",
       "\n"
      ],
      "text/plain": [
       " [1] \"Ã¯..campaign_id\"     \"HHfilecode\"          \"BATCH\"              \n",
       " [4] \"LETTERCD\"            \"SS7\"                 \"NAME1\"              \n",
       " [7] \"ADDR2\"               \"STREET\"              \"CITY\"               \n",
       "[10] \"STATE\"               \"ZIP5\"                \"ZIP4\"               \n",
       "[13] \"DOB\"                 \"Made_UnMade\"         \"QSEQNUM\"            \n",
       "[16] \"Drop_Date\"           \"Closed_Date\"         \"MLA_Status\"         \n",
       "[19] \"BranchNumber\"        \"BranchCompany\"       \"BranchStreetAddress\"\n",
       "[22] \"BranchCity\"          \"BranchState\"         \"BranchZip\"          \n",
       "[25] \"BranchPhone\"         \"BranchFax\"           \"BranchManager\"      \n",
       "[28] \"BranchSupervisor\"    \"BranchStateVP\"       \"Distance_to_Branch\" \n",
       "[31] \"ConProfile\"          \"BrAcctNo\"            \"CifNo\"              \n",
       "[34] \"MGC\"                 \"Month_Split\"         \"FNAME\"              \n",
       "[37] \"MNAME\"               \"LNAME\"               \"amt_given1\"         \n",
       "[40] \"up_to_OFFER\"         \"From_Offer_Amount\"   \"Fico_Range_25pt\"    \n",
       "[43] \"State1\"              \"Test_Code\"           \"fico\"               \n",
       "[46] \"POffDate\"            \"RMC_Phone\"           \"RMC_CellPhone\"      \n",
       "[49] \"X\"                   \"campaign_id\"        "
      ]
     },
     "metadata": {},
     "output_type": "display_data"
    }
   ],
   "source": [
    "colnames(mb_fb_ita_0518)"
   ]
  },
  {
   "cell_type": "markdown",
   "metadata": {},
   "source": [
    "Print `Drop_Date` variable type"
   ]
  },
  {
   "cell_type": "code",
   "execution_count": 11,
   "metadata": {},
   "outputs": [
    {
     "data": {
      "text/html": [
       "'integer'"
      ],
      "text/latex": [
       "'integer'"
      ],
      "text/markdown": [
       "'integer'"
      ],
      "text/plain": [
       "[1] \"integer\""
      ]
     },
     "metadata": {},
     "output_type": "display_data"
    }
   ],
   "source": [
    "typeof(mb_fb_ita_0518$Drop_Date)"
   ]
  },
  {
   "cell_type": "markdown",
   "metadata": {},
   "source": [
    "Convert `Drop_Date` from integer to date type variable"
   ]
  },
  {
   "cell_type": "code",
   "execution_count": 12,
   "metadata": {},
   "outputs": [],
   "source": [
    "mb_fb_ita_0518$Drop_Date <- as.Date(\"2018-05-07\", format = \"%Y-%m-%d\",\n",
    "                                    origin = \"1970-01-01\")"
   ]
  },
  {
   "cell_type": "markdown",
   "metadata": {},
   "source": [
    "Save FBITA R data object"
   ]
  },
  {
   "cell_type": "code",
   "execution_count": 13,
   "metadata": {},
   "outputs": [],
   "source": [
    "save(mb_fb_ita_0518,\n",
    "     file = \"C:/Users/cepps/RMC/Mail Files/R_data_objects/fbxs_ita/mb_fb_ita_0518.RData\")"
   ]
  },
  {
   "cell_type": "markdown",
   "metadata": {},
   "source": [
    "Load master FBITA R data object"
   ]
  },
  {
   "cell_type": "code",
   "execution_count": 14,
   "metadata": {},
   "outputs": [],
   "source": [
    "load(\"C:/Users/cepps/RMC/Mail Files/R_data_objects/fbxs_ita/mb_fb_ita.RData\")"
   ]
  },
  {
   "cell_type": "markdown",
   "metadata": {},
   "source": [
    "Convert FBITA master set variable, `Drop_Date`, from double to date type"
   ]
  },
  {
   "cell_type": "code",
   "execution_count": 15,
   "metadata": {},
   "outputs": [],
   "source": [
    "mb_fb_ita$Drop_Date <- as.Date(mb_fb_ita$Drop_Date,\n",
    "                               format = \"%Y-%m-%d\",\n",
    "                               origin = \"1970-01-01\")"
   ]
  },
  {
   "cell_type": "code",
   "execution_count": 4,
   "metadata": {},
   "outputs": [],
   "source": [
    "write.table(mb_fb_ita, \"C:/Users/cepps/RMC/Mail Files/Optimized_Mail_Files/fbxs_ita/mb_fb_ita.txt\", sep=\"\\t\", col.names = TRUE)"
   ]
  },
  {
   "cell_type": "markdown",
   "metadata": {},
   "source": [
    "Subset and join the master FBITA and current FBITA files"
   ]
  },
  {
   "cell_type": "code",
   "execution_count": 5,
   "metadata": {},
   "outputs": [
    {
     "ename": "ERROR",
     "evalue": "Error in sqldf(\"\\n   select mon_ind, camp_type, camp_type1, ss7, Drop_Date, NAME, STREET,\\n          ZIP5, fico, apr, offer_amount, state, BranchNumber \\n   from mb_fb_ita\\n   \\n   union all\\n\\n   select 101 as mon_ind, '05.FB_ITA' as camp_type,\\n          'FB_ITA_0518__May-18' as camp_type1, ss7, Drop_Date,\\n          name1 as NAME, STREET, ZIP5, 0 as fico, 0 as apr, \\n          0 as offer_amount, state, BranchNumber \\n   from mb_fb_ita_0518\\n   \"): could not find function \"sqldf\"\n",
     "output_type": "error",
     "traceback": [
      "Error in sqldf(\"\\n   select mon_ind, camp_type, camp_type1, ss7, Drop_Date, NAME, STREET,\\n          ZIP5, fico, apr, offer_amount, state, BranchNumber \\n   from mb_fb_ita\\n   \\n   union all\\n\\n   select 101 as mon_ind, '05.FB_ITA' as camp_type,\\n          'FB_ITA_0518__May-18' as camp_type1, ss7, Drop_Date,\\n          name1 as NAME, STREET, ZIP5, 0 as fico, 0 as apr, \\n          0 as offer_amount, state, BranchNumber \\n   from mb_fb_ita_0518\\n   \"): could not find function \"sqldf\"\nTraceback:\n"
     ]
    }
   ],
   "source": [
    "mb_fb_ita <- sqldf(\n",
    "   \"\n",
    "   select mon_ind, camp_type, camp_type1, ss7, Drop_Date, NAME, STREET,\n",
    "          ZIP5, fico, apr, offer_amount, state, BranchNumber \n",
    "   from mb_fb_ita\n",
    "   \n",
    "   union all\n",
    "\n",
    "   select 101 as mon_ind, '05.FB_ITA' as camp_type,\n",
    "          'FB_ITA_0518__May-18' as camp_type1, ss7, Drop_Date,\n",
    "          name1 as NAME, STREET, ZIP5, 0 as fico, 0 as apr, \n",
    "          0 as offer_amount, state, BranchNumber \n",
    "   from mb_fb_ita_0518\n",
    "   \"\n",
    "   )"
   ]
  },
  {
   "cell_type": "markdown",
   "metadata": {},
   "source": [
    "Save condensed master FBITA R data object"
   ]
  },
  {
   "cell_type": "code",
   "execution_count": 63,
   "metadata": {},
   "outputs": [],
   "source": [
    "save(mb_fb_ita, \n",
    "     file = \"C:/Users/cepps/RMC/Mail Files/R_data_objects/fbxs_ita/new_consol/mb_fb_ita.RData\")"
   ]
  },
  {
   "cell_type": "markdown",
   "metadata": {},
   "source": [
    "Subset auto and retail cross sell campaigns as one cross sell data set"
   ]
  },
  {
   "cell_type": "code",
   "execution_count": 6,
   "metadata": {},
   "outputs": [
    {
     "ename": "ERROR",
     "evalue": "Error in sqldf(\"\\n   select * \\n   from mb_pbfbxs_ita_0518 \\n   where campaign_id in ('RetailXSITA5.0_2018', 'AutoXSITA5.0_2018')\\n   \"): could not find function \"sqldf\"\n",
     "output_type": "error",
     "traceback": [
      "Error in sqldf(\"\\n   select * \\n   from mb_pbfbxs_ita_0518 \\n   where campaign_id in ('RetailXSITA5.0_2018', 'AutoXSITA5.0_2018')\\n   \"): could not find function \"sqldf\"\nTraceback:\n"
     ]
    }
   ],
   "source": [
    "mb_xs_ita_0518 <- sqldf(\n",
    "   \"\n",
    "   select * \n",
    "   from mb_pbfbxs_ita_0518 \n",
    "   where campaign_id in ('RetailXSITA5.0_2018', 'AutoXSITA5.0_2018')\n",
    "   \"\n",
    "   )"
   ]
  },
  {
   "cell_type": "markdown",
   "metadata": {},
   "source": [
    "Print dimensions"
   ]
  },
  {
   "cell_type": "code",
   "execution_count": 7,
   "metadata": {},
   "outputs": [
    {
     "ename": "ERROR",
     "evalue": "Error in eval(expr, envir, enclos): object 'mb_xs_ita_0518' not found\n",
     "output_type": "error",
     "traceback": [
      "Error in eval(expr, envir, enclos): object 'mb_xs_ita_0518' not found\nTraceback:\n"
     ]
    }
   ],
   "source": [
    "dim(mb_xs_ita_0518)"
   ]
  },
  {
   "cell_type": "markdown",
   "metadata": {},
   "source": [
    "Print summary of variables"
   ]
  },
  {
   "cell_type": "code",
   "execution_count": 8,
   "metadata": {},
   "outputs": [
    {
     "ename": "ERROR",
     "evalue": "Error in str(mb_pbfbxs_ita_0518): object 'mb_pbfbxs_ita_0518' not found\n",
     "output_type": "error",
     "traceback": [
      "Error in str(mb_pbfbxs_ita_0518): object 'mb_pbfbxs_ita_0518' not found\nTraceback:\n",
      "1. str(mb_pbfbxs_ita_0518)"
     ]
    }
   ],
   "source": [
    "str(mb_pbfbxs_ita_0518)\n",
    "summary(mb_pbfbxs_ita_0518)"
   ]
  },
  {
   "cell_type": "markdown",
   "metadata": {},
   "source": [
    "Convert `Drop_Date` from integer to date type"
   ]
  },
  {
   "cell_type": "code",
   "execution_count": 9,
   "metadata": {},
   "outputs": [
    {
     "ename": "ERROR",
     "evalue": "Error in mb_xs_ita_0518$Drop_Date <- as.Date(\"2018-05-07\", format = \"%Y-%m-%d\", : object 'mb_xs_ita_0518' not found\n",
     "output_type": "error",
     "traceback": [
      "Error in mb_xs_ita_0518$Drop_Date <- as.Date(\"2018-05-07\", format = \"%Y-%m-%d\", : object 'mb_xs_ita_0518' not found\nTraceback:\n"
     ]
    }
   ],
   "source": [
    "mb_xs_ita_0518$Drop_Date <- as.Date(\"2018-05-07\", format=\"%Y-%m-%d\",\n",
    "                                    origin=\"1970-01-01\")"
   ]
  },
  {
   "cell_type": "code",
   "execution_count": 10,
   "metadata": {},
   "outputs": [
    {
     "ename": "ERROR",
     "evalue": "Error in typeof(mb_xs_ita_0518$Drop_Date): object 'mb_xs_ita_0518' not found\n",
     "output_type": "error",
     "traceback": [
      "Error in typeof(mb_xs_ita_0518$Drop_Date): object 'mb_xs_ita_0518' not found\nTraceback:\n",
      "1. typeof(mb_xs_ita_0518$Drop_Date)"
     ]
    }
   ],
   "source": [
    "typeof(mb_xs_ita_0518$Drop_Date)"
   ]
  },
  {
   "cell_type": "markdown",
   "metadata": {},
   "source": [
    "Save XSITA dataset as R data oblect"
   ]
  },
  {
   "cell_type": "code",
   "execution_count": 72,
   "metadata": {},
   "outputs": [],
   "source": [
    "save(mb_xs_ita_0518, \n",
    "     file = \"C:/Users/cepps/RMC/Mail Files/R_data_objects/fbxs_ita/mb_xs_ita_0518.RData\")"
   ]
  },
  {
   "cell_type": "markdown",
   "metadata": {},
   "source": [
    "Load XSELLITA master dataset"
   ]
  },
  {
   "cell_type": "code",
   "execution_count": 11,
   "metadata": {},
   "outputs": [],
   "source": [
    "load(\"C:/Users/cepps/RMC/Mail Files/R_data_objects/fbxs_ita/mb_xsell_ita.RData\")"
   ]
  },
  {
   "cell_type": "code",
   "execution_count": 3,
   "metadata": {},
   "outputs": [],
   "source": [
    "write.csv(mb_xsell_ita, file = \"C:/Users/cepps/RMC/Mail Files/R_data_objects/fbxs_ita/mb_xsell_ita.csv\")"
   ]
  },
  {
   "cell_type": "code",
   "execution_count": 12,
   "metadata": {},
   "outputs": [],
   "source": [
    "write.table(mb_xsell_ita, \"C:/Users/cepps/RMC/Mail Files/Optimized_Mail_Files/fbxs_ita/mb_xsell_ita.txt\", sep=\"\\t\", col.names = TRUE)"
   ]
  },
  {
   "cell_type": "code",
   "execution_count": 13,
   "metadata": {},
   "outputs": [
    {
     "name": "stdout",
     "output_type": "stream",
     "text": [
      "'data.frame':\t117927 obs. of  13 variables:\n",
      " $ mon_ind     : int  81 81 81 81 81 81 81 81 81 81 ...\n",
      " $ camp_type   : chr  \"07.XSELL_ITA\" \"07.XSELL_ITA\" \"07.XSELL_ITA\" \"07.XSELL_ITA\" ...\n",
      " $ camp_type1  : chr  \"XSELL_ITA_0916__XS9.0_16ITA\" \"XSELL_ITA_0916__XS9.0_16ITA\" \"XSELL_ITA_0916__XS9.0_16ITA\" \"XSELL_ITA_0916__XS9.0_16ITA\" ...\n",
      " $ SS7         : chr  \"2202076\" \"6130959\" \"6205623\" \"7444625\" ...\n",
      " $ Drop_Date   : Date, format: \"2016-09-23\" \"2016-09-23\" ...\n",
      " $ NAME        : chr  \"Brad Tew\" \"Gwendolyn Rodgers\" \"Ashley Weatherred\" \"Griselda Sacramento\" ...\n",
      " $ STREET      : chr  \"4808 Austin St Apt B\" \"2312 Roberts St\" \"3833 Dunlavy St Apt 316\" \"180 Malone St Apt 12\" ...\n",
      " $ ZIP5        : int  77004 77004 77006 77007 77009 77009 77009 77012 77012 77012 ...\n",
      " $ FICO        : num  618 568 507 597 574 597 607 619 553 568 ...\n",
      " $ APR         : chr  \"0\" \"0\" \"0\" \"0\" ...\n",
      " $ OFFER_AMOUNT: int  0 0 0 0 0 0 0 0 0 0 ...\n",
      " $ STATE       : chr  \"TX\" \"TX\" \"TX\" \"TX\" ...\n",
      " $ BRANCHNUMBER: int  536 536 541 533 560 560 560 557 557 557 ...\n"
     ]
    },
    {
     "data": {
      "text/plain": [
       "    mon_ind       camp_type          camp_type1            SS7           \n",
       " Min.   :81.00   Length:117927      Length:117927      Length:117927     \n",
       " 1st Qu.:85.00   Class :character   Class :character   Class :character  \n",
       " Median :89.00   Mode  :character   Mode  :character   Mode  :character  \n",
       " Mean   :89.02                                                           \n",
       " 3rd Qu.:93.00                                                           \n",
       " Max.   :95.00                                                           \n",
       "                                                                         \n",
       "   Drop_Date              NAME              STREET               ZIP5      \n",
       " Min.   :2016-09-23   Length:117927      Length:117927      Min.   :20110  \n",
       " 1st Qu.:2017-01-18   Class :character   Class :character   1st Qu.:29406  \n",
       " Median :2017-05-09   Mode  :character   Mode  :character   Median :74137  \n",
       " Mean   :2017-05-12                                         Mean   :55610  \n",
       " 3rd Qu.:2017-09-07                                         3rd Qu.:77502  \n",
       " Max.   :2017-11-07                                         Max.   :88352  \n",
       "                                                            NA's   :149    \n",
       "      FICO          APR             OFFER_AMOUNT    STATE          \n",
       " Min.   :   1   Length:117927      Min.   :0     Length:117927     \n",
       " 1st Qu.: 538   Class :character   1st Qu.:0     Class :character  \n",
       " Median : 578   Mode  :character   Median :0     Mode  :character  \n",
       " Mean   : 533                      Mean   :0                       \n",
       " 3rd Qu.: 609                      3rd Qu.:0                       \n",
       " Max.   :9999                      Max.   :0                       \n",
       " NA's   :155                                                       \n",
       "  BRANCHNUMBER   \n",
       " Min.   : 101.0  \n",
       " 1st Qu.: 528.0  \n",
       " Median : 570.0  \n",
       " Mean   : 590.9  \n",
       " 3rd Qu.: 677.0  \n",
       " Max.   :1217.0  \n",
       " NA's   :149     "
      ]
     },
     "metadata": {},
     "output_type": "display_data"
    }
   ],
   "source": [
    "str(mb_xsell_ita)\n",
    "summary(mb_xsell_ita)"
   ]
  },
  {
   "cell_type": "markdown",
   "metadata": {},
   "source": [
    "Convert `Drop_Date` from integer to date type"
   ]
  },
  {
   "cell_type": "code",
   "execution_count": 14,
   "metadata": {},
   "outputs": [],
   "source": [
    "mb_xsell_ita$Drop_Date <- as.Date(mb_xsell_ita$Drop_Date,\n",
    "                                  format = \"%Y-%m-%d\",\n",
    "                                  origin = \"1970-01-01\")"
   ]
  },
  {
   "cell_type": "markdown",
   "metadata": {},
   "source": [
    "Subset and join the master XSELLITA and current XSELLITA files"
   ]
  },
  {
   "cell_type": "code",
   "execution_count": 15,
   "metadata": {},
   "outputs": [
    {
     "ename": "ERROR",
     "evalue": "Error in sqldf(\"\\n   select mon_ind, camp_type, camp_type1, ss7, Drop_Date, NAME, STREET,\\n          ZIP5, fico, apr, offer_amount, state, BranchNumber \\n   from mb_xsell_ita\\n\\n   union all\\n\\n   select 101 as mon_ind, '07.XSELL_ITA' as camp_type, \\n          'XSELL_ITA_0518' as camp_type1, ss7, Drop_Date,\\n          name1 as NAME, STREET, ZIP5 as ZIP5, fico, 0 as apr,\\n          0 as offer_amount, state, BranchNumber \\n   from mb_xs_ita_0518\\n   \"): could not find function \"sqldf\"\n",
     "output_type": "error",
     "traceback": [
      "Error in sqldf(\"\\n   select mon_ind, camp_type, camp_type1, ss7, Drop_Date, NAME, STREET,\\n          ZIP5, fico, apr, offer_amount, state, BranchNumber \\n   from mb_xsell_ita\\n\\n   union all\\n\\n   select 101 as mon_ind, '07.XSELL_ITA' as camp_type, \\n          'XSELL_ITA_0518' as camp_type1, ss7, Drop_Date,\\n          name1 as NAME, STREET, ZIP5 as ZIP5, fico, 0 as apr,\\n          0 as offer_amount, state, BranchNumber \\n   from mb_xs_ita_0518\\n   \"): could not find function \"sqldf\"\nTraceback:\n"
     ]
    }
   ],
   "source": [
    "mb_xsell_ita <- sqldf(\n",
    "   \"\n",
    "   select mon_ind, camp_type, camp_type1, ss7, Drop_Date, NAME, STREET,\n",
    "          ZIP5, fico, apr, offer_amount, state, BranchNumber \n",
    "   from mb_xsell_ita\n",
    "\n",
    "   union all\n",
    "\n",
    "   select 101 as mon_ind, '07.XSELL_ITA' as camp_type, \n",
    "          'XSELL_ITA_0518' as camp_type1, ss7, Drop_Date,\n",
    "          name1 as NAME, STREET, ZIP5 as ZIP5, fico, 0 as apr,\n",
    "          0 as offer_amount, state, BranchNumber \n",
    "   from mb_xs_ita_0518\n",
    "   \"\n",
    "   )"
   ]
  },
  {
   "cell_type": "markdown",
   "metadata": {},
   "source": [
    "Save condensed master XSELLITA dataset as R data object"
   ]
  },
  {
   "cell_type": "code",
   "execution_count": 76,
   "metadata": {},
   "outputs": [],
   "source": [
    "save(mb_xsell_ita, \n",
    "     file = \"C:/Users/cepps/RMC/Mail Files/R_data_objects/fbxs_ita/new_consol/mb_xsell_ita.RData\")"
   ]
  },
  {
   "cell_type": "code",
   "execution_count": null,
   "metadata": {},
   "outputs": [],
   "source": []
  }
 ],
 "metadata": {
  "kernelspec": {
   "display_name": "R",
   "language": "R",
   "name": "ir"
  },
  "language_info": {
   "codemirror_mode": "r",
   "file_extension": ".r",
   "mimetype": "text/x-r-source",
   "name": "R",
   "pygments_lexer": "r",
   "version": "3.4.3"
  }
 },
 "nbformat": 4,
 "nbformat_minor": 2
}
