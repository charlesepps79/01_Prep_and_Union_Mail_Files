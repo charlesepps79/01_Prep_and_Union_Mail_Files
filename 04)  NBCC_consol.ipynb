{
 "cells": [
  {
   "cell_type": "code",
   "execution_count": 1,
   "metadata": {},
   "outputs": [
    {
     "name": "stderr",
     "output_type": "stream",
     "text": [
      "\n",
      "Attaching package: 'dplyr'\n",
      "\n",
      "The following objects are masked from 'package:stats':\n",
      "\n",
      "    filter, lag\n",
      "\n",
      "The following objects are masked from 'package:base':\n",
      "\n",
      "    intersect, setdiff, setequal, union\n",
      "\n",
      "Loading required package: gsubfn\n",
      "Loading required package: proto\n",
      "Loading required package: RSQLite\n"
     ]
    }
   ],
   "source": [
    "library(dplyr)\n",
    "library(sqldf)"
   ]
  },
  {
   "cell_type": "code",
   "execution_count": 2,
   "metadata": {},
   "outputs": [
    {
     "data": {
      "text/html": [
       "620000"
      ],
      "text/latex": [
       "620000"
      ],
      "text/markdown": [
       "620000"
      ],
      "text/plain": [
       "[1] 620000"
      ]
     },
     "metadata": {},
     "output_type": "display_data"
    }
   ],
   "source": [
    "# Import new mailfile\n",
    "df <- read.table(\"E:/Pallavi/2018/rev1/rev2/mailfile/mailfiles/567) 118144A_RMC_NB_5.0_Final_mailfile.txt\", \n",
    "                 fill=TRUE, header=TRUE, sep=\"\\t\", quote=\"\")\n",
    "nrow(df)"
   ]
  },
  {
   "cell_type": "code",
   "execution_count": 3,
   "metadata": {},
   "outputs": [
    {
     "data": {
      "text/html": [
       "<ol class=list-inline>\n",
       "\t<li>06/19/2018</li>\n",
       "\t<li></li>\n",
       "</ol>\n"
      ],
      "text/latex": [
       "\\begin{enumerate*}\n",
       "\\item 06/19/2018\n",
       "\\item \n",
       "\\end{enumerate*}\n"
      ],
      "text/markdown": [
       "1. 06/19/2018\n",
       "2. \n",
       "\n",
       "\n"
      ],
      "text/plain": [
       "[1] 06/19/2018           \n",
       "Levels:  06/19/2018"
      ]
     },
     "metadata": {},
     "output_type": "display_data"
    }
   ],
   "source": [
    "# Check Drop_Date\n",
    "unique(df$Drop_Date)"
   ]
  },
  {
   "cell_type": "code",
   "execution_count": 4,
   "metadata": {},
   "outputs": [
    {
     "name": "stdout",
     "output_type": "stream",
     "text": [
      " Factor w/ 2 levels \"\",\"06/19/2018\": 2 2 2 2 2 2 2 2 2 2 ...\n"
     ]
    }
   ],
   "source": [
    "str(df$Drop_Date)"
   ]
  },
  {
   "cell_type": "code",
   "execution_count": 5,
   "metadata": {},
   "outputs": [
    {
     "name": "stdout",
     "output_type": "stream",
     "text": [
      " Date[1:620000], format: \"2018-06-19\" \"2018-06-19\" \"2018-06-19\" \"2018-06-19\" \"2018-06-19\" ...\n"
     ]
    }
   ],
   "source": [
    "# CHANGE DATE and date format if required\n",
    "df$Drop_Date <- as.Date(\"2018-06-19\",format=\"%Y-%m-%d\",origin=\"1970-01-01\")\n",
    "str(df$Drop_Date)"
   ]
  },
  {
   "cell_type": "code",
   "execution_count": 6,
   "metadata": {},
   "outputs": [
    {
     "data": {
      "text/html": [
       "<time datetime=\"2018-06-19\">2018-06-19</time>"
      ],
      "text/latex": [
       "2018-06-19"
      ],
      "text/markdown": [
       "2018-06-19"
      ],
      "text/plain": [
       "[1] \"2018-06-19\""
      ]
     },
     "metadata": {},
     "output_type": "display_data"
    }
   ],
   "source": [
    "unique(df$Drop_Date)"
   ]
  },
  {
   "cell_type": "code",
   "execution_count": 7,
   "metadata": {},
   "outputs": [],
   "source": [
    "# Load latest consolidated mailfile\n",
    "load(\"C:/Users/cepps/RMC/Mail Files/R_data_objects/fbxs_ita/mb_fb_ita.RData\")"
   ]
  },
  {
   "cell_type": "code",
   "execution_count": 9,
   "metadata": {},
   "outputs": [],
   "source": [
    "write.table(mb_fb_ita, \"C:/Users/cepps/RMC/Mail Files/R_data_objects/fbxs_ita/mb_fb_ita_ALL.txt\", sep=\"\\t\")"
   ]
  },
  {
   "cell_type": "code",
   "execution_count": null,
   "metadata": {},
   "outputs": [],
   "source": [
    "mb_nbcc$Drop_Date <- as.Date(mb_nbcc$Drop_Date,format=\"%Y-%m-%d\",origin=\"1970-01-01\")\n",
    "nrow(mb_nbcc)"
   ]
  },
  {
   "cell_type": "code",
   "execution_count": 11,
   "metadata": {},
   "outputs": [
    {
     "data": {
      "text/html": [
       "<ol class=list-inline>\n",
       "\t<li><time datetime=\"2016-10-04\">2016-10-04</time></li>\n",
       "\t<li><time datetime=\"2016-11-03\">2016-11-03</time></li>\n",
       "\t<li><time datetime=\"2017-01-13\">2017-01-13</time></li>\n",
       "\t<li><time datetime=\"2017-02-01\">2017-02-01</time></li>\n",
       "\t<li><time datetime=\"2017-03-09\">2017-03-09</time></li>\n",
       "\t<li><time datetime=\"2017-04-13\">2017-04-13</time></li>\n",
       "\t<li><time datetime=\"2017-05-09\">2017-05-09</time></li>\n",
       "\t<li><time datetime=\"2017-06-07\">2017-06-07</time></li>\n",
       "\t<li><time datetime=\"2017-07-07\">2017-07-07</time></li>\n",
       "\t<li><time datetime=\"2017-08-04\">2017-08-04</time></li>\n",
       "\t<li><time datetime=\"2017-09-07\">2017-09-07</time></li>\n",
       "\t<li><time datetime=\"2017-10-05\">2017-10-05</time></li>\n",
       "\t<li><time datetime=\"2017-11-07\">2017-11-07</time></li>\n",
       "</ol>\n"
      ],
      "text/latex": [
       "\\begin{enumerate*}\n",
       "\\item 2016-10-04\n",
       "\\item 2016-11-03\n",
       "\\item 2017-01-13\n",
       "\\item 2017-02-01\n",
       "\\item 2017-03-09\n",
       "\\item 2017-04-13\n",
       "\\item 2017-05-09\n",
       "\\item 2017-06-07\n",
       "\\item 2017-07-07\n",
       "\\item 2017-08-04\n",
       "\\item 2017-09-07\n",
       "\\item 2017-10-05\n",
       "\\item 2017-11-07\n",
       "\\end{enumerate*}\n"
      ],
      "text/markdown": [
       "1. 2016-10-04\n",
       "2. 2016-11-03\n",
       "3. 2017-01-13\n",
       "4. 2017-02-01\n",
       "5. 2017-03-09\n",
       "6. 2017-04-13\n",
       "7. 2017-05-09\n",
       "8. 2017-06-07\n",
       "9. 2017-07-07\n",
       "10. 2017-08-04\n",
       "11. 2017-09-07\n",
       "12. 2017-10-05\n",
       "13. 2017-11-07\n",
       "\n",
       "\n"
      ],
      "text/plain": [
       " [1] \"2016-10-04\" \"2016-11-03\" \"2017-01-13\" \"2017-02-01\" \"2017-03-09\"\n",
       " [6] \"2017-04-13\" \"2017-05-09\" \"2017-06-07\" \"2017-07-07\" \"2017-08-04\"\n",
       "[11] \"2017-09-07\" \"2017-10-05\" \"2017-11-07\""
      ]
     },
     "metadata": {},
     "output_type": "display_data"
    }
   ],
   "source": [
    "unique(mb_fb_ita$Drop_Date)"
   ]
  },
  {
   "cell_type": "code",
   "execution_count": null,
   "metadata": {},
   "outputs": [],
   "source": [
    "df <- sqldf(\n",
    "    \"\n",
    "    select *,\n",
    "        case when length(SS7) = 5 then '00'||SS7 \n",
    "             when length(SS7)=6 then '0'||SS7 \n",
    "        else SS7 end as SSN7 \n",
    "    from df a\n",
    "    \"\n",
    ")"
   ]
  },
  {
   "cell_type": "code",
   "execution_count": null,
   "metadata": {},
   "outputs": [],
   "source": [
    "df <- sqldf(\n",
    "  \"\n",
    "  select *, \n",
    "    case when length(SS7) = 5 then 'A00'|| SS7 \n",
    "         when length(SS7) = 6 then 'A0'|| SS7 \n",
    "          else 'A' || SS7 end as SSN7 \n",
    "  from df a\n",
    "  \"\n",
    "  )"
   ]
  },
  {
   "cell_type": "code",
   "execution_count": null,
   "metadata": {},
   "outputs": [],
   "source": [
    "df$CheckAmount <- gsub(\"$\",\"\",df$CheckAmount,fixed=TRUE)\n",
    "df$CheckAmount <- gsub(\",\",\"\",df$CheckAmount,fixed=TRUE)\n",
    "df$CheckAmount <- as.integer(df$CheckAmount)"
   ]
  },
  {
   "cell_type": "code",
   "execution_count": null,
   "metadata": {},
   "outputs": [],
   "source": [
    "mb_nbcc<- sqldf(\"select mon_ind, camp_type, camp_type1,\n",
    "                ss7,Drop_Date, NAME, STREET, ZIP5 as ZIP5, fico, apr, \n",
    "                offer_amount, state, BranchNumber \n",
    "                from mb_nbcc\n",
    "                \n",
    "                union all\n",
    "                \n",
    "                select '102' as mon_ind,'02.NBCC' as camp_type,'NBCC_0618__Jun-18_Drop-1' as camp_type1,\n",
    "                SS7 as ss7, Drop_Date as Drop_Date, FName as NAME, STREET, ZIP5, fico, Apr1 as apr,\n",
    "                CheckAmount as offer_amount, state, BranchNumber \n",
    "                from df\n",
    "                \")"
   ]
  },
  {
   "cell_type": "code",
   "execution_count": null,
   "metadata": {},
   "outputs": [],
   "source": [
    "unique(mb_nbcc$camp_type1)"
   ]
  },
  {
   "cell_type": "code",
   "execution_count": null,
   "metadata": {},
   "outputs": [],
   "source": [
    "nrow(mb_nbcc)"
   ]
  },
  {
   "cell_type": "code",
   "execution_count": null,
   "metadata": {},
   "outputs": [],
   "source": [
    "write.table(mydata, \"c:/mydata.txt\", sep=\"\\t\")"
   ]
  },
  {
   "cell_type": "code",
   "execution_count": null,
   "metadata": {},
   "outputs": [],
   "source": [
    "save(mb_nbcc_0618, file=\"E:/Pallavi/2018/rev1/rev2/mailfile/mailfiles/mb_nbcc_0618.RData\")\n",
    "\n",
    "save(mb_nbcc,file=\"E:/Pallavi/2018/rev1/rev2/mailfile/mailfiles/new_consol/mb_nbcc.RData\")\n"
   ]
  }
 ],
 "metadata": {
  "kernelspec": {
   "display_name": "R",
   "language": "R",
   "name": "ir"
  },
  "language_info": {
   "codemirror_mode": "r",
   "file_extension": ".r",
   "mimetype": "text/x-r-source",
   "name": "R",
   "pygments_lexer": "r",
   "version": "3.4.3"
  }
 },
 "nbformat": 4,
 "nbformat_minor": 2
}
