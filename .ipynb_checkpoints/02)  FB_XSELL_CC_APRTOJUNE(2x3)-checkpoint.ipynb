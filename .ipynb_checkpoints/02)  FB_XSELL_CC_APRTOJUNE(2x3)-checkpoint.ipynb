{
 "cells": [
  {
   "cell_type": "code",
   "execution_count": 78,
   "metadata": {},
   "outputs": [],
   "source": [
    "library(dplyr)\n",
    "library(sqldf)"
   ]
  },
  {
   "cell_type": "markdown",
   "metadata": {},
   "source": [
    "April18\n",
    "\n",
    "Import new mailfile"
   ]
  },
  {
   "cell_type": "code",
   "execution_count": 79,
   "metadata": {},
   "outputs": [],
   "source": [
    "mb_fb_xsell_cc_0418 <- read.table(\"E:/Pallavi/2018/rev1/rev2/mailfile/mailfiles/564) 117484A_RMC_FB_XS_LC_Final_Mailfile.txt\", \n",
    "                                  fill = TRUE, header = TRUE,\n",
    "                                  sep = \"\\t\", quote = \"\")"
   ]
  },
  {
   "cell_type": "markdown",
   "metadata": {},
   "source": [
    "Print dimentions"
   ]
  },
  {
   "cell_type": "code",
   "execution_count": 80,
   "metadata": {},
   "outputs": [
    {
     "data": {
      "text/html": [
       "<ol class=list-inline>\n",
       "\t<li>20225</li>\n",
       "\t<li>75</li>\n",
       "</ol>\n"
      ],
      "text/latex": [
       "\\begin{enumerate*}\n",
       "\\item 20225\n",
       "\\item 75\n",
       "\\end{enumerate*}\n"
      ],
      "text/markdown": [
       "1. 20225\n",
       "2. 75\n",
       "\n",
       "\n"
      ],
      "text/plain": [
       "[1] 20225    75"
      ]
     },
     "metadata": {},
     "output_type": "display_data"
    }
   ],
   "source": [
    "dim(mb_fb_xsell_cc_0418)"
   ]
  },
  {
   "cell_type": "code",
   "execution_count": 81,
   "metadata": {},
   "outputs": [
    {
     "name": "stdout",
     "output_type": "stream",
     "text": [
      "'data.frame':\t20225 obs. of  75 variables:\n",
      " $ FILECODE              : Factor w/ 2 levels \"FB\",\"XS\": 1 1 1 1 1 1 1 1 1 1 ...\n",
      " $ BATCH                 : Factor w/ 8 levels \"A\",\"D\",\"E\",\"MA\",..: 1 1 1 1 1 1 1 1 1 1 ...\n",
      " $ LETTERCD              : Factor w/ 35 levels \"ALL\",\"ALS\",\"ARL\",..: 22 22 22 22 22 22 22 22 22 22 ...\n",
      " $ SS7                   : int  1272709 6259809 7707207 1411713 9399899 984839 683521 820985 9865380 8884749 ...\n",
      " $ NAME1                 : Factor w/ 19618 levels \".shauna Ingram\",..: 3253 11372 5684 9089 12768 2097 17323 17283 8736 13002 ...\n",
      " $ ADDR2                 : Factor w/ 201 levels \"\",\" \",\"/  3102 Henry Ln.\",..: 2 2 2 2 2 2 2 2 2 2 ...\n",
      " $ STREET                : Factor w/ 19967 levels \"\",\"1 Berwick Ct.\",..: 1667 2648 16117 7599 12559 18708 13764 10787 9401 8721 ...\n",
      " $ CITY                  : Factor w/ 1766 levels \"\",\"Abbeville\",..: 1368 1368 94 294 534 534 534 666 666 666 ...\n",
      " $ STATE                 : Factor w/ 10 levels \"\",\"AL\",\"GA\",\"NC\",..: 4 4 4 4 4 4 4 4 4 4 ...\n",
      " $ ZIP5                  : int  27801 27803 27807 27817 27828 27828 27828 27834 27834 27834 ...\n",
      " $ ZIP4                  : int  7410 2107 9086 8264 1475 9612 8555 2162 5675 4700 ...\n",
      " $ QSEQNUM               : int  1 2 3 4 5 6 7 8 9 10 ...\n",
      " $ Drop_Date             : Factor w/ 2 levels \"\",\"04/18/2018\": 2 2 2 2 2 2 2 2 2 2 ...\n",
      " $ Closed_Date           : Factor w/ 2 levels \"\",\"05/16/2018\": 2 2 2 2 2 2 2 2 2 2 ...\n",
      " $ CheckAmount_SpelledOut: Factor w/ 12 levels \"\",\"one thousand and 00/100\",..: 7 7 10 7 7 7 7 10 10 10 ...\n",
      " $ CheckAmount           : Factor w/ 12 levels \"\",\"1,000.00\",..: 3 3 11 3 3 3 3 11 11 11 ...\n",
      " $ CheckNumber           : num  2e+09 2e+09 2e+09 2e+09 2e+09 ...\n",
      " $ AcctNum               : num  2.08e+12 2.08e+12 2.08e+12 2.08e+12 2.08e+12 ...\n",
      " $ AMT_ID                : int  599 599 600 599 599 599 599 600 600 600 ...\n",
      " $ amt_finan1            : Factor w/ 12 levels \"\",\"1,000.00\",..: 3 3 11 3 3 3 3 11 11 11 ...\n",
      " $ Apr1                  : num  33.4 33.4 30.9 33.4 33.4 ...\n",
      " $ pmt_amt_1             : num  99 99 103 99 99 ...\n",
      " $ num_pmt_1             : int  15 15 36 15 15 15 15 36 36 36 ...\n",
      " $ fin_chg_1             : Factor w/ 24 levels \"\",\"1,067.92\",..: 8 8 3 8 8 8 8 3 3 3 ...\n",
      " $ tot_pmt_1             : Factor w/ 24 levels \"\",\"1,484.46\",..: 2 2 20 2 2 2 2 20 20 20 ...\n",
      " $ amt_given1            : Factor w/ 12 levels \"\",\"$1,000.00\",..: 3 3 11 3 3 3 3 11 11 11 ...\n",
      " $ Lproc_fee1            : num  25 25 40 25 25 25 25 40 40 40 ...\n",
      " $ Acq_chg_1             : num  NA NA NA NA NA NA NA NA NA NA ...\n",
      " $ InHandChg1            : num  NA NA NA NA NA NA NA NA NA NA ...\n",
      " $ PrepaidFinChg         : num  NA NA NA NA NA NA NA NA NA NA ...\n",
      " $ IntSurchgLen          : num  NA NA NA NA NA NA NA NA NA NA ...\n",
      " $ Int_to_Lender         : Factor w/ 4 levels \"\",\" \",\"1,315.57\",..: 2 2 2 2 2 2 2 2 2 2 ...\n",
      " $ MntFeeToL1            : num  NA NA NA NA NA NA NA NA NA NA ...\n",
      " $ Mo_InHandChg          : num  NA NA NA NA NA NA NA NA NA NA ...\n",
      " $ FaceAmtLoan           : Factor w/ 4 levels \"\",\" \",\"1,705.35\",..: 2 2 2 2 2 2 2 2 2 2 ...\n",
      " $ LoanFee8              : num  NA NA NA NA NA NA NA NA NA NA ...\n",
      " $ LoanFee4              : num  NA NA NA NA NA NA NA NA NA NA ...\n",
      " $ Effective_rate        : num  29.9 29.9 29.5 29.9 29.9 ...\n",
      " $ Principle             : Factor w/ 4 levels \"\",\" \",\"1,260.00\",..: 2 2 2 2 2 2 2 2 2 2 ...\n",
      " $ NumPmts_exceptLast    : int  14 14 35 14 14 14 14 35 35 35 ...\n",
      " $ LastPmtAmount         : num  99 99 103 99 99 ...\n",
      " $ BranchNumber          : int  684 684 669 684 684 684 684 684 684 684 ...\n",
      " $ BranchCompany         : Factor w/ 2 levels \"\",\"Regional Finance\": 2 2 2 2 2 2 2 2 2 2 ...\n",
      " $ BranchStreetAddress   : Factor w/ 341 levels \"\",\"100 Forum Drive, Suite 4\",..: 238 238 96 238 238 238 238 238 238 238 ...\n",
      " $ BranchCity            : Factor w/ 261 levels \"\",\"Abilene\",\"Abingdon\",..: 106 106 199 106 106 106 106 106 106 106 ...\n",
      " $ BranchState           : Factor w/ 10 levels \"\",\"AL\",\"GA\",\"NC\",..: 4 4 4 4 4 4 4 4 4 4 ...\n",
      " $ BranchZip             : Factor w/ 341 levels \"\",\"20110-1700\",..: 35 35 32 35 35 35 35 35 35 35 ...\n",
      " $ BranchPhone           : Factor w/ 341 levels \"\",\"(205) 227-0090\",..: 33 33 315 33 33 33 33 33 33 33 ...\n",
      " $ BranchFax             : Factor w/ 341 levels \"\",\"(205) 210-4965\",..: 32 32 319 32 32 32 32 32 32 32 ...\n",
      " $ BranchManager         : Factor w/ 338 levels \"\",\" \",\"Aaron Balls\",..: 283 283 29 283 283 283 283 283 283 283 ...\n",
      " $ BranchSupervisor      : Factor w/ 41 levels \"\",\" \",\"Andrew Ivy\",..: 5 5 5 5 5 5 5 5 5 5 ...\n",
      " $ BranchStateVP         : Factor w/ 7 levels \"\",\" \",\"Heather Meares\",..: 4 4 4 4 4 4 4 4 4 4 ...\n",
      " $ Distance_to_Branch    : num  30.22 33.42 28.32 23.98 9.91 ...\n",
      " $ campaign_id           : Factor w/ 3 levels \"\",\"FB_5.0_2018CC\",..: 2 2 2 2 2 2 2 2 2 2 ...\n",
      " $ DOB                   : int  19800705 19720718 19840404 19670815 19700917 19610822 19441016 19520131 19500914 19521207 ...\n",
      " $ Made_Unmade           : Factor w/ 4 levels \"\",\" \",\"MADE\",..: 2 2 2 2 2 2 2 2 2 2 ...\n",
      " $ MLA_Status            : Factor w/ 2 levels \"\",\"N\": 2 2 2 2 2 2 2 2 2 2 ...\n",
      " $ AMT_ID.1              : int  599 599 600 599 599 599 599 600 600 600 ...\n",
      " $ ConProfile            : num  NA NA NA NA NA NA NA NA NA NA ...\n",
      " $ BrAcctNo              : Factor w/ 20116 levels \"\",\"0101037301\",..: 17069 11645 11225 11635 15611 11653 2203 11666 16296 16058 ...\n",
      " $ CifNo                 : Factor w/ 17954 levels \"\",\" \",\"100043\",..: 2015 1419 837 1400 1561 1431 1394 1397 13766 3380 ...\n",
      " $ MGC                   : logi  NA NA NA NA NA NA ...\n",
      " $ Month_Split           : Factor w/ 3 levels \"\",\"Even\",\"Odd\": 3 3 3 3 3 3 3 3 2 3 ...\n",
      " $ FNAME                 : Factor w/ 4944 levels \"\",\".SHAUNA\",\"AARHYON\",..: 828 2794 1420 2263 3146 532 4251 4235 2211 3165 ...\n",
      " $ MNAME                 : Factor w/ 152 levels \"\",\" \",\"\\\"SWAN\\\"\",..: 2 2 2 2 2 2 2 2 2 2 ...\n",
      " $ LNAME                 : Factor w/ 7835 levels \"\",\"AARON\",\"ABAD\",..: 7572 5058 2660 3646 7409 4947 2498 3405 6365 5607 ...\n",
      " $ amt_given1.1          : Factor w/ 12 levels \"\",\"$1,000.00\",..: 3 3 11 3 3 3 3 11 11 11 ...\n",
      " $ Fico_Range_25pt       : Factor w/ 20 levels \"\",\" \",\"<500\",..: 8 10 10 10 10 10 9 11 12 13 ...\n",
      " $ State1                : logi  NA NA NA NA NA NA ...\n",
      " $ Test_Code             : logi  NA NA NA NA NA NA ...\n",
      " $ POffDate              : Factor w/ 393 levels \"\",\" \",\"2017-01-03\",..: 390 116 168 121 339 250 325 327 378 351 ...\n",
      " $ fico                  : int  576 629 647 636 636 625 621 658 690 705 ...\n",
      " $ Phone                 : Factor w/ 13000 levels \"\",\" \",\"()-\",\"(000)366-8770\",..: 985 2 982 2 1004 2 1005 991 1006 2 ...\n",
      " $ CellPhone             : Factor w/ 4306 levels \"\",\" \",\"()-\",\"(111)111-1111\",..: 3 3 3 3 3 3 3 3 3 3 ...\n",
      " $ X                     : logi  NA NA NA NA NA NA ...\n"
     ]
    },
    {
     "data": {
      "text/plain": [
       " FILECODE       BATCH         LETTERCD         SS7         \n",
       " FB:16348   E      :7617   TXL    :3624   Min.   :  11875  \n",
       " XS: 3877   A      :7042   SC     :2064   1st Qu.:2339747  \n",
       "            ME     :2344   NC     :1782   Median :4968185  \n",
       "            MA     :2066   XRL    :1689   Mean   :4969760  \n",
       "            D      : 530   TX     :1286   3rd Qu.:7589647  \n",
       "            V      : 365   MTXL   :1162   Max.   :9999942  \n",
       "            (Other): 261   (Other):8618                    \n",
       "             NAME1           ADDR2                           STREET     \n",
       " Maria Reyes    :   10          :20005                          :   14  \n",
       " Maria Gonzalez :    7   Rd.    :    7   8602 Cinnamon Creek Dr.:    4  \n",
       " Maria Hernandez:    7   Dr.    :    4   P.O. Box 384           :    4  \n",
       " Juan Garcia    :    6          :    3   P.O. Box 1032          :    3  \n",
       " Jose Hernandez :    5   Lane   :    3   P.O. Box 131           :    3  \n",
       " Jose Perez     :    5   SW     :    3   P.O. Box 45            :    3  \n",
       " (Other)        :20185   (Other):  200   (Other)                :20194  \n",
       "          CITY           STATE           ZIP5            ZIP4     \n",
       " Houston    : 1488   TX     :9901   Min.   :20105   Min.   :   2  \n",
       " San Antonio: 1127   SC     :2725   1st Qu.:29640   1st Qu.:2656  \n",
       " El Paso    :  674   NC     :2510   Median :75216   Median :4392  \n",
       " Austin     :  298   AL     :1700   Mean   :58047   Mean   :4714  \n",
       " Charlotte  :  255   OK     :1033   3rd Qu.:78122   3rd Qu.:6638  \n",
       " Dallas     :  217   TN     : 965   Max.   :88352   Max.   :9895  \n",
       " (Other)    :16166   (Other):1391   NA's   :110     NA's   :111   \n",
       "    QSEQNUM           Drop_Date         Closed_Date   \n",
       " Min.   :    1             :  110             :  110  \n",
       " 1st Qu.: 5084   04/18/2018:20115   05/16/2018:20115  \n",
       " Median :10173                                        \n",
       " Mean   :10167                                        \n",
       " 3rd Qu.:15234                                        \n",
       " Max.   :20343                                        \n",
       " NA's   :110                                          \n",
       "                           CheckAmount_SpelledOut   CheckAmount   \n",
       " two thousand four hundred and 00/100 :10694      2,400.00:10694  \n",
       " one thousand two hundred and 00/100  : 2386      1,200.00: 2386  \n",
       " one thousand and 00/100              : 1650      1,000.00: 1650  \n",
       " one thousand three hundred and 00/100: 1299      1,300.00: 1299  \n",
       " two thousand and 00/100              : 1152      2,000.00: 1152  \n",
       " two thousand two hundred and 00/100  : 1128      2,200.00: 1128  \n",
       " (Other)                              : 1916      (Other) : 1916  \n",
       "  CheckNumber           AcctNum              AMT_ID         amt_finan1   \n",
       " Min.   :2.001e+09   Min.   :8.018e+09   Min.   :229.0   2,400.00:10694  \n",
       " 1st Qu.:2.003e+09   1st Qu.:2.080e+12   1st Qu.:599.0   1,200.00: 2386  \n",
       " Median :2.004e+09   Median :2.080e+12   Median :604.0   1,000.00: 1650  \n",
       " Mean   :2.196e+09   Mean   :1.666e+12   Mean   :578.2   1,300.00: 1299  \n",
       " 3rd Qu.:2.007e+09   3rd Qu.:2.080e+12   3rd Qu.:606.0   2,000.00: 1152  \n",
       " Max.   :3.008e+09   Max.   :2.080e+12   Max.   :616.0   2,200.00: 1128  \n",
       " NA's   :110         NA's   :110         NA's   :110     (Other) : 1916  \n",
       "      Apr1         pmt_amt_1        num_pmt_1        fin_chg_1   \n",
       " Min.   :30.85   Min.   : 98.96   Min.   :13.00   1,415.57:6952  \n",
       " 1st Qu.:33.10   1st Qu.:106.00   1st Qu.:15.00   2,011.79:2157  \n",
       " Median :35.99   Median :112.37   Median :36.00   522.17  :1650  \n",
       " Mean   :44.18   Mean   :114.10   Mean   :27.09   1,307.90:1335  \n",
       " 3rd Qu.:48.11   3rd Qu.:122.56   3rd Qu.:36.00   833.00  :1299  \n",
       " Max.   :79.45   Max.   :141.99   Max.   :36.00   284.46  :1175  \n",
       " NA's   :110     NA's   :110      NA's   :110     (Other) :5657  \n",
       "    tot_pmt_1        amt_given1      Lproc_fee1       Acq_chg_1    \n",
       " 3,815.57:6952   $2,400.00:10694   Min.   : 25.00   Min.   :100.0  \n",
       " 4,411.79:2157   $1,200.00: 2392   1st Qu.: 25.00   1st Qu.:100.0  \n",
       " 1,522.17:1650   $1,000.00: 1646   Median : 40.00   Median :100.0  \n",
       " 3,707.90:1335   $1,300.00: 1299   Mean   : 42.27   Mean   :124.2  \n",
       " 2,133.00:1299   $2,000.00: 1150   3rd Qu.: 40.00   3rd Qu.:141.0  \n",
       " 1,484.46:1175   $2,200.00: 1128   Max.   :120.00   Max.   :200.0  \n",
       " (Other) :5657   (Other)  : 1916   NA's   :17245    NA's   :14706  \n",
       "   InHandChg1    PrepaidFinChg     IntSurchgLen    Int_to_Lender  \n",
       " Min.   :352.5   Min.   : 92.21   Min.   :120             :  110  \n",
       " 1st Qu.:389.8   1st Qu.:100.00   1st Qu.:120             :12035  \n",
       " Median :422.2   Median :100.00   Median :120     1,315.57: 6952  \n",
       " Mean   :507.3   Mean   :100.04   Mean   :120     753.19  : 1128  \n",
       " 3rd Qu.:639.8   3rd Qu.:100.00   3rd Qu.:120                     \n",
       " Max.   :733.0   Max.   :113.15   Max.   :120                     \n",
       " NA's   :14706   NA's   :13141    NA's   :19097                   \n",
       "   MntFeeToL1     Mo_InHandChg     FaceAmtLoan       LoanFee8    \n",
       " Min.   :45.00   Min.   :23.50           :  110   Min.   :48     \n",
       " 1st Qu.:72.00   1st Qu.:23.50           :19983   1st Qu.:48     \n",
       " Median :72.00   Median :23.50   1,705.35:   69   Median :48     \n",
       " Mean   :69.47   Mean   :23.72   2,228.87:   63   Mean   :48     \n",
       " 3rd Qu.:72.00   3rd Qu.:23.50                    3rd Qu.:48     \n",
       " Max.   :72.00   Max.   :24.50                    Max.   :48     \n",
       " NA's   :18965   NA's   :19192                    NA's   :20093  \n",
       "    LoanFee4     Effective_rate     Principle     NumPmts_exceptLast\n",
       " Min.   :44.21   Min.   :10.00           :  110   Min.   :14.00     \n",
       " 1st Qu.:44.21   1st Qu.:31.01           :19645   1st Qu.:14.00     \n",
       " Median :44.21   Median :31.01   1,260.00:  220   Median :23.00     \n",
       " Mean   :54.20   Mean   :38.04   2,520.00:  250   Mean   :24.21     \n",
       " 3rd Qu.:65.15   3rd Qu.:44.99                    3rd Qu.:35.00     \n",
       " Max.   :65.15   Max.   :64.99                    Max.   :35.00     \n",
       " NA's   :20093   NA's   :110                      NA's   :16566     \n",
       " LastPmtAmount     BranchNumber             BranchCompany  \n",
       " Min.   : 99.02   Min.   : 101.0                   :  110  \n",
       " 1st Qu.: 99.02   1st Qu.: 523.5   Regional Finance:20115  \n",
       " Median :102.90   Median : 566.0                           \n",
       " Mean   :105.53   Mean   : 594.3                           \n",
       " 3rd Qu.:107.54   3rd Qu.: 684.0                           \n",
       " Max.   :136.78   Max.   :1217.0                           \n",
       " NA's   :16566    NA's   :110                              \n",
       "                          BranchStreetAddress       BranchCity   \n",
       " 3719 N. Fry Road, Suite O          :  231    San Antonio: 1270  \n",
       " 459 Uvalde Road                    :  223    Houston    :  949  \n",
       " 3910 Fairmont Parkway, Suite D     :  221    El Paso    :  657  \n",
       " 1420 FM 1960 Bypass Rd E, Suite 118:  217    Pasadena   :  431  \n",
       " 5015 FM 2920 Road, Suite B         :  213    Austin     :  425  \n",
       " 1703 Shaver Street                 :  210    Spring     :  364  \n",
       " (Other)                            :18910    (Other)    :16129  \n",
       "  BranchState        BranchZip             BranchPhone   \n",
       " TX     :9901   77449-6740:  231   (281) 646-1082:  231  \n",
       " SC     :2725   77015-3717:  223   (832) 623-7068:  223  \n",
       " NC     :2510   77504-3066:  221   (281) 487-3529:  221  \n",
       " AL     :1700   77338-3934:  217   (281) 540-0302:  217  \n",
       " OK     :1033   77388-3114:  213   (281) 528-1038:  213  \n",
       " TN     : 965   77502-2027:  210   (832) 786-3844:  210  \n",
       " (Other):1391   (Other)   :18910   (Other)       :18910  \n",
       "          BranchFax               BranchManager          BranchSupervisor\n",
       " (832) 404-6426:  231   Jennifer Mankey  :  231   Sandra Lopez   : 1444  \n",
       " (832) 699-7697:  223   Fannie Garza     :  223                  : 1359  \n",
       " (281) 305-2747:  221   Maritza Manriquez:  221   Nellie Carrillo: 1104  \n",
       " (281) 612-1952:  217   Ernest Menefee   :  217   Joe Gandaria   : 1090  \n",
       " (281) 668-7188:  213   Ingrid Zelaya    :  213   Nick Miaoulis  : 1072  \n",
       " (832) 559-0679:  210   Crystal Martinez :  210   Ed Macias      :  792  \n",
       " (Other)       :18910   (Other)          :18910   (Other)        :13364  \n",
       "         BranchStateVP  Distance_to_Branch            campaign_id   \n",
       "                : 110   Min.   :  0.000                     :  110  \n",
       "                :2791   1st Qu.:  2.736    FB_5.0_2018CC    :16258  \n",
       " Heather Meares :1832   Median :  5.191    RetailXS_5.0_2018: 3857  \n",
       " Kenny Haynes   :3475   Mean   :  8.572                             \n",
       " Lee Wright     : 470   3rd Qu.:  9.654                             \n",
       " Michael Johnson:8822   Max.   :517.730                             \n",
       " Scott Juvelier :2725   NA's   :110                                 \n",
       "      DOB           Made_Unmade    MLA_Status    AMT_ID.1    \n",
       " Min.   :19100206         :  110    :  110    Min.   :229.0  \n",
       " 1st Qu.:19580304         :16258   N:20115    1st Qu.:599.0  \n",
       " Median :19690118   MADE  : 1694              Median :604.0  \n",
       " Mean   :19685333   UNMADE: 2163              Mean   :578.2  \n",
       " 3rd Qu.:19801008                             3rd Qu.:606.0  \n",
       " Max.   :20170902                             Max.   :616.0  \n",
       " NA's   :110                                  NA's   :110    \n",
       "   ConProfile              BrAcctNo         CifNo         MGC         \n",
       " Min.   :1.000e+10             :  110          : 2163   Mode:logical  \n",
       " 1st Qu.:1.000e+12   0101037301:    1          :  110   NA's:20225    \n",
       " Median :1.000e+12   0101037718:    1   100043 :    1                 \n",
       " Mean   :9.968e+11   0101037720:    1   100082 :    1                 \n",
       " 3rd Qu.:1.000e+12   0101037830:    1   100117 :    1                 \n",
       " Max.   :1.000e+12   0101038033:    1   100131 :    1                 \n",
       " NA's   :17775       (Other)   :20110   (Other):17948                 \n",
       " Month_Split      FNAME           MNAME             LNAME      \n",
       "     :  110   MARIA  :  270          :18656   GARCIA   :  188  \n",
       " Even: 1193   JAMES  :  240   L      :  204   SMITH    :  175  \n",
       " Odd :18922   MICHAEL:  217   D      :  135   MARTINEZ :  164  \n",
       "              DAVID  :  210   A      :  119   HERNANDEZ:  157  \n",
       "              JOSE   :  192   M      :  118   WILLIAMS :  155  \n",
       "              ROBERT :  187          :  110   RODRIGUEZ:  154  \n",
       "              (Other):18909   (Other):  883   (Other)  :19232  \n",
       "    amt_given1.1   Fico_Range_25pt  State1        Test_Code     \n",
       " $2,400.00:10694   625-649:5022    Mode:logical   Mode:logical  \n",
       " $1,200.00: 2392   650-674:3922    NA's:20225     NA's:20225    \n",
       " $1,000.00: 1646   600-624:3286                                 \n",
       " $1,300.00: 1299   575-599:2117                                 \n",
       " $2,000.00: 1150   675-699:1955                                 \n",
       " $2,200.00: 1128   700-724:1155                                 \n",
       " (Other)  : 1916   (Other):2768                                 \n",
       "       POffDate          fico                 Phone               CellPhone    \n",
       "           : 3857   Min.   :  0.0                : 7064   ()-          :14080  \n",
       " 2018-03-16:  210   1st Qu.:608.0                :  110                : 1719  \n",
       " 2018-03-14:  197   Median :637.0   (111)111-1111:   12                :  110  \n",
       " 2018-03-19:  192   Mean   :639.1   (999)999-9999:    7   0000000000   :    7  \n",
       " 2018-03-15:  187   3rd Qu.:666.0   (555)555-5555:    4   (251)769-1231:    2  \n",
       " 2018-03-23:  183   Max.   :999.0   (205)000-0000:    2   (256)347-4518:    2  \n",
       " (Other)   :15399   NA's   :119     (Other)      :13026   (Other)      : 4305  \n",
       "    X          \n",
       " Mode:logical  \n",
       " NA's:20225    \n",
       "               \n",
       "               \n",
       "               \n",
       "               \n",
       "               "
      ]
     },
     "metadata": {},
     "output_type": "display_data"
    }
   ],
   "source": [
    "str(mb_fb_xsell_cc_0418)\n",
    "summary(mb_fb_xsell_cc_0418)"
   ]
  },
  {
   "cell_type": "markdown",
   "metadata": {},
   "source": [
    "Subset for XSELL and FBCC(Monthly)"
   ]
  },
  {
   "cell_type": "code",
   "execution_count": 82,
   "metadata": {},
   "outputs": [],
   "source": [
    "mb_fb_cc_0418 <- sqldf(\n",
    "   \"\n",
    "   SELECT * \n",
    "   FROM mb_fb_xsell_cc_0418 \n",
    "   WHERE FILECODE IN ('FB')\n",
    "   \"\n",
    "   )"
   ]
  },
  {
   "cell_type": "code",
   "execution_count": 83,
   "metadata": {},
   "outputs": [
    {
     "data": {
      "text/html": [
       "<ol class=list-inline>\n",
       "\t<li>16348</li>\n",
       "\t<li>75</li>\n",
       "</ol>\n"
      ],
      "text/latex": [
       "\\begin{enumerate*}\n",
       "\\item 16348\n",
       "\\item 75\n",
       "\\end{enumerate*}\n"
      ],
      "text/markdown": [
       "1. 16348\n",
       "2. 75\n",
       "\n",
       "\n"
      ],
      "text/plain": [
       "[1] 16348    75"
      ]
     },
     "metadata": {},
     "output_type": "display_data"
    }
   ],
   "source": [
    "dim(mb_fb_cc_0418)"
   ]
  },
  {
   "cell_type": "code",
   "execution_count": 84,
   "metadata": {},
   "outputs": [
    {
     "name": "stdout",
     "output_type": "stream",
     "text": [
      "'data.frame':\t16348 obs. of  75 variables:\n",
      " $ FILECODE              : Factor w/ 2 levels \"FB\",\"XS\": 1 1 1 1 1 1 1 1 1 1 ...\n",
      " $ BATCH                 : Factor w/ 8 levels \"A\",\"D\",\"E\",\"MA\",..: 1 1 1 1 1 1 1 1 1 1 ...\n",
      " $ LETTERCD              : Factor w/ 35 levels \"ALL\",\"ALS\",\"ARL\",..: 22 22 22 22 22 22 22 22 22 22 ...\n",
      " $ SS7                   : int  1272709 6259809 7707207 1411713 9399899 984839 683521 820985 9865380 8884749 ...\n",
      " $ NAME1                 : Factor w/ 19618 levels \".shauna Ingram\",..: 3253 11372 5684 9089 12768 2097 17323 17283 8736 13002 ...\n",
      " $ ADDR2                 : Factor w/ 201 levels \"\",\" \",\"/  3102 Henry Ln.\",..: 2 2 2 2 2 2 2 2 2 2 ...\n",
      " $ STREET                : Factor w/ 19967 levels \"\",\"1 Berwick Ct.\",..: 1667 2648 16117 7599 12559 18708 13764 10787 9401 8721 ...\n",
      " $ CITY                  : Factor w/ 1766 levels \"\",\"Abbeville\",..: 1368 1368 94 294 534 534 534 666 666 666 ...\n",
      " $ STATE                 : Factor w/ 10 levels \"\",\"AL\",\"GA\",\"NC\",..: 4 4 4 4 4 4 4 4 4 4 ...\n",
      " $ ZIP5                  : int  27801 27803 27807 27817 27828 27828 27828 27834 27834 27834 ...\n",
      " $ ZIP4                  : int  7410 2107 9086 8264 1475 9612 8555 2162 5675 4700 ...\n",
      " $ QSEQNUM               : int  1 2 3 4 5 6 7 8 9 10 ...\n",
      " $ Drop_Date             : Factor w/ 2 levels \"\",\"04/18/2018\": 2 2 2 2 2 2 2 2 2 2 ...\n",
      " $ Closed_Date           : Factor w/ 2 levels \"\",\"05/16/2018\": 2 2 2 2 2 2 2 2 2 2 ...\n",
      " $ CheckAmount_SpelledOut: Factor w/ 12 levels \"\",\"one thousand and 00/100\",..: 7 7 10 7 7 7 7 10 10 10 ...\n",
      " $ CheckAmount           : Factor w/ 12 levels \"\",\"1,000.00\",..: 3 3 11 3 3 3 3 11 11 11 ...\n",
      " $ CheckNumber           : num  2e+09 2e+09 2e+09 2e+09 2e+09 ...\n",
      " $ AcctNum               : num  2.08e+12 2.08e+12 2.08e+12 2.08e+12 2.08e+12 ...\n",
      " $ AMT_ID                : int  599 599 600 599 599 599 599 600 600 600 ...\n",
      " $ amt_finan1            : Factor w/ 12 levels \"\",\"1,000.00\",..: 3 3 11 3 3 3 3 11 11 11 ...\n",
      " $ Apr1                  : num  33.4 33.4 30.9 33.4 33.4 ...\n",
      " $ pmt_amt_1             : num  99 99 103 99 99 ...\n",
      " $ num_pmt_1             : int  15 15 36 15 15 15 15 36 36 36 ...\n",
      " $ fin_chg_1             : Factor w/ 24 levels \"\",\"1,067.92\",..: 8 8 3 8 8 8 8 3 3 3 ...\n",
      " $ tot_pmt_1             : Factor w/ 24 levels \"\",\"1,484.46\",..: 2 2 20 2 2 2 2 20 20 20 ...\n",
      " $ amt_given1            : Factor w/ 12 levels \"\",\"$1,000.00\",..: 3 3 11 3 3 3 3 11 11 11 ...\n",
      " $ Lproc_fee1            : num  25 25 40 25 25 25 25 40 40 40 ...\n",
      " $ Acq_chg_1             : num  NA NA NA NA NA NA NA NA NA NA ...\n",
      " $ InHandChg1            : num  NA NA NA NA NA NA NA NA NA NA ...\n",
      " $ PrepaidFinChg         : num  NA NA NA NA NA NA NA NA NA NA ...\n",
      " $ IntSurchgLen          : num  NA NA NA NA NA NA NA NA NA NA ...\n",
      " $ Int_to_Lender         : Factor w/ 4 levels \"\",\" \",\"1,315.57\",..: 2 2 2 2 2 2 2 2 2 2 ...\n",
      " $ MntFeeToL1            : num  NA NA NA NA NA NA NA NA NA NA ...\n",
      " $ Mo_InHandChg          : num  NA NA NA NA NA NA NA NA NA NA ...\n",
      " $ FaceAmtLoan           : Factor w/ 4 levels \"\",\" \",\"1,705.35\",..: 2 2 2 2 2 2 2 2 2 2 ...\n",
      " $ LoanFee8              : num  NA NA NA NA NA NA NA NA NA NA ...\n",
      " $ LoanFee4              : num  NA NA NA NA NA NA NA NA NA NA ...\n",
      " $ Effective_rate        : num  29.9 29.9 29.5 29.9 29.9 ...\n",
      " $ Principle             : Factor w/ 4 levels \"\",\" \",\"1,260.00\",..: 2 2 2 2 2 2 2 2 2 2 ...\n",
      " $ NumPmts_exceptLast    : int  14 14 35 14 14 14 14 35 35 35 ...\n",
      " $ LastPmtAmount         : num  99 99 103 99 99 ...\n",
      " $ BranchNumber          : int  684 684 669 684 684 684 684 684 684 684 ...\n",
      " $ BranchCompany         : Factor w/ 2 levels \"\",\"Regional Finance\": 2 2 2 2 2 2 2 2 2 2 ...\n",
      " $ BranchStreetAddress   : Factor w/ 341 levels \"\",\"100 Forum Drive, Suite 4\",..: 238 238 96 238 238 238 238 238 238 238 ...\n",
      " $ BranchCity            : Factor w/ 261 levels \"\",\"Abilene\",\"Abingdon\",..: 106 106 199 106 106 106 106 106 106 106 ...\n",
      " $ BranchState           : Factor w/ 10 levels \"\",\"AL\",\"GA\",\"NC\",..: 4 4 4 4 4 4 4 4 4 4 ...\n",
      " $ BranchZip             : Factor w/ 341 levels \"\",\"20110-1700\",..: 35 35 32 35 35 35 35 35 35 35 ...\n",
      " $ BranchPhone           : Factor w/ 341 levels \"\",\"(205) 227-0090\",..: 33 33 315 33 33 33 33 33 33 33 ...\n",
      " $ BranchFax             : Factor w/ 341 levels \"\",\"(205) 210-4965\",..: 32 32 319 32 32 32 32 32 32 32 ...\n",
      " $ BranchManager         : Factor w/ 338 levels \"\",\" \",\"Aaron Balls\",..: 283 283 29 283 283 283 283 283 283 283 ...\n",
      " $ BranchSupervisor      : Factor w/ 41 levels \"\",\" \",\"Andrew Ivy\",..: 5 5 5 5 5 5 5 5 5 5 ...\n",
      " $ BranchStateVP         : Factor w/ 7 levels \"\",\" \",\"Heather Meares\",..: 4 4 4 4 4 4 4 4 4 4 ...\n",
      " $ Distance_to_Branch    : num  30.22 33.42 28.32 23.98 9.91 ...\n",
      " $ campaign_id           : Factor w/ 3 levels \"\",\"FB_5.0_2018CC\",..: 2 2 2 2 2 2 2 2 2 2 ...\n",
      " $ DOB                   : int  19800705 19720718 19840404 19670815 19700917 19610822 19441016 19520131 19500914 19521207 ...\n",
      " $ Made_Unmade           : Factor w/ 4 levels \"\",\" \",\"MADE\",..: 2 2 2 2 2 2 2 2 2 2 ...\n",
      " $ MLA_Status            : Factor w/ 2 levels \"\",\"N\": 2 2 2 2 2 2 2 2 2 2 ...\n",
      " $ AMT_ID.1              : int  599 599 600 599 599 599 599 600 600 600 ...\n",
      " $ ConProfile            : num  NA NA NA NA NA NA NA NA NA NA ...\n",
      " $ BrAcctNo              : Factor w/ 20116 levels \"\",\"0101037301\",..: 17069 11645 11225 11635 15611 11653 2203 11666 16296 16058 ...\n",
      " $ CifNo                 : Factor w/ 17954 levels \"\",\" \",\"100043\",..: 2015 1419 837 1400 1561 1431 1394 1397 13766 3380 ...\n",
      " $ MGC                   : logi  NA NA NA NA NA NA ...\n",
      " $ Month_Split           : Factor w/ 3 levels \"\",\"Even\",\"Odd\": 3 3 3 3 3 3 3 3 2 3 ...\n",
      " $ FNAME                 : Factor w/ 4944 levels \"\",\".SHAUNA\",\"AARHYON\",..: 828 2794 1420 2263 3146 532 4251 4235 2211 3165 ...\n",
      " $ MNAME                 : Factor w/ 152 levels \"\",\" \",\"\\\"SWAN\\\"\",..: 2 2 2 2 2 2 2 2 2 2 ...\n",
      " $ LNAME                 : Factor w/ 7835 levels \"\",\"AARON\",\"ABAD\",..: 7572 5058 2660 3646 7409 4947 2498 3405 6365 5607 ...\n",
      " $ amt_given1.1          : Factor w/ 12 levels \"\",\"$1,000.00\",..: 3 3 11 3 3 3 3 11 11 11 ...\n",
      " $ Fico_Range_25pt       : Factor w/ 20 levels \"\",\" \",\"<500\",..: 8 10 10 10 10 10 9 11 12 13 ...\n",
      " $ State1                : logi  NA NA NA NA NA NA ...\n",
      " $ Test_Code             : logi  NA NA NA NA NA NA ...\n",
      " $ POffDate              : Factor w/ 393 levels \"\",\" \",\"2017-01-03\",..: 390 116 168 121 339 250 325 327 378 351 ...\n",
      " $ fico                  : int  576 629 647 636 636 625 621 658 690 705 ...\n",
      " $ Phone                 : Factor w/ 13000 levels \"\",\" \",\"()-\",\"(000)366-8770\",..: 985 2 982 2 1004 2 1005 991 1006 2 ...\n",
      " $ CellPhone             : Factor w/ 4306 levels \"\",\" \",\"()-\",\"(111)111-1111\",..: 3 3 3 3 3 3 3 3 3 3 ...\n",
      " $ X                     : logi  NA NA NA NA NA NA ...\n"
     ]
    },
    {
     "data": {
      "text/plain": [
       " FILECODE       BATCH         LETTERCD         SS7         \n",
       " FB:16348   A      :6727   TXL    :3624   Min.   :  11875  \n",
       " XS:    0   E      :4910   SC     :2064   1st Qu.:2311473  \n",
       "            MA     :2037   NC     :1782   Median :5039524  \n",
       "            ME     :1539   TX     :1286   Mean   :4992254  \n",
       "            D      : 510   MTXL   :1162   3rd Qu.:7629702  \n",
       "            V      : 365   ALL    : 860   Max.   :9999942  \n",
       "            (Other): 260   (Other):5570                    \n",
       "             NAME1           ADDR2                 STREET     \n",
       " Maria Reyes    :    9          :16133                :   13  \n",
       " Maria Hernandez:    7   Rd.    :    7   P.O. Box 384 :    4  \n",
       " Jose Hernandez :    5   Dr.    :    4   P.O. Box 1032:    3  \n",
       " Jose Perez     :    5   Lane   :    3   P.O. Box 131 :    3  \n",
       " Juan Garcia    :    5   SW     :    3   P.O. Box 6   :    3  \n",
       " Maria Torres   :    5          :    2   P.O. Box 61  :    3  \n",
       " (Other)        :16312   (Other):  196   (Other)      :16319  \n",
       "          CITY           STATE           ZIP5            ZIP4     \n",
       " Houston    :  860   TX     :6407   Min.   :20105   Min.   :   2  \n",
       " San Antonio:  640   SC     :2668   1st Qu.:29469   1st Qu.:2712  \n",
       " El Paso    :  532   NC     :2333   Median :38344   Median :4465  \n",
       " Charlotte  :  236   AL     :1685   Mean   :54148   Mean   :4812  \n",
       " Albuquerque:  213   TN     : 956   3rd Qu.:77536   3rd Qu.:6841  \n",
       " Columbia   :  192   OK     : 949   Max.   :88352   Max.   :9895  \n",
       " (Other)    :13675   (Other):1350   NA's   :90      NA's   :91    \n",
       "    QSEQNUM           Drop_Date         Closed_Date   \n",
       " Min.   :    1             :   90             :   90  \n",
       " 1st Qu.: 4292   04/18/2018:16258   05/16/2018:16258  \n",
       " Median : 8844                                        \n",
       " Mean   : 9657                                        \n",
       " 3rd Qu.:15375                                        \n",
       " Max.   :20343                                        \n",
       " NA's   :90                                           \n",
       "                                      CheckAmount_SpelledOut   CheckAmount  \n",
       " two thousand four hundred and 00/100            :8398       2,400.00:8398  \n",
       " one thousand two hundred and 00/100             :2235       1,200.00:2235  \n",
       " one thousand and 00/100                         :1650       1,000.00:1650  \n",
       " two thousand and 00/100                         :1137       2,000.00:1137  \n",
       " two thousand two hundred and 00/100             :1121       2,200.00:1121  \n",
       " one thousand two hundred seventy-five and 00/100: 787       1,275.00: 787  \n",
       " (Other)                                         :1020       (Other) :1020  \n",
       "  CheckNumber           AcctNum              AMT_ID         amt_finan1  \n",
       " Min.   :2.001e+09   Min.   :8.018e+09   Min.   :229.0   2,400.00:8398  \n",
       " 1st Qu.:2.003e+09   1st Qu.:2.080e+12   1st Qu.:586.0   1,200.00:2235  \n",
       " Median :2.003e+09   Median :2.080e+12   Median :603.0   1,000.00:1650  \n",
       " Mean   :2.004e+09   Mean   :1.584e+12   Mean   :572.8   2,000.00:1137  \n",
       " 3rd Qu.:2.005e+09   3rd Qu.:2.080e+12   3rd Qu.:605.0   2,200.00:1121  \n",
       " Max.   :2.009e+09   Max.   :2.080e+12   Max.   :614.0   1,275.00: 787  \n",
       " NA's   :90          NA's   :90          NA's   :90      (Other) :1020  \n",
       "      Apr1         pmt_amt_1        num_pmt_1        fin_chg_1   \n",
       " Min.   :30.85   Min.   : 98.96   Min.   :13.00   1,415.57:4757  \n",
       " 1st Qu.:33.10   1st Qu.:106.00   1st Qu.:15.00   2,011.79:2131  \n",
       " Median :36.98   Median :117.09   Median :36.00   522.17  :1650  \n",
       " Mean   :43.69   Mean   :114.88   Mean   :26.74   1,307.90:1260  \n",
       " 3rd Qu.:48.11   3rd Qu.:122.56   3rd Qu.:36.00   945.19  :1121  \n",
       " Max.   :79.45   Max.   :141.99   Max.   :36.00   284.46  :1073  \n",
       " NA's   :90      NA's   :90       NA's   :90      (Other) :4356  \n",
       "    tot_pmt_1        amt_given1     Lproc_fee1       Acq_chg_1    \n",
       " 3,815.57:4757   $2,400.00:8398   Min.   : 25.00   Min.   :100.0  \n",
       " 4,411.79:2131   $1,200.00:2241   1st Qu.: 25.00   1st Qu.:100.0  \n",
       " 1,522.17:1650   $1,000.00:1646   Median : 40.00   Median :127.5  \n",
       " 3,707.90:1260   $2,000.00:1135   Mean   : 42.96   Mean   :131.6  \n",
       " 3,145.19:1121   $2,200.00:1121   3rd Qu.: 40.00   3rd Qu.:141.0  \n",
       " 1,484.46:1073   $1,275.00: 786   Max.   :120.00   Max.   :200.0  \n",
       " (Other) :4356   (Other)  :1021   NA's   :13545    NA's   :12229  \n",
       "   InHandChg1    PrepaidFinChg     IntSurchgLen    Int_to_Lender  \n",
       " Min.   :352.5   Min.   : 92.21   Min.   :120             :   90  \n",
       " 1st Qu.:389.8   1st Qu.:100.00   1st Qu.:120             :10380  \n",
       " Median :422.2   Median :100.00   Median :120     1,315.57: 4757  \n",
       " Mean   :439.3   Mean   :100.06   Mean   :120     753.19  : 1121  \n",
       " 3rd Qu.:422.2   3rd Qu.:100.00   3rd Qu.:120                     \n",
       " Max.   :639.8   Max.   :113.15   Max.   :120                     \n",
       " NA's   :12229   NA's   :11459    NA's   :15227                   \n",
       "   MntFeeToL1     Mo_InHandChg     FaceAmtLoan       LoanFee8    \n",
       " Min.   :45.00   Min.   :23.50           :   90   Min.   :48     \n",
       " 1st Qu.:72.00   1st Qu.:23.50           :16126   1st Qu.:48     \n",
       " Median :72.00   Median :23.50   1,705.35:   69   Median :48     \n",
       " Mean   :69.46   Mean   :23.68   2,228.87:   63   Mean   :48     \n",
       " 3rd Qu.:72.00   3rd Qu.:23.50                    3rd Qu.:48     \n",
       " Max.   :72.00   Max.   :24.50                    Max.   :48     \n",
       " NA's   :15095   NA's   :15399                    NA's   :16216  \n",
       "    LoanFee4     Effective_rate     Principle     NumPmts_exceptLast\n",
       " Min.   :44.21   Min.   :10.00           :   90   Min.   :14.00     \n",
       " 1st Qu.:44.21   1st Qu.:30.78           :15788   1st Qu.:14.00     \n",
       " Median :44.21   Median :31.01   1,260.00:  220   Median :23.00     \n",
       " Mean   :54.20   Mean   :37.44   2,520.00:  250   Mean   :24.31     \n",
       " 3rd Qu.:65.15   3rd Qu.:44.99                    3rd Qu.:35.00     \n",
       " Max.   :65.15   Max.   :64.99                    Max.   :35.00     \n",
       " NA's   :16216   NA's   :90                       NA's   :12887     \n",
       " LastPmtAmount     BranchNumber             BranchCompany  \n",
       " Min.   : 99.02   Min.   : 101.0                   :   90  \n",
       " 1st Qu.: 99.02   1st Qu.: 519.0   Regional Finance:16258  \n",
       " Median :102.90   Median : 574.0                           \n",
       " Mean   :105.64   Mean   : 601.7                           \n",
       " 3rd Qu.:107.54   3rd Qu.: 718.0                           \n",
       " Max.   :136.78   Max.   :1217.0                           \n",
       " NA's   :12887    NA's   :90                               \n",
       "                        BranchStreetAddress       BranchCity     BranchState  \n",
       " 1703 Shaver Street               :  147    San Antonio:  717   TX     :6407  \n",
       " 3910 Fairmont Parkway, Suite D   :  129    Houston    :  546   SC     :2668  \n",
       " 1121 SW Military Drive, Suite 103:  127    El Paso    :  517   NC     :2333  \n",
       " 459 Uvalde Road                  :  123    Columbia   :  286   AL     :1685  \n",
       " 1015 S. Mays Street, Suite 101   :  122    Pasadena   :  276   TN     : 956  \n",
       " 2200 Boca Chica Blvd, Suite 104  :  113    Austin     :  253   OK     : 949  \n",
       " (Other)                          :15587    (Other)    :13753   (Other):1350  \n",
       "      BranchZip             BranchPhone             BranchFax    \n",
       " 77502-2027:  147   (832) 786-3844:  147   (832) 559-0679:  147  \n",
       " 77504-3066:  129   (281) 487-3529:  129   (281) 305-2747:  129  \n",
       " 78221-1672:  127   (210) 924-2220:  127   (210) 417-4208:  127  \n",
       " 77015-3717:  123   (832) 623-7068:  123   (832) 699-7697:  123  \n",
       " 78664-6745:  122   (512) 865-4142:  122   (512) 253-7174:  122  \n",
       " 78521-2241:  113   (956) 504-0823:  113   (856) 224-8088:  113  \n",
       " (Other)   :15587   (Other)       :15587   (Other)       :15587  \n",
       "           BranchManager          BranchSupervisor         BranchStateVP \n",
       " Crystal Martinez :  147   Sandra Lopez   :  793                  :  90  \n",
       "                  :  132   Nellie Carrillo:  727                  :2430  \n",
       " Maritza Manriquez:  129                  :  719   Heather Meares :1817  \n",
       " George Silva     :  127   Nick Miaoulis  :  694   Kenny Haynes   :3289  \n",
       " Fannie Garza     :  123   Joe Gandaria   :  637   Lee Wright     : 470  \n",
       " Rachel Pereyra   :  122   Chad Pizzino   :  633   Michael Johnson:5584  \n",
       " (Other)          :15568   (Other)        :12145   Scott Juvelier :2668  \n",
       " Distance_to_Branch            campaign_id         DOB           Made_Unmade   \n",
       " Min.   :  0.000                     :   90   Min.   :19100206         :   90  \n",
       " 1st Qu.:  2.760    FB_5.0_2018CC    :16258   1st Qu.:19560808         :16258  \n",
       " Median :  5.375    RetailXS_5.0_2018:    0   Median :19661119   MADE  :    0  \n",
       " Mean   :  8.833                              Mean   :19668686   UNMADE:    0  \n",
       " 3rd Qu.: 10.212                              3rd Qu.:19780803                 \n",
       " Max.   :517.730                              Max.   :19980106                 \n",
       " NA's   :90                                   NA's   :90                       \n",
       " MLA_Status    AMT_ID.1       ConProfile          BrAcctNo         CifNo      \n",
       "  :   90    Min.   :229.0   Min.   :1e+12             :   90          :   90  \n",
       " N:16258    1st Qu.:586.0   1st Qu.:1e+12   0101037301:    1   100043 :    1  \n",
       "            Median :603.0   Median :1e+12   0101037718:    1   100082 :    1  \n",
       "            Mean   :572.8   Mean   :1e+12   0101037720:    1   100117 :    1  \n",
       "            3rd Qu.:605.0   3rd Qu.:1e+12   0101037830:    1   100131 :    1  \n",
       "            Max.   :614.0   Max.   :1e+12   0101038033:    1   100249 :    1  \n",
       "            NA's   :90      NA's   :15592   (Other)   :16253   (Other):16253  \n",
       "   MGC          Month_Split      FNAME           MNAME             LNAME      \n",
       " Mode:logical       :   90   MARIA  :  225          :14958   SMITH    :  156  \n",
       " NA's:16348     Even: 1193   JAMES  :  219   L      :  192   WILLIAMS :  134  \n",
       "                Odd :15065   DAVID  :  195   D      :  125   GARCIA   :  128  \n",
       "                             MICHAEL:  186   M      :  109   HERNANDEZ:  124  \n",
       "                             JOHN   :  170   A      :  107   MARTINEZ :  117  \n",
       "                             ROBERT :  166          :   90   JOHNSON  :  113  \n",
       "                             (Other):15187   (Other):  767   (Other)  :15576  \n",
       "    amt_given1.1  Fico_Range_25pt  State1        Test_Code     \n",
       " $2,400.00:8398   625-649:3518    Mode:logical   Mode:logical  \n",
       " $1,200.00:2241   600-624:3286    NA's:16348     NA's:16348    \n",
       " $1,000.00:1646   650-674:2872                                 \n",
       " $2,000.00:1135   575-599:2117                                 \n",
       " $2,200.00:1121   675-699:1244                                 \n",
       " $1,275.00: 786   550-574:1147                                 \n",
       " (Other)  :1021   (Other):2164                                 \n",
       "       POffDate          fico                 Phone              CellPhone    \n",
       " 2018-03-16:  210   Min.   :  0.0                :7008   ()-          :13557  \n",
       " 2018-03-14:  197   1st Qu.:599.0                :  90                :  722  \n",
       " 2018-03-19:  192   Median :630.0   (111)111-1111:  12                :   90  \n",
       " 2018-03-15:  187   Mean   :633.1   (999)999-9999:   7   (251)769-1231:    2  \n",
       " 2018-03-23:  183   3rd Qu.:660.0   (555)555-5555:   4   (256)347-4518:    2  \n",
       " 2018-03-30:  180   Max.   :999.0   (205)000-0000:   2   (423)244-1321:    2  \n",
       " (Other)   :15199   NA's   :99      (Other)      :9225   (Other)      : 1973  \n",
       "    X          \n",
       " Mode:logical  \n",
       " NA's:16348    \n",
       "               \n",
       "               \n",
       "               \n",
       "               \n",
       "               "
      ]
     },
     "metadata": {},
     "output_type": "display_data"
    }
   ],
   "source": [
    "str(mb_fb_cc_0418)\n",
    "summary(mb_fb_cc_0418)"
   ]
  },
  {
   "cell_type": "code",
   "execution_count": 85,
   "metadata": {},
   "outputs": [],
   "source": [
    "mb_xsell_cc_0418 <- sqldf(\n",
    "   \"\n",
    "   SELECT * \n",
    "   FROM mb_fb_xsell_cc_0418 \n",
    "   WHERE FILECODE in ('XS')\n",
    "   \"\n",
    "   )"
   ]
  },
  {
   "cell_type": "code",
   "execution_count": 86,
   "metadata": {},
   "outputs": [
    {
     "data": {
      "text/html": [
       "<ol class=list-inline>\n",
       "\t<li>3877</li>\n",
       "\t<li>75</li>\n",
       "</ol>\n"
      ],
      "text/latex": [
       "\\begin{enumerate*}\n",
       "\\item 3877\n",
       "\\item 75\n",
       "\\end{enumerate*}\n"
      ],
      "text/markdown": [
       "1. 3877\n",
       "2. 75\n",
       "\n",
       "\n"
      ],
      "text/plain": [
       "[1] 3877   75"
      ]
     },
     "metadata": {},
     "output_type": "display_data"
    }
   ],
   "source": [
    "dim(mb_xsell_cc_0418)"
   ]
  },
  {
   "cell_type": "code",
   "execution_count": 87,
   "metadata": {},
   "outputs": [
    {
     "name": "stdout",
     "output_type": "stream",
     "text": [
      "'data.frame':\t3877 obs. of  75 variables:\n",
      " $ FILECODE              : Factor w/ 2 levels \"FB\",\"XS\": 2 2 2 2 2 2 2 2 2 2 ...\n",
      " $ BATCH                 : Factor w/ 8 levels \"A\",\"D\",\"E\",\"MA\",..: 1 1 1 1 1 1 1 1 1 1 ...\n",
      " $ LETTERCD              : Factor w/ 35 levels \"ALL\",\"ALS\",\"ARL\",..: 23 28 28 28 28 4 3 4 4 3 ...\n",
      " $ SS7                   : int  2069133 2443241 911959 1192129 8823525 8794243 8312357 8312797 8948585 4419663 ...\n",
      " $ NAME1                 : Factor w/ 19618 levels \".shauna Ingram\",..: 8001 12078 18935 4461 171 2642 10852 18489 7342 9981 ...\n",
      " $ ADDR2                 : Factor w/ 201 levels \"\",\" \",\"/  3102 Henry Ln.\",..: 2 2 2 2 2 2 2 2 2 2 ...\n",
      " $ STREET                : Factor w/ 19967 levels \"\",\"1 Berwick Ct.\",..: 7099 10267 6073 14776 8092 7289 7402 13842 16455 5444 ...\n",
      " $ CITY                  : Factor w/ 1766 levels \"\",\"Abbeville\",..: 666 14 14 650 1031 1080 1080 1080 1080 1080 ...\n",
      " $ STATE                 : Factor w/ 10 levels \"\",\"AL\",\"GA\",\"NC\",..: 4 7 7 7 7 2 2 2 2 2 ...\n",
      " $ ZIP5                  : int  27834 29803 29805 29829 29835 36608 36608 36618 36618 36695 ...\n",
      " $ ZIP4                  : int  1177 6295 8341 2873 5436 1081 9137 2264 4630 3947 ...\n",
      " $ QSEQNUM               : int  17 117 118 149 157 306 309 328 331 341 ...\n",
      " $ Drop_Date             : Factor w/ 2 levels \"\",\"04/18/2018\": 2 2 2 2 2 2 2 2 2 2 ...\n",
      " $ Closed_Date           : Factor w/ 2 levels \"\",\"05/16/2018\": 2 2 2 2 2 2 2 2 2 2 ...\n",
      " $ CheckAmount_SpelledOut: Factor w/ 12 levels \"\",\"one thousand and 00/100\",..: 7 4 10 4 4 8 12 8 8 12 ...\n",
      " $ CheckAmount           : Factor w/ 12 levels \"\",\"1,000.00\",..: 3 6 11 6 6 4 10 4 4 10 ...\n",
      " $ CheckNumber           : num  3e+09 3e+09 3e+09 3e+09 3e+09 ...\n",
      " $ AcctNum               : num  2.08e+12 2.08e+12 2.08e+12 2.08e+12 2.08e+12 ...\n",
      " $ AMT_ID                : int  601 483 535 483 483 610 612 610 610 612 ...\n",
      " $ amt_finan1            : Factor w/ 12 levels \"\",\"1,000.00\",..: 3 6 11 6 6 4 10 4 4 10 ...\n",
      " $ Apr1                  : num  33.4 53 45 53 53 ...\n",
      " $ pmt_amt_1             : num  99 130 123 130 130 ...\n",
      " $ num_pmt_1             : int  15 15 36 15 15 15 24 15 15 24 ...\n",
      " $ fin_chg_1             : Factor w/ 24 levels \"\",\"1,067.92\",..: 8 20 7 20 20 15 24 15 15 24 ...\n",
      " $ tot_pmt_1             : Factor w/ 24 levels \"\",\"1,484.46\",..: 2 14 24 14 14 9 19 9 9 19 ...\n",
      " $ amt_given1            : Factor w/ 12 levels \"\",\"$1,000.00\",..: 3 6 11 6 6 4 10 4 4 10 ...\n",
      " $ Lproc_fee1            : num  25 NA NA NA NA NA NA NA NA NA ...\n",
      " $ Acq_chg_1             : num  NA NA NA NA NA ...\n",
      " $ InHandChg1            : num  NA NA NA NA NA ...\n",
      " $ PrepaidFinChg         : num  NA NA NA NA NA NA NA NA NA NA ...\n",
      " $ IntSurchgLen          : num  NA NA NA NA NA NA 120 NA NA 120 ...\n",
      " $ Int_to_Lender         : Factor w/ 4 levels \"\",\" \",\"1,315.57\",..: 2 2 2 2 2 2 4 2 2 4 ...\n",
      " $ MntFeeToL1            : num  NA NA NA NA NA NA 72 NA NA 72 ...\n",
      " $ Mo_InHandChg          : num  NA NA NA NA NA NA NA NA NA NA ...\n",
      " $ FaceAmtLoan           : Factor w/ 4 levels \"\",\" \",\"1,705.35\",..: 2 2 2 2 2 2 2 2 2 2 ...\n",
      " $ LoanFee8              : num  NA NA NA NA NA NA NA NA NA NA ...\n",
      " $ LoanFee4              : num  NA NA NA NA NA NA NA NA NA NA ...\n",
      " $ Effective_rate        : num  29.9 53 45 53 53 ...\n",
      " $ Principle             : Factor w/ 4 levels \"\",\" \",\"1,260.00\",..: 2 2 2 2 2 2 2 2 2 2 ...\n",
      " $ NumPmts_exceptLast    : int  14 NA NA NA NA NA NA NA NA NA ...\n",
      " $ LastPmtAmount         : num  99 NA NA NA NA ...\n",
      " $ BranchNumber          : int  684 109 109 147 115 818 820 818 818 818 ...\n",
      " $ BranchCompany         : Factor w/ 2 levels \"\",\"Regional Finance\": 2 2 2 2 2 2 2 2 2 2 ...\n",
      " $ BranchStreetAddress   : Factor w/ 341 levels \"\",\"100 Forum Drive, Suite 4\",..: 238 78 78 225 302 259 285 259 259 259 ...\n",
      " $ BranchCity            : Factor w/ 261 levels \"\",\"Abilene\",\"Abingdon\",..: 106 5 5 181 107 166 166 166 166 166 ...\n",
      " $ BranchState           : Factor w/ 10 levels \"\",\"AL\",\"GA\",\"NC\",..: 4 7 7 7 7 2 2 2 2 2 ...\n",
      " $ BranchZip             : Factor w/ 341 levels \"\",\"20110-1700\",..: 35 117 117 120 109 173 172 173 173 173 ...\n",
      " $ BranchPhone           : Factor w/ 341 levels \"\",\"(205) 227-0090\",..: 33 201 201 187 259 30 29 30 30 30 ...\n",
      " $ BranchFax             : Factor w/ 341 levels \"\",\"(205) 210-4965\",..: 32 207 207 199 285 31 30 31 31 31 ...\n",
      " $ BranchManager         : Factor w/ 338 levels \"\",\" \",\"Aaron Balls\",..: 283 199 199 131 123 101 302 101 101 101 ...\n",
      " $ BranchSupervisor      : Factor w/ 41 levels \"\",\" \",\"Andrew Ivy\",..: 5 17 17 17 20 41 41 41 41 41 ...\n",
      " $ BranchStateVP         : Factor w/ 7 levels \"\",\" \",\"Heather Meares\",..: 4 7 7 7 7 3 3 3 3 3 ...\n",
      " $ Distance_to_Branch    : num  2.42 1.17 13.74 8.78 19.73 ...\n",
      " $ campaign_id           : Factor w/ 3 levels \"\",\"FB_5.0_2018CC\",..: 3 3 3 3 3 3 3 3 3 3 ...\n",
      " $ DOB                   : int  19720301 19430920 19930314 19630108 19930917 19950924 19881002 19880930 19580217 19940408 ...\n",
      " $ Made_Unmade           : Factor w/ 4 levels \"\",\" \",\"MADE\",..: 4 3 3 4 3 3 3 3 3 3 ...\n",
      " $ MLA_Status            : Factor w/ 2 levels \"\",\"N\": 2 2 2 2 2 2 2 2 2 2 ...\n",
      " $ AMT_ID.1              : int  601 483 535 483 483 610 612 610 610 612 ...\n",
      " $ ConProfile            : num  NA 1e+12 1e+12 NA 1e+12 ...\n",
      " $ BrAcctNo              : Factor w/ 20116 levels \"\",\"0101037301\",..: 18924 17173 17425 19812 1542 13391 13574 13392 13389 13390 ...\n",
      " $ CifNo                 : Factor w/ 17954 levels \"\",\" \",\"100043\",..: 2 6424 14177 2 5302 16775 14797 16888 16651 16702 ...\n",
      " $ MGC                   : logi  NA NA NA NA NA NA ...\n",
      " $ Month_Split           : Factor w/ 3 levels \"\",\"Even\",\"Odd\": 3 3 3 3 3 3 3 3 3 3 ...\n",
      " $ FNAME                 : Factor w/ 4944 levels \"\",\".SHAUNA\",\"AARHYON\",..: 2061 3012 4733 1071 56 669 2604 4584 1897 2362 ...\n",
      " $ MNAME                 : Factor w/ 152 levels \"\",\" \",\"\\\"SWAN\\\"\",..: 2 30 112 2 2 62 116 99 45 99 ...\n",
      " $ LNAME                 : Factor w/ 7835 levels \"\",\"AARON\",\"ABAD\",..: 6904 4824 2599 7523 1612 3646 3466 1696 2823 5104 ...\n",
      " $ amt_given1.1          : Factor w/ 12 levels \"\",\"$1,000.00\",..: 3 6 11 6 6 4 10 4 4 10 ...\n",
      " $ Fico_Range_25pt       : Factor w/ 20 levels \"\",\" \",\"<500\",..: 10 10 12 10 10 10 12 10 10 12 ...\n",
      " $ State1                : logi  NA NA NA NA NA NA ...\n",
      " $ Test_Code             : logi  NA NA NA NA NA NA ...\n",
      " $ POffDate              : Factor w/ 393 levels \"\",\" \",\"2017-01-03\",..: 2 2 2 2 2 2 2 2 2 2 ...\n",
      " $ fico                  : int  640 633 685 628 645 644 689 641 635 682 ...\n",
      " $ Phone                 : Factor w/ 13000 levels \"\",\" \",\"()-\",\"(000)366-8770\",..: 10215 11477 11509 11508 11206 1952 10208 10209 10207 885 ...\n",
      " $ CellPhone             : Factor w/ 4306 levels \"\",\" \",\"()-\",\"(111)111-1111\",..: 2 2 2 2 2 2 2427 2428 2426 2 ...\n",
      " $ X                     : logi  NA NA NA NA NA NA ...\n"
     ]
    },
    {
     "data": {
      "text/plain": [
       " FILECODE      BATCH         LETTERCD         SS7         \n",
       " FB:   0   E      :2707   XRL    :1689   Min.   :  13693  \n",
       " XS:3877   ME     : 805   TXR    :1018   1st Qu.:2472865  \n",
       "           A      : 315   MXRL   : 513   Median :4754795  \n",
       "           MA     :  29   MTXR   : 292   Mean   :4874912  \n",
       "           D      :  20   NCR    : 155   3rd Qu.:7330645  \n",
       "           MD     :   1   OKR    :  79   Max.   :9999605  \n",
       "           (Other):   0   (Other): 131                    \n",
       "              NAME1                              ADDR2     \n",
       " Laura Gonzalez  :   4                              :3872  \n",
       " Maria Gonzalez  :   4                              :   1  \n",
       " Jose Rojas      :   3   Apt. 106476 South 3440 Road:   1  \n",
       " Alberto Martinez:   2   B                          :   1  \n",
       " Blanca Rodriguez:   2   Drive                      :   1  \n",
       " Daniel Lopez    :   2   E.                         :   1  \n",
       " (Other)         :3860   (Other)                    :   0  \n",
       "                        STREET              CITY          STATE     \n",
       " 8602 Cinnamon Creek Dr.   :   4   Houston    : 628   TX     :3494  \n",
       " 1050 Mellow Breeze        :   2   San Antonio: 487   NC     : 177  \n",
       " 10500 Fountain Lake Dr.   :   2   El Paso    : 142   OK     :  84  \n",
       " 10600 Southdown Trace Trl.:   2   Austin     : 119   SC     :  57  \n",
       " 10922 Livewater Trl.      :   2   Spring     :  86   NM     :  21  \n",
       " 11000 Gatesden Dr.        :   2   Humble     :  85          :  20  \n",
       " (Other)                   :3863   (Other)    :2330   (Other):  24  \n",
       "      ZIP5            ZIP4         QSEQNUM           Drop_Date   \n",
       " Min.   :27103   Min.   :   6   Min.   :   17             :  20  \n",
       " 1st Qu.:77060   1st Qu.:2511   1st Qu.: 9704   04/18/2018:3857  \n",
       " Median :77506   Median :4033   Median :11778                    \n",
       " Mean   :74484   Mean   :4301   Mean   :12317                    \n",
       " 3rd Qu.:78260   3rd Qu.:5730   3rd Qu.:14693                    \n",
       " Max.   :88260   Max.   :9839   Max.   :19863                    \n",
       " NA's   :20      NA's   :20     NA's   :20                       \n",
       "     Closed_Date                                CheckAmount_SpelledOut\n",
       "           :  20   two thousand four hundred and 00/100    :2296      \n",
       " 05/16/2018:3857   one thousand three hundred and 00/100   :1299      \n",
       "                   one thousand two hundred and 00/100     : 151      \n",
       "                   one thousand four hundred and 00/100    :  46      \n",
       "                   one thousand four hundred ten and 00/100:  35      \n",
       "                                                           :  20      \n",
       "                   (Other)                                 :  30      \n",
       "   CheckAmount    CheckNumber           AcctNum              AMT_ID     \n",
       " 2,400.00:2296   Min.   :3.002e+09   Min.   :8.018e+09   Min.   :483.0  \n",
       " 1,300.00:1299   1st Qu.:3.003e+09   1st Qu.:2.080e+12   1st Qu.:604.0  \n",
       " 1,200.00: 151   Median :3.003e+09   Median :2.080e+12   Median :606.0  \n",
       " 1,400.00:  46   Mean   :3.003e+09   Mean   :2.015e+12   Mean   :601.1  \n",
       " 1,410.00:  35   3rd Qu.:3.003e+09   3rd Qu.:2.080e+12   3rd Qu.:606.0  \n",
       "         :  20   Max.   :3.008e+09   Max.   :2.080e+12   Max.   :616.0  \n",
       " (Other) :  30   NA's   :20          NA's   :20          NA's   :20     \n",
       "    amt_finan1        Apr1         pmt_amt_1        num_pmt_1    \n",
       " 2,400.00:2296   Min.   :30.85   Min.   : 98.96   Min.   :15.00  \n",
       " 1,300.00:1299   1st Qu.:33.10   1st Qu.:106.00   1st Qu.:18.00  \n",
       " 1,200.00: 151   Median :33.10   Median :106.00   Median :36.00  \n",
       " 1,400.00:  46   Mean   :46.29   Mean   :110.80   Mean   :28.56  \n",
       " 1,410.00:  35   3rd Qu.:69.91   3rd Qu.:118.50   3rd Qu.:36.00  \n",
       "         :  20   Max.   :69.91   Max.   :141.99   Max.   :36.00  \n",
       " (Other) :  30   NA's   :20      NA's   :20       NA's   :20     \n",
       "    fin_chg_1       tot_pmt_1        amt_given1     Lproc_fee1   \n",
       " 1,415.57:2195   3,815.57:2195   $2,400.00:2296   Min.   :25.00  \n",
       " 833.00  :1299   2,133.00:1299   $1,300.00:1299   1st Qu.:25.00  \n",
       " 284.46  : 102   1,484.46: 102   $1,200.00: 151   Median :25.00  \n",
       " 1,307.90:  75   3,707.90:  75   $1,400.00:  46   Mean   :31.36  \n",
       " 487.50  :  49   1,687.50:  49   $1,410.00:  35   3rd Qu.:40.00  \n",
       " 493.50  :  35   1,903.50:  35            :  20   Max.   :40.00  \n",
       " (Other) : 122   (Other) : 122   (Other)  :  30   NA's   :3700   \n",
       "   Acq_chg_1       InHandChg1    PrepaidFinChg   IntSurchgLen   Int_to_Lender \n",
       " Min.   :100.0   Min.   :352.5   Min.   :100    Min.   :120            :  20  \n",
       " 1st Qu.:100.0   1st Qu.:733.0   1st Qu.:100    1st Qu.:120            :1655  \n",
       " Median :100.0   Median :733.0   Median :100    Median :120    1,315.57:2195  \n",
       " Mean   :102.3   Mean   :707.2   Mean   :100    Mean   :120    753.19  :   7  \n",
       " 3rd Qu.:100.0   3rd Qu.:733.0   3rd Qu.:100    3rd Qu.:120                   \n",
       " Max.   :200.0   Max.   :733.0   Max.   :100    Max.   :120                   \n",
       " NA's   :2477    NA's   :2477    NA's   :1682   NA's   :3870                  \n",
       "   MntFeeToL1    Mo_InHandChg     FaceAmtLoan      LoanFee8       LoanFee4   \n",
       " Min.   :72     Min.   :23.50           :  20   Min.   : NA    Min.   : NA   \n",
       " 1st Qu.:72     1st Qu.:23.50           :3857   1st Qu.: NA    1st Qu.: NA   \n",
       " Median :72     Median :24.50   1,705.35:   0   Median : NA    Median : NA   \n",
       " Mean   :72     Mean   :24.08   2,228.87:   0   Mean   :NaN    Mean   :NaN   \n",
       " 3rd Qu.:72     3rd Qu.:24.50                   3rd Qu.: NA    3rd Qu.: NA   \n",
       " Max.   :72     Max.   :24.50                   Max.   : NA    Max.   : NA   \n",
       " NA's   :3870   NA's   :3793                    NA's   :3877   NA's   :3877  \n",
       " Effective_rate     Principle    NumPmts_exceptLast LastPmtAmount   \n",
       " Min.   :27.80           :  20   Min.   :14.00      Min.   : 99.02  \n",
       " 1st Qu.:31.01           :3857   1st Qu.:14.00      1st Qu.: 99.02  \n",
       " Median :31.01   1,260.00:   0   Median :14.00      Median : 99.02  \n",
       " Mean   :40.58   2,520.00:   0   Mean   :22.45      Mean   :103.55  \n",
       " 3rd Qu.:58.16                   3rd Qu.:35.00      3rd Qu.:102.90  \n",
       " Max.   :58.16                   Max.   :35.00      Max.   :127.98  \n",
       " NA's   :20                      NA's   :3679       NA's   :3679    \n",
       "  BranchNumber             BranchCompany \n",
       " Min.   : 101.0                   :  20  \n",
       " 1st Qu.: 535.0   Regional Finance:3857  \n",
       " Median : 557.0                          \n",
       " Mean   : 563.2                          \n",
       " 3rd Qu.: 578.0                          \n",
       " Max.   :1017.0                          \n",
       " NA's   :20                              \n",
       "                          BranchStreetAddress       BranchCity    BranchState  \n",
       " 3719 N. Fry Road, Suite O          : 134     San Antonio: 553   TX     :3494  \n",
       " 1420 FM 1960 Bypass Rd E, Suite 118: 118     Houston    : 403   NC     : 177  \n",
       " 5015 FM 2920 Road, Suite B         : 111     Spring     : 202   OK     :  84  \n",
       " 459 Uvalde Road                    : 100     Katy       : 180   SC     :  57  \n",
       " 9714 Potranco Road, Suite 113      :  95     Austin     : 172   NM     :  21  \n",
       " 3910 Fairmont Parkway, Suite D     :  92     Pasadena   : 155          :  20  \n",
       " (Other)                            :3227     (Other)    :2212   (Other):  24  \n",
       "      BranchZip            BranchPhone            BranchFax   \n",
       " 77449-6740: 134   (281) 646-1082: 134   (832) 404-6426: 134  \n",
       " 77338-3934: 118   (281) 540-0302: 118   (281) 612-1952: 118  \n",
       " 77388-3114: 111   (281) 528-1038: 111   (281) 668-7188: 111  \n",
       " 77015-3717: 100   (832) 623-7068: 100   (832) 699-7697: 100  \n",
       " 78251-9617:  95   (210) 572-3295:  95   (210) 504-1508:  95  \n",
       " 77504-3066:  92   (281) 487-3529:  92   (281) 305-2747:  92  \n",
       " (Other)   :3227   (Other)       :3227   (Other)       :3227  \n",
       "           BranchManager         BranchSupervisor         BranchStateVP \n",
       " Jennifer Mankey  : 134   Sandra Lopez   : 651                   :  20  \n",
       " Ernest Menefee   : 118                  : 640                   : 361  \n",
       " Ingrid Zelaya    : 111   Joe Gandaria   : 453    Heather Meares :  15  \n",
       " Fannie Garza     : 100   Nick Miaoulis  : 378    Kenny Haynes   : 186  \n",
       " Melissa Fernandez:  95   Nellie Carrillo: 377    Lee Wright     :   0  \n",
       " Maritza Manriquez:  92   Ed Macias      : 325    Michael Johnson:3238  \n",
       " (Other)          :3227   (Other)        :1053    Scott Juvelier :  57  \n",
       " Distance_to_Branch            campaign_id        DOB           Made_Unmade  \n",
       " Min.   :  0.000                     :  20   Min.   :19160130         :  20  \n",
       " 1st Qu.:  2.635    FB_5.0_2018CC    :   0   1st Qu.:19670416         :   0  \n",
       " Median :  4.680    RetailXS_5.0_2018:3857   Median :19770822   MADE  :1694  \n",
       " Mean   :  7.469                             Mean   :19755504   UNMADE:2163  \n",
       " 3rd Qu.:  7.806                             3rd Qu.:19860926                \n",
       " Max.   :382.081                             Max.   :20170902                \n",
       " NA's   :20                                  NA's   :20                      \n",
       " MLA_Status    AMT_ID.1       ConProfile              BrAcctNo   \n",
       "  :  20     Min.   :483.0   Min.   :1.000e+10             :  20  \n",
       " N:3857     1st Qu.:604.0   1st Qu.:1.000e+12   0105051331:   1  \n",
       "            Median :606.0   Median :1.000e+12   0114051587:   1  \n",
       "            Mean   :601.1   Mean   :9.954e+11   0114051597:   1  \n",
       "            3rd Qu.:606.0   3rd Qu.:1.000e+12   0121051284:   1  \n",
       "            Max.   :616.0   Max.   :1.000e+12   0133050415:   1  \n",
       "            NA's   :20      NA's   :2183        (Other)   :3852  \n",
       "     CifNo        MGC          Month_Split     FNAME          MNAME     \n",
       "        :2163   Mode:logical       :  20   MARIA  :  45          :3698  \n",
       "        :  20   NA's:3877      Even:   0   JUAN   :  41          :  20  \n",
       " 101397 :   1                  Odd :3857   JOSE   :  38   A      :  12  \n",
       " 120937 :   1                              MICHAEL:  31   L      :  12  \n",
       " 136628 :   1                              JAMES  :  21   D      :  10  \n",
       " 144082 :   1                              ROBERT :  21   M      :   9  \n",
       " (Other):1690                              (Other):3680   (Other): 116  \n",
       "       LNAME         amt_given1.1  Fico_Range_25pt  State1       \n",
       " GARCIA   :  60   $2,400.00:2296   625-649:1504    Mode:logical  \n",
       " MARTINEZ :  47   $1,300.00:1299   650-674:1050    NA's:3877     \n",
       " RODRIGUEZ:  41   $1,200.00: 151   675-699: 711                  \n",
       " GONZALEZ :  36   $1,400.00:  46   700-724: 568                  \n",
       " HERNANDEZ:  33   $1,410.00:  35   725-749:  24                  \n",
       " LOPEZ    :  28            :  20          :  20                  \n",
       " (Other)  :3632   (Other)  :  30   (Other):   0                  \n",
       " Test_Code            POffDate         fico              Phone     \n",
       " Mode:logical             :3857   Min.   :625.0             :  56  \n",
       " NA's:3877                :  20   1st Qu.:640.0             :  20  \n",
       "                2017-01-03:   0   Median :658.0   7134913722:   2  \n",
       "                2017-01-04:   0   Mean   :664.2   7138121098:   2  \n",
       "                2017-01-05:   0   3rd Qu.:686.0   7168305377:   2  \n",
       "                2017-01-06:   0   Max.   :725.0   8309805188:   2  \n",
       "                (Other)   :   0   NA's   :20      (Other)   :3793  \n",
       "      CellPhone       X          \n",
       "           : 997   Mode:logical  \n",
       " ()-       : 523   NA's:3877     \n",
       "           :  20                 \n",
       " 0000000000:   7                 \n",
       " 2815435495:   2                 \n",
       " 8326431466:   2                 \n",
       " (Other)   :2326                 "
      ]
     },
     "metadata": {},
     "output_type": "display_data"
    }
   ],
   "source": [
    "str(mb_xsell_cc_0418)\n",
    "summary(mb_xsell_cc_0418)"
   ]
  },
  {
   "cell_type": "markdown",
   "metadata": {},
   "source": [
    "Check Drop_Date"
   ]
  },
  {
   "cell_type": "code",
   "execution_count": 88,
   "metadata": {},
   "outputs": [
    {
     "data": {
      "text/html": [
       "<ol class=list-inline>\n",
       "\t<li>04/18/2018</li>\n",
       "\t<li></li>\n",
       "</ol>\n"
      ],
      "text/latex": [
       "\\begin{enumerate*}\n",
       "\\item 04/18/2018\n",
       "\\item \n",
       "\\end{enumerate*}\n"
      ],
      "text/markdown": [
       "1. 04/18/2018\n",
       "2. \n",
       "\n",
       "\n"
      ],
      "text/plain": [
       "[1] 04/18/2018           \n",
       "Levels:  04/18/2018"
      ]
     },
     "metadata": {},
     "output_type": "display_data"
    }
   ],
   "source": [
    "unique(mb_fb_cc_0418$Drop_Date)"
   ]
  },
  {
   "cell_type": "code",
   "execution_count": 89,
   "metadata": {},
   "outputs": [
    {
     "data": {
      "text/html": [
       "<ol class=list-inline>\n",
       "\t<li>04/18/2018</li>\n",
       "\t<li></li>\n",
       "</ol>\n"
      ],
      "text/latex": [
       "\\begin{enumerate*}\n",
       "\\item 04/18/2018\n",
       "\\item \n",
       "\\end{enumerate*}\n"
      ],
      "text/markdown": [
       "1. 04/18/2018\n",
       "2. \n",
       "\n",
       "\n"
      ],
      "text/plain": [
       "[1] 04/18/2018           \n",
       "Levels:  04/18/2018"
      ]
     },
     "metadata": {},
     "output_type": "display_data"
    }
   ],
   "source": [
    "unique(mb_xsell_cc_0418$Drop_Date)"
   ]
  },
  {
   "cell_type": "markdown",
   "metadata": {},
   "source": [
    "CHANGE DATE and date format if required"
   ]
  },
  {
   "cell_type": "code",
   "execution_count": 90,
   "metadata": {},
   "outputs": [],
   "source": [
    "mb_fb_cc_0418$Drop_Date <- as.Date(\"04/18/2018\", format = \"%m/%d/%Y\",\n",
    "                                   origin = \"01/01/1970\")"
   ]
  },
  {
   "cell_type": "code",
   "execution_count": 91,
   "metadata": {},
   "outputs": [
    {
     "data": {
      "text/html": [
       "<time datetime=\"2018-04-18\">2018-04-18</time>"
      ],
      "text/latex": [
       "2018-04-18"
      ],
      "text/markdown": [
       "2018-04-18"
      ],
      "text/plain": [
       "[1] \"2018-04-18\""
      ]
     },
     "metadata": {},
     "output_type": "display_data"
    }
   ],
   "source": [
    "unique(mb_fb_cc_0418$Drop_Date)"
   ]
  },
  {
   "cell_type": "code",
   "execution_count": 92,
   "metadata": {},
   "outputs": [
    {
     "name": "stdout",
     "output_type": "stream",
     "text": [
      " Date[1:16348], format: \"2018-04-18\" \"2018-04-18\" \"2018-04-18\" \"2018-04-18\" \"2018-04-18\" ...\n"
     ]
    }
   ],
   "source": [
    "str(mb_fb_cc_0418$Drop_Date)"
   ]
  },
  {
   "cell_type": "code",
   "execution_count": 93,
   "metadata": {},
   "outputs": [],
   "source": [
    "mb_xsell_cc_0418$Drop_Date <- as.Date(\"04/18/2018\", format = \"%m/%d/%Y\",\n",
    "                                      origin = \"01/01/1970\")"
   ]
  },
  {
   "cell_type": "code",
   "execution_count": 94,
   "metadata": {},
   "outputs": [
    {
     "data": {
      "text/html": [
       "<time datetime=\"2018-04-18\">2018-04-18</time>"
      ],
      "text/latex": [
       "2018-04-18"
      ],
      "text/markdown": [
       "2018-04-18"
      ],
      "text/plain": [
       "[1] \"2018-04-18\""
      ]
     },
     "metadata": {},
     "output_type": "display_data"
    }
   ],
   "source": [
    "unique(mb_xsell_cc_0418$Drop_Date)"
   ]
  },
  {
   "cell_type": "code",
   "execution_count": 95,
   "metadata": {},
   "outputs": [
    {
     "name": "stdout",
     "output_type": "stream",
     "text": [
      " Date[1:3877], format: \"2018-04-18\" \"2018-04-18\" \"2018-04-18\" \"2018-04-18\" \"2018-04-18\" ...\n"
     ]
    }
   ],
   "source": [
    "str(mb_xsell_cc_0418$Drop_Date)"
   ]
  },
  {
   "cell_type": "code",
   "execution_count": 96,
   "metadata": {},
   "outputs": [],
   "source": [
    "save(mb_fb_cc_0418, \n",
    "     file = \"C:/Users/cepps/RMC/Mail Files/R_data_objects/fb_xsell_cc/mb_fb_cc_0418.RData\")"
   ]
  },
  {
   "cell_type": "code",
   "execution_count": 97,
   "metadata": {},
   "outputs": [],
   "source": [
    "save(mb_xsell_cc_0418, \n",
    "     file = \"C:/Users/cepps/RMC/Mail Files/R_data_objects/fb_xsell_cc/mb_xsell_cc_0418.RData\")"
   ]
  },
  {
   "cell_type": "markdown",
   "metadata": {},
   "source": [
    "May18\n",
    "  \n",
    "Import new mailfile"
   ]
  },
  {
   "cell_type": "code",
   "execution_count": 98,
   "metadata": {},
   "outputs": [],
   "source": [
    "mb_fb_xsell_cc_0518 <- read.table(\"E:/Pallavi/2018/rev1/rev2/mailfile/mailfiles/565) 117485A_RMC_FB_XS_LC_Final_Mailfile.txt\", \n",
    "                                  fill = TRUE, header = TRUE,\n",
    "                                  sep = \"\\t\", quote = \"\")"
   ]
  },
  {
   "cell_type": "code",
   "execution_count": 99,
   "metadata": {},
   "outputs": [
    {
     "data": {
      "text/html": [
       "<ol class=list-inline>\n",
       "\t<li>20178</li>\n",
       "\t<li>75</li>\n",
       "</ol>\n"
      ],
      "text/latex": [
       "\\begin{enumerate*}\n",
       "\\item 20178\n",
       "\\item 75\n",
       "\\end{enumerate*}\n"
      ],
      "text/markdown": [
       "1. 20178\n",
       "2. 75\n",
       "\n",
       "\n"
      ],
      "text/plain": [
       "[1] 20178    75"
      ]
     },
     "metadata": {},
     "output_type": "display_data"
    }
   ],
   "source": [
    "dim(mb_fb_xsell_cc_0518)"
   ]
  },
  {
   "cell_type": "code",
   "execution_count": 100,
   "metadata": {},
   "outputs": [
    {
     "name": "stdout",
     "output_type": "stream",
     "text": [
      "'data.frame':\t20178 obs. of  75 variables:\n",
      " $ FILECODE              : Factor w/ 2 levels \"FB\",\"XS\": 1 2 1 1 1 1 1 1 1 1 ...\n",
      " $ BATCH                 : Factor w/ 8 levels \"A\",\"D\",\"E\",\"MA\",..: 1 1 1 1 1 1 1 1 1 1 ...\n",
      " $ LETTERCD              : Factor w/ 34 levels \"ALL\",\"ALS\",\"ARL\",..: 21 22 21 21 21 21 21 21 21 21 ...\n",
      " $ SS7                   : int  9646624 2695692 390084 5721998 5481281 6157928 5239795 4771664 1644752 4751340 ...\n",
      " $ NAME1                 : Factor w/ 19515 levels \"Aaliyah Brent\",..: 4487 2117 14427 5905 6913 17063 17354 18496 5246 10665 ...\n",
      " $ ADDR2                 : Factor w/ 181 levels \"\",\" \",\"/ 510 Zion Street\",..: 2 2 2 2 2 2 2 2 2 2 ...\n",
      " $ STREET                : Factor w/ 19924 levels \"\",\"1 Blackwell St.\",..: 3104 201 19822 11673 4376 9203 13142 16281 16487 11685 ...\n",
      " $ CITY                  : Factor w/ 1828 levels \"\",\"Abbeville\",..: 1398 1398 91 133 133 302 538 538 564 658 ...\n",
      " $ STATE                 : Factor w/ 10 levels \"\",\"AL\",\"GA\",\"NC\",..: 4 4 4 4 4 4 4 4 4 4 ...\n",
      " $ ZIP5                  : int  27804 27804 27807 27812 27812 27817 27828 27828 27829 27834 ...\n",
      " $ ZIP4                  : int  3557 9303 582 9310 9580 9332 1893 8968 9222 7089 ...\n",
      " $ QSEQNUM               : int  1 2 3 4 5 6 7 8 9 10 ...\n",
      " $ Drop_Date             : Factor w/ 2 levels \"\",\"05/10/2018\": 2 2 2 2 2 2 2 2 2 2 ...\n",
      " $ Closed_Date           : Factor w/ 2 levels \"\",\"06/07/2018\": 2 2 2 2 2 2 2 2 2 2 ...\n",
      " $ CheckAmount_SpelledOut: Factor w/ 12 levels \"\",\"one thousand and 00/100\",..: 11 8 11 11 8 11 8 11 8 8 ...\n",
      " $ CheckAmount           : Factor w/ 12 levels \"\",\"1,000.00\",..: 12 3 12 12 3 12 3 12 3 3 ...\n",
      " $ CheckNumber           : num  2e+09 3e+09 2e+09 2e+09 2e+09 ...\n",
      " $ AcctNum               : num  2.08e+12 2.08e+12 2.08e+12 2.08e+12 2.08e+12 ...\n",
      " $ AMT_ID                : int  600 601 600 600 599 600 599 600 599 599 ...\n",
      " $ amt_finan1            : Factor w/ 12 levels \"\",\"1,000.00\",..: 12 3 12 12 3 12 3 12 3 3 ...\n",
      " $ Apr1                  : num  30.9 33.4 30.9 30.9 33.4 ...\n",
      " $ pmt_amt_1             : num  103 99 103 103 99 ...\n",
      " $ num_pmt_1             : int  36 15 36 36 15 36 15 36 15 15 ...\n",
      " $ fin_chg_1             : Factor w/ 24 levels \"\",\"1,067.92\",..: 3 7 3 3 7 3 7 3 7 7 ...\n",
      " $ tot_pmt_1             : Factor w/ 25 levels \"\",\"1,484.46\",..: 21 2 21 21 2 21 2 21 2 2 ...\n",
      " $ amt_given1            : Factor w/ 12 levels \"\",\"$1,000.00\",..: 12 3 12 12 3 12 3 12 3 3 ...\n",
      " $ Lproc_fee1            : num  40 25 40 40 25 40 25 40 25 25 ...\n",
      " $ Acq_chg_1             : num  NA NA NA NA NA NA NA NA NA NA ...\n",
      " $ InHandChg1            : num  NA NA NA NA NA NA NA NA NA NA ...\n",
      " $ PrepaidFinChg         : num  NA NA NA NA NA NA NA NA NA NA ...\n",
      " $ IntSurchgLen          : num  NA NA NA NA NA NA NA NA NA NA ...\n",
      " $ Int_to_Lender         : Factor w/ 4 levels \"\",\" \",\"1,267.69\",..: 2 2 2 2 2 2 2 2 2 2 ...\n",
      " $ MntFeeToL1            : num  NA NA NA NA NA NA NA NA NA NA ...\n",
      " $ Mo_InHandChg          : num  NA NA NA NA NA NA NA NA NA NA ...\n",
      " $ FaceAmtLoan           : Factor w/ 4 levels \"\",\" \",\"1,705.35\",..: 2 2 2 2 2 2 2 2 2 2 ...\n",
      " $ LoanFee8              : num  NA NA NA NA NA NA NA NA NA NA ...\n",
      " $ LoanFee4              : num  NA NA NA NA NA NA NA NA NA NA ...\n",
      " $ Effective_rate        : num  29.5 29.9 29.5 29.5 29.9 ...\n",
      " $ Principle             : Factor w/ 4 levels \"\",\" \",\"1,260.00\",..: 2 2 2 2 2 2 2 2 2 2 ...\n",
      " $ NumPmts_exceptLast    : int  35 14 35 35 14 35 14 35 14 14 ...\n",
      " $ LastPmtAmount         : num  103 99 103 103 99 ...\n",
      " $ BranchNumber          : int  669 669 669 684 684 684 684 684 684 684 ...\n",
      " $ BranchCompany         : Factor w/ 2 levels \"\",\"Regional Finance\": 2 2 2 2 2 2 2 2 2 2 ...\n",
      " $ BranchStreetAddress   : Factor w/ 340 levels \"\",\"100 Forum Drive, Suite 4\",..: 97 97 97 237 237 237 237 237 237 237 ...\n",
      " $ BranchCity            : Factor w/ 261 levels \"\",\"Abilene\",\"Abingdon\",..: 199 199 199 106 106 106 106 106 106 106 ...\n",
      " $ BranchState           : Factor w/ 10 levels \"\",\"AL\",\"GA\",\"NC\",..: 4 4 4 4 4 4 4 4 4 4 ...\n",
      " $ BranchZip             : Factor w/ 340 levels \"\",\"20110-1700\",..: 32 32 32 35 35 35 35 35 35 35 ...\n",
      " $ BranchPhone           : Factor w/ 340 levels \"\",\"(205) 227-0090\",..: 314 314 314 33 33 33 33 33 33 33 ...\n",
      " $ BranchFax             : Factor w/ 340 levels \"\",\"(205) 210-4965\",..: 318 318 318 32 32 32 32 32 32 32 ...\n",
      " $ BranchManager         : Factor w/ 331 levels \"\",\" \",\"Aaron Balls\",..: 2 2 2 278 278 278 278 278 278 278 ...\n",
      " $ BranchSupervisor      : Factor w/ 39 levels \"\",\" \",\"Andrew Ivy\",..: 5 5 5 5 5 5 5 5 5 5 ...\n",
      " $ BranchStateVP         : Factor w/ 7 levels \"\",\"Heather Meares\",..: 3 3 3 3 3 3 3 3 3 3 ...\n",
      " $ Distance_to_Branch    : num  44.9 45.2 28.5 13 13.5 ...\n",
      " $ campaign_id           : Factor w/ 3 levels \"\",\"FB_5.0_2018CC\",..: 2 3 2 2 2 2 2 2 2 2 ...\n",
      " $ DOB                   : int  19541209 19881002 19821101 19450211 19480622 19531219 19621014 19940108 19411019 19930306 ...\n",
      " $ Made_Unmade           : Factor w/ 4 levels \"\",\" \",\"MADE\",..: 2 3 2 2 2 2 2 2 2 2 ...\n",
      " $ MLA_Status            : Factor w/ 2 levels \"\",\"N\": 2 2 2 2 2 2 2 2 2 2 ...\n",
      " $ AMT_ID.1              : int  600 601 600 600 599 600 599 600 599 599 ...\n",
      " $ ConProfile            : num  NA 1e+12 NA NA NA ...\n",
      " $ BrAcctNo              : Factor w/ 20072 levels \"\",\"0101037363\",..: 16693 17115 2038 16813 15677 11653 2681 17515 11651 15792 ...\n",
      " $ CifNo                 : int  234978 237292 174563 226329 226197 208411 235414 738603 207992 236874 ...\n",
      " $ MGC                   : logi  NA NA NA NA NA NA ...\n",
      " $ Month_Split           : Factor w/ 3 levels \"\",\"EVEN\",\"ODD\": 2 2 2 2 3 2 3 2 2 2 ...\n",
      " $ FNAME                 : Factor w/ 4870 levels \"\",\"AALIYAH\",\"AAMAR\",..: 1072 531 3558 1436 1743 4171 4268 4541 1284 2502 ...\n",
      " $ MNAME                 : Factor w/ 119 levels \"\",\" \",\"a\",\"A\",..: 2 2 2 2 2 2 2 2 2 2 ...\n",
      " $ LNAME                 : Factor w/ 7659 levels \"\",\"A\",\"Abadin\",..: 5942 3634 1422 2381 7310 4839 7045 6816 5066 6574 ...\n",
      " $ amt_given1.1          : Factor w/ 12 levels \"\",\"$1,000.00\",..: 12 3 12 12 3 12 3 12 3 3 ...\n",
      " $ Fico_Range_25pt       : Factor w/ 19 levels \"\",\" \",\"<500\",..: 9 10 8 10 9 11 7 10 10 10 ...\n",
      " $ State1                : logi  NA NA NA NA NA NA ...\n",
      " $ Test_Code             : logi  NA NA NA NA NA NA ...\n",
      " $ POffDate              : Factor w/ 394 levels \"\",\" \",\"2017-01-22\",..: 98 2 287 359 381 141 382 285 258 381 ...\n",
      " $ fico                  : int  624 629 596 643 600 670 558 646 628 643 ...\n",
      " $ Phone                 : Factor w/ 12631 levels \"\",\" \",\"()-\",\"(000)280-5827\",..: 998 1037 999 1033 1016 2 1029 1014 2 2 ...\n",
      " $ CellPhone             : Factor w/ 2492 levels \"\",\" \",\"()-\",\"0000000000\",..: 3 3 3 3 3 3 3 3 3 3 ...\n",
      " $ X                     : logi  NA NA NA NA NA NA ...\n"
     ]
    },
    {
     "data": {
      "text/plain": [
       " FILECODE       BATCH         LETTERCD         SS7         \n",
       " FB:16573   E      :7718   TX     :5165   Min.   :  11594  \n",
       " XS: 3605   A      :6847   TXR    :2544   1st Qu.:2442919  \n",
       "            ME     :2376   SC     :1960   Median :5028787  \n",
       "            MA     :2009   NC     :1658   Mean   :5012120  \n",
       "            D      : 556   MTX    :1625   3rd Qu.:7624752  \n",
       "            V      : 394   ALL    : 797   Max.   :9999448  \n",
       "            (Other): 278   (Other):6429                    \n",
       "             NAME1           ADDR2                       STREET     \n",
       " Maria Hernandez:   12          :19967                      :   16  \n",
       " Maria Garcia   :    9   Dr.    :    6   8101 Shin Oak Dr.  :    3  \n",
       " Jose Garcia    :    8   Ln.    :    5   P.O. Box 202       :    3  \n",
       " Jose Rodriguez :    8   Road   :    5   P.O. Box 264       :    3  \n",
       " Maria Rodriguez:    7   Lane   :    4   10 Forestgrove Ct. :    2  \n",
       " Daniel Garcia  :    6          :    3   101 Waters Edge Ct.:    2  \n",
       " (Other)        :20128   (Other):  188   (Other)            :20149  \n",
       "          CITY           STATE            ZIP5            ZIP4     \n",
       " Houston    : 1435   TX     :10034   Min.   :20110   Min.   :   1  \n",
       " San Antonio: 1152   SC     : 2609   1st Qu.:29690   1st Qu.:2702  \n",
       " El Paso    :  661   NC     : 2267   Median :75704   Median :4362  \n",
       " Austin     :  298   AL     : 1715   Mean   :58702   Mean   :4716  \n",
       " Brownsville:  236   OK     : 1099   3rd Qu.:78148   3rd Qu.:6622  \n",
       " Albuquerque:  221   TN     : 1002   Max.   :88352   Max.   :9948  \n",
       " (Other)    :16175   (Other): 1452   NA's   :107     NA's   :107   \n",
       "    QSEQNUM           Drop_Date         Closed_Date   \n",
       " Min.   :    1             :  107             :  107  \n",
       " 1st Qu.: 5084   05/10/2018:20071   06/07/2018:20071  \n",
       " Median :10148                                        \n",
       " Mean   :10144                                        \n",
       " 3rd Qu.:15198                                        \n",
       " Max.   :20298                                        \n",
       " NA's   :107                                          \n",
       "                                 CheckAmount_SpelledOut   CheckAmount  \n",
       " one thousand three hundred fifty and 00/100:7221       1,350.00:7221  \n",
       " two thousand four hundred and 00/100       :3642       2,400.00:3642  \n",
       " one thousand two hundred and 00/100        :2209       1,200.00:2209  \n",
       " one thousand and 00/100                    :1628       1,000.00:1628  \n",
       " two thousand and 00/100                    :1256       2,000.00:1256  \n",
       " one thousand three hundred and 00/100      :1176       1,300.00:1176  \n",
       " (Other)                                    :3046       (Other) :3046  \n",
       "  CheckNumber           AcctNum              AMT_ID         amt_finan1  \n",
       " Min.   :2.001e+09   Min.   :8.018e+09   Min.   :229.0   1,350.00:7221  \n",
       " 1st Qu.:2.003e+09   1st Qu.:2.080e+12   1st Qu.:599.0   2,400.00:3642  \n",
       " Median :2.004e+09   Median :2.080e+12   Median :607.0   1,200.00:2209  \n",
       " Mean   :2.183e+09   Mean   :1.651e+12   Mean   :582.4   1,000.00:1628  \n",
       " 3rd Qu.:2.007e+09   3rd Qu.:2.080e+12   3rd Qu.:617.0   2,000.00:1256  \n",
       " Max.   :3.008e+09   Max.   :2.080e+12   Max.   :618.0   1,300.00:1176  \n",
       " NA's   :107         NA's   :107         NA's   :107     (Other) :3046  \n",
       "      Apr1         pmt_amt_1        num_pmt_1        fin_chg_1   \n",
       " Min.   :30.85   Min.   : 98.96   Min.   :13.00   569.55  :7221  \n",
       " 1st Qu.:44.99   1st Qu.:106.65   1st Qu.:15.00   2,011.79:2075  \n",
       " Median :48.00   Median :112.37   Median :18.00   522.17  :1628  \n",
       " Mean   :49.39   Mean   :114.36   Mean   :20.78   1,307.90:1281  \n",
       " 3rd Qu.:48.11   3rd Qu.:122.56   3rd Qu.:24.00   833.00  :1176  \n",
       " Max.   :79.45   Max.   :141.99   Max.   :36.00   945.19  :1036  \n",
       " NA's   :107     NA's   :107      NA's   :107     (Other) :5761  \n",
       "    tot_pmt_1        amt_given1     Lproc_fee1       Acq_chg_1    \n",
       " 1,919.55:7221   $1,350.00:7225   Min.   : 25.00   Min.   :100.0  \n",
       " 4,411.79:2075   $2,400.00:3635   1st Qu.: 25.00   1st Qu.:100.0  \n",
       " 1,522.17:1628   $1,200.00:2207   Median : 40.00   Median :100.0  \n",
       " 3,707.90:1281   $1,000.00:1626   Mean   : 44.33   Mean   :111.2  \n",
       " 2,133.00:1176   $2,000.00:1257   3rd Qu.: 40.00   3rd Qu.:100.0  \n",
       " 3,145.19:1036   $1,300.00:1177   Max.   :120.00   Max.   :200.0  \n",
       " (Other) :5761   (Other)  :3051   NA's   :17402    NA's   :7373   \n",
       "   InHandChg1    PrepaidFinChg     IntSurchgLen    Int_to_Lender  \n",
       " Min.   :352.5   Min.   : 92.21   Min.   :120             :  107  \n",
       " 1st Qu.:422.2   1st Qu.: 92.21   1st Qu.:120             :19026  \n",
       " Median :469.6   Median :113.15   Median :120     1,267.69:    9  \n",
       " Mean   :482.9   Mean   :103.78   Mean   :120     753.19  : 1036  \n",
       " 3rd Qu.:469.6   3rd Qu.:113.15   3rd Qu.:120                     \n",
       " Max.   :733.0   Max.   :113.15   Max.   :120                     \n",
       " NA's   :7373    NA's   :20047    NA's   :19142                   \n",
       "   MntFeeToL1     Mo_InHandChg     FaceAmtLoan       LoanFee8    \n",
       " Min.   :45.00   Min.   :23.50           :  107   Min.   :48     \n",
       " 1st Qu.:72.00   1st Qu.:23.50           :19949   1st Qu.:48     \n",
       " Median :72.00   Median :23.50   1,705.35:   53   Median :48     \n",
       " Mean   :69.51   Mean   :23.74   2,228.87:   69   Mean   :48     \n",
       " 3rd Qu.:72.00   3rd Qu.:23.50                    3rd Qu.:48     \n",
       " Max.   :72.00   Max.   :24.50                    Max.   :48     \n",
       " NA's   :19020   NA's   :19079                    NA's   :20056  \n",
       "    LoanFee4     Effective_rate     Principle     NumPmts_exceptLast\n",
       " Min.   :44.21   Min.   :10.00           :  107   Min.   :14.00     \n",
       " 1st Qu.:44.21   1st Qu.:32.12           :19562   1st Qu.:14.00     \n",
       " Median :65.15   Median :37.58   1,260.00:  232   Median :23.00     \n",
       " Mean   :56.05   Mean   :40.23   2,520.00:  277   Mean   :24.58     \n",
       " 3rd Qu.:65.15   3rd Qu.:44.99                    3rd Qu.:35.00     \n",
       " Max.   :65.15   Max.   :64.99                    Max.   :35.00     \n",
       " NA's   :20056   NA's   :107                      NA's   :16688     \n",
       " LastPmtAmount     BranchNumber             BranchCompany  \n",
       " Min.   : 99.02   Min.   : 101.0                   :  107  \n",
       " 1st Qu.: 99.02   1st Qu.: 524.0   Regional Finance:20071  \n",
       " Median :102.90   Median : 566.0                           \n",
       " Mean   :106.06   Mean   : 598.4                           \n",
       " 3rd Qu.:107.54   3rd Qu.: 703.0                           \n",
       " Max.   :127.98   Max.   :1217.0                           \n",
       " NA's   :16688    NA's   :107                              \n",
       "                          BranchStreetAddress       BranchCity   \n",
       " 3910 Fairmont Parkway, Suite D     :  269    San Antonio: 1313  \n",
       " 1420 FM 1960 Bypass Rd E, Suite 118:  238    Houston    :  949  \n",
       " 1121 SW Military Drive, Suite 103  :  233    El Paso    :  644  \n",
       " 459 Uvalde Road                    :  221    Pasadena   :  485  \n",
       " 1015 S. Mays Street, Suite 101     :  216    Austin     :  422  \n",
       " 1703 Shaver Street                 :  216    Spring     :  344  \n",
       " (Other)                            :18785    (Other)    :16021  \n",
       "  BranchState         BranchZip             BranchPhone   \n",
       " TX     :10034   77504-3066:  269   (281) 487-3529:  269  \n",
       " SC     : 2609   77338-3934:  238   (281) 540-0302:  238  \n",
       " NC     : 2267   78221-1672:  233   (210) 924-2220:  233  \n",
       " AL     : 1715   77015-3717:  221   (832) 623-7068:  221  \n",
       " OK     : 1099   77502-2027:  216   (512) 865-4142:  216  \n",
       " TN     : 1002   78664-6745:  216   (832) 786-3844:  216  \n",
       " (Other): 1452   (Other)   :18785   (Other)       :18785  \n",
       "          BranchFax               BranchManager          BranchSupervisor\n",
       " (281) 305-2747:  269                    :  586   Sandra Lopez   : 1508  \n",
       " (281) 612-1952:  238   Maritza Manriquez:  269   Darla Donica   : 1376  \n",
       " (210) 417-4208:  233   Ernest Menefee   :  238   Joe Gandaria   : 1130  \n",
       " (832) 699-7697:  221   George Silva     :  233   Nellie Carrillo: 1101  \n",
       " (512) 253-7174:  216   Fannie Garza     :  221   Nick Miaoulis  : 1079  \n",
       " (832) 559-0679:  216   Crystal Martinez :  216                  : 1040  \n",
       " (Other)       :18785   (Other)          :18415   (Other)        :12944  \n",
       "         BranchStateVP  Distance_to_Branch            campaign_id   \n",
       "                : 107   Min.   :  0.000                     :  107  \n",
       " Heather Meares :1837   1st Qu.:  2.742    FB_5.0_2018CC    :16478  \n",
       " Kenny Haynes   :3269   Median :  5.229    RetailXS_5.0_2018: 3593  \n",
       " Lee Wright     : 509   Mean   :  8.768                             \n",
       " Michael Johnson:8970   3rd Qu.:  9.946                             \n",
       " Pedro Mariscal :2877   Max.   :659.736                             \n",
       " Scott Juvelier :2609   NA's   :107                                 \n",
       "      DOB           Made_Unmade    MLA_Status    AMT_ID.1    \n",
       " Min.   :18991230         :  107    :  107    Min.   :229.0  \n",
       " 1st Qu.:19580205         :16478   N:20071    1st Qu.:599.0  \n",
       " Median :19690327   MADE  : 1592              Median :607.0  \n",
       " Mean   :19687471   UNMADE: 2001              Mean   :582.4  \n",
       " 3rd Qu.:19810224                             3rd Qu.:617.0  \n",
       " Max.   :19981127                             Max.   :618.0  \n",
       " NA's   :107                                  NA's   :107    \n",
       "   ConProfile             BrAcctNo         CifNo          MGC         \n",
       " Min.   :1.00e+10             :  107   Min.   :  1462   Mode:logical  \n",
       " 1st Qu.:1.00e+12   0101037363:    1   1st Qu.:325175   NA's:20178    \n",
       " Median :1.00e+12   0101037567:    1   Median :542159                 \n",
       " Mean   :9.97e+11   0101037602:    1   Mean   :520495                 \n",
       " 3rd Qu.:1.00e+12   0101037699:    1   3rd Qu.:697641                 \n",
       " Max.   :1.00e+12   0101037743:    1   Max.   :986249                 \n",
       " NA's   :18587      (Other)   :20066   NA's   :2108                   \n",
       " Month_Split      FNAME           MNAME             LNAME      \n",
       "     :  107   MARIA  :  285          :19881   GARCIA   :  209  \n",
       " EVEN:18812   JAMES  :  278          :  107   MARTINEZ :  205  \n",
       " ODD : 1259   JOSE   :  224   A      :   14   SMITH    :  176  \n",
       "              MICHAEL:  192   M      :   10   RODRIGUEZ:  173  \n",
       "              JOHN   :  182   L      :    7   HERNANDEZ:  162  \n",
       "              ROBERT :  178   D      :    6   WILLIAMS :  157  \n",
       "              (Other):18839   (Other):  153   (Other)  :19096  \n",
       "    amt_given1.1  Fico_Range_25pt  State1        Test_Code     \n",
       " $1,350.00:7225   625-649:4924    Mode:logical   Mode:logical  \n",
       " $2,400.00:3635   650-674:3999    NA's:20178     NA's:20178    \n",
       " $1,200.00:2207   600-624:3231                                 \n",
       " $1,000.00:1626   575-599:2101                                 \n",
       " $2,000.00:1257   675-699:2035                                 \n",
       " $1,300.00:1177   700-724:1163                                 \n",
       " (Other)  :3051   (Other):2725                                 \n",
       "       POffDate          fico                 Phone            CellPhone    \n",
       "           : 3593   Min.   :  0.0                : 7383   ()-       :16770  \n",
       " 2018-02-22:  214   1st Qu.:608.0                :  107             :  798  \n",
       " 2018-04-06:  214   Median :638.0   (111)111-1111:    9             :  107  \n",
       " 2018-04-13:  196   Mean   :640.1   (999)999-9999:    6   0000000000:    9  \n",
       " 2018-02-23:  193   3rd Qu.:667.0   (555)555-5555:    3   2106639045:    2  \n",
       " 2018-04-02:  182   Max.   :999.0   (111)000-0000:    2   2145163078:    2  \n",
       " (Other)   :15586   NA's   :120     (Other)      :12668   (Other)   : 2490  \n",
       "    X          \n",
       " Mode:logical  \n",
       " NA's:20178    \n",
       "               \n",
       "               \n",
       "               \n",
       "               \n",
       "               "
      ]
     },
     "metadata": {},
     "output_type": "display_data"
    }
   ],
   "source": [
    "str(mb_fb_xsell_cc_0518)\n",
    "summary(mb_fb_xsell_cc_0518)"
   ]
  },
  {
   "cell_type": "markdown",
   "metadata": {},
   "source": [
    "Subset for XSELL and FBCC(Monthly)"
   ]
  },
  {
   "cell_type": "code",
   "execution_count": 101,
   "metadata": {},
   "outputs": [],
   "source": [
    "mb_fb_cc_0518 <- sqldf(\n",
    "   \"\n",
    "   SELECT * \n",
    "   FROM mb_fb_xsell_cc_0518 \n",
    "   WHERE FILECODE IN ('FB')\n",
    "   \"\n",
    "   )"
   ]
  },
  {
   "cell_type": "code",
   "execution_count": 102,
   "metadata": {},
   "outputs": [
    {
     "data": {
      "text/html": [
       "<ol class=list-inline>\n",
       "\t<li>16573</li>\n",
       "\t<li>75</li>\n",
       "</ol>\n"
      ],
      "text/latex": [
       "\\begin{enumerate*}\n",
       "\\item 16573\n",
       "\\item 75\n",
       "\\end{enumerate*}\n"
      ],
      "text/markdown": [
       "1. 16573\n",
       "2. 75\n",
       "\n",
       "\n"
      ],
      "text/plain": [
       "[1] 16573    75"
      ]
     },
     "metadata": {},
     "output_type": "display_data"
    }
   ],
   "source": [
    "dim(mb_fb_cc_0518)"
   ]
  },
  {
   "cell_type": "code",
   "execution_count": 103,
   "metadata": {},
   "outputs": [
    {
     "name": "stdout",
     "output_type": "stream",
     "text": [
      "'data.frame':\t16573 obs. of  75 variables:\n",
      " $ FILECODE              : Factor w/ 2 levels \"FB\",\"XS\": 1 1 1 1 1 1 1 1 1 1 ...\n",
      " $ BATCH                 : Factor w/ 8 levels \"A\",\"D\",\"E\",\"MA\",..: 1 1 1 1 1 1 1 1 1 1 ...\n",
      " $ LETTERCD              : Factor w/ 34 levels \"ALL\",\"ALS\",\"ARL\",..: 21 21 21 21 21 21 21 21 21 21 ...\n",
      " $ SS7                   : int  9646624 390084 5721998 5481281 6157928 5239795 4771664 1644752 4751340 3567788 ...\n",
      " $ NAME1                 : Factor w/ 19515 levels \"Aaliyah Brent\",..: 4487 14427 5905 6913 17063 17354 18496 5246 10665 15626 ...\n",
      " $ ADDR2                 : Factor w/ 181 levels \"\",\" \",\"/ 510 Zion Street\",..: 2 2 2 2 2 2 2 2 2 2 ...\n",
      " $ STREET                : Factor w/ 19924 levels \"\",\"1 Blackwell St.\",..: 3104 19822 11673 4376 9203 13142 16281 16487 11685 654 ...\n",
      " $ CITY                  : Factor w/ 1828 levels \"\",\"Abbeville\",..: 1398 91 133 133 302 538 538 564 658 658 ...\n",
      " $ STATE                 : Factor w/ 10 levels \"\",\"AL\",\"GA\",\"NC\",..: 4 4 4 4 4 4 4 4 4 4 ...\n",
      " $ ZIP5                  : int  27804 27807 27812 27812 27817 27828 27828 27829 27834 27834 ...\n",
      " $ ZIP4                  : int  3557 582 9310 9580 9332 1893 8968 9222 7089 6307 ...\n",
      " $ QSEQNUM               : int  1 3 4 5 6 7 8 9 10 11 ...\n",
      " $ Drop_Date             : Factor w/ 2 levels \"\",\"05/10/2018\": 2 2 2 2 2 2 2 2 2 2 ...\n",
      " $ Closed_Date           : Factor w/ 2 levels \"\",\"06/07/2018\": 2 2 2 2 2 2 2 2 2 2 ...\n",
      " $ CheckAmount_SpelledOut: Factor w/ 12 levels \"\",\"one thousand and 00/100\",..: 11 11 11 8 11 8 11 8 8 8 ...\n",
      " $ CheckAmount           : Factor w/ 12 levels \"\",\"1,000.00\",..: 12 12 12 3 12 3 12 3 3 3 ...\n",
      " $ CheckNumber           : num  2e+09 2e+09 2e+09 2e+09 2e+09 ...\n",
      " $ AcctNum               : num  2.08e+12 2.08e+12 2.08e+12 2.08e+12 2.08e+12 ...\n",
      " $ AMT_ID                : int  600 600 600 599 600 599 600 599 599 599 ...\n",
      " $ amt_finan1            : Factor w/ 12 levels \"\",\"1,000.00\",..: 12 12 12 3 12 3 12 3 3 3 ...\n",
      " $ Apr1                  : num  30.9 30.9 30.9 33.4 30.9 ...\n",
      " $ pmt_amt_1             : num  103 103 103 99 103 ...\n",
      " $ num_pmt_1             : int  36 36 36 15 36 15 36 15 15 15 ...\n",
      " $ fin_chg_1             : Factor w/ 24 levels \"\",\"1,067.92\",..: 3 3 3 7 3 7 3 7 7 7 ...\n",
      " $ tot_pmt_1             : Factor w/ 25 levels \"\",\"1,484.46\",..: 21 21 21 2 21 2 21 2 2 2 ...\n",
      " $ amt_given1            : Factor w/ 12 levels \"\",\"$1,000.00\",..: 12 12 12 3 12 3 12 3 3 3 ...\n",
      " $ Lproc_fee1            : num  40 40 40 25 40 25 40 25 25 25 ...\n",
      " $ Acq_chg_1             : num  NA NA NA NA NA NA NA NA NA NA ...\n",
      " $ InHandChg1            : num  NA NA NA NA NA NA NA NA NA NA ...\n",
      " $ PrepaidFinChg         : num  NA NA NA NA NA NA NA NA NA NA ...\n",
      " $ IntSurchgLen          : num  NA NA NA NA NA NA NA NA NA NA ...\n",
      " $ Int_to_Lender         : Factor w/ 4 levels \"\",\" \",\"1,267.69\",..: 2 2 2 2 2 2 2 2 2 2 ...\n",
      " $ MntFeeToL1            : num  NA NA NA NA NA NA NA NA NA NA ...\n",
      " $ Mo_InHandChg          : num  NA NA NA NA NA NA NA NA NA NA ...\n",
      " $ FaceAmtLoan           : Factor w/ 4 levels \"\",\" \",\"1,705.35\",..: 2 2 2 2 2 2 2 2 2 2 ...\n",
      " $ LoanFee8              : num  NA NA NA NA NA NA NA NA NA NA ...\n",
      " $ LoanFee4              : num  NA NA NA NA NA NA NA NA NA NA ...\n",
      " $ Effective_rate        : num  29.5 29.5 29.5 29.9 29.5 ...\n",
      " $ Principle             : Factor w/ 4 levels \"\",\" \",\"1,260.00\",..: 2 2 2 2 2 2 2 2 2 2 ...\n",
      " $ NumPmts_exceptLast    : int  35 35 35 14 35 14 35 14 14 14 ...\n",
      " $ LastPmtAmount         : num  103 103 103 99 103 ...\n",
      " $ BranchNumber          : int  669 669 684 684 684 684 684 684 684 684 ...\n",
      " $ BranchCompany         : Factor w/ 2 levels \"\",\"Regional Finance\": 2 2 2 2 2 2 2 2 2 2 ...\n",
      " $ BranchStreetAddress   : Factor w/ 340 levels \"\",\"100 Forum Drive, Suite 4\",..: 97 97 237 237 237 237 237 237 237 237 ...\n",
      " $ BranchCity            : Factor w/ 261 levels \"\",\"Abilene\",\"Abingdon\",..: 199 199 106 106 106 106 106 106 106 106 ...\n",
      " $ BranchState           : Factor w/ 10 levels \"\",\"AL\",\"GA\",\"NC\",..: 4 4 4 4 4 4 4 4 4 4 ...\n",
      " $ BranchZip             : Factor w/ 340 levels \"\",\"20110-1700\",..: 32 32 35 35 35 35 35 35 35 35 ...\n",
      " $ BranchPhone           : Factor w/ 340 levels \"\",\"(205) 227-0090\",..: 314 314 33 33 33 33 33 33 33 33 ...\n",
      " $ BranchFax             : Factor w/ 340 levels \"\",\"(205) 210-4965\",..: 318 318 32 32 32 32 32 32 32 32 ...\n",
      " $ BranchManager         : Factor w/ 331 levels \"\",\" \",\"Aaron Balls\",..: 2 2 278 278 278 278 278 278 278 278 ...\n",
      " $ BranchSupervisor      : Factor w/ 39 levels \"\",\" \",\"Andrew Ivy\",..: 5 5 5 5 5 5 5 5 5 5 ...\n",
      " $ BranchStateVP         : Factor w/ 7 levels \"\",\"Heather Meares\",..: 3 3 3 3 3 3 3 3 3 3 ...\n",
      " $ Distance_to_Branch    : num  44.9 28.5 13 13.5 17.9 ...\n",
      " $ campaign_id           : Factor w/ 3 levels \"\",\"FB_5.0_2018CC\",..: 2 2 2 2 2 2 2 2 2 2 ...\n",
      " $ DOB                   : int  19541209 19821101 19450211 19480622 19531219 19621014 19940108 19411019 19930306 19470428 ...\n",
      " $ Made_Unmade           : Factor w/ 4 levels \"\",\" \",\"MADE\",..: 2 2 2 2 2 2 2 2 2 2 ...\n",
      " $ MLA_Status            : Factor w/ 2 levels \"\",\"N\": 2 2 2 2 2 2 2 2 2 2 ...\n",
      " $ AMT_ID.1              : int  600 600 600 599 600 599 600 599 599 599 ...\n",
      " $ ConProfile            : num  NA NA NA NA NA NA NA NA NA NA ...\n",
      " $ BrAcctNo              : Factor w/ 20072 levels \"\",\"0101037363\",..: 16693 2038 16813 15677 11653 2681 17515 11651 15792 15796 ...\n",
      " $ CifNo                 : int  234978 174563 226329 226197 208411 235414 738603 207992 236874 236940 ...\n",
      " $ MGC                   : logi  NA NA NA NA NA NA ...\n",
      " $ Month_Split           : Factor w/ 3 levels \"\",\"EVEN\",\"ODD\": 2 2 2 3 2 3 2 2 2 2 ...\n",
      " $ FNAME                 : Factor w/ 4870 levels \"\",\"AALIYAH\",\"AAMAR\",..: 1072 3558 1436 1743 4171 4268 4541 1284 2502 3827 ...\n",
      " $ MNAME                 : Factor w/ 119 levels \"\",\" \",\"a\",\"A\",..: 2 2 2 2 2 2 2 2 2 2 ...\n",
      " $ LNAME                 : Factor w/ 7659 levels \"\",\"A\",\"Abadin\",..: 5942 1422 2381 7310 4839 7045 6816 5066 6574 2231 ...\n",
      " $ amt_given1.1          : Factor w/ 12 levels \"\",\"$1,000.00\",..: 12 12 12 3 12 3 12 3 3 3 ...\n",
      " $ Fico_Range_25pt       : Factor w/ 19 levels \"\",\" \",\"<500\",..: 9 8 10 9 11 7 10 10 10 12 ...\n",
      " $ State1                : logi  NA NA NA NA NA NA ...\n",
      " $ Test_Code             : logi  NA NA NA NA NA NA ...\n",
      " $ POffDate              : Factor w/ 394 levels \"\",\" \",\"2017-01-22\",..: 98 287 359 381 141 382 285 258 381 325 ...\n",
      " $ fico                  : int  624 596 643 600 670 558 646 628 643 695 ...\n",
      " $ Phone                 : Factor w/ 12631 levels \"\",\" \",\"()-\",\"(000)280-5827\",..: 998 999 1033 1016 2 1029 1014 2 2 2 ...\n",
      " $ CellPhone             : Factor w/ 2492 levels \"\",\" \",\"()-\",\"0000000000\",..: 3 3 3 3 3 3 3 3 3 3 ...\n",
      " $ X                     : logi  NA NA NA NA NA NA ...\n"
     ]
    },
    {
     "data": {
      "text/plain": [
       " FILECODE       BATCH         LETTERCD         SS7         \n",
       " FB:16573   A      :6572   TX     :5165   Min.   :  11866  \n",
       " XS:    0   E      :5173   SC     :1960   1st Qu.:2444614  \n",
       "            MA     :1991   NC     :1658   Median :5073010  \n",
       "            ME     :1625   MTX    :1625   Mean   :5036045  \n",
       "            D      : 541   ALL    : 797   3rd Qu.:7676018  \n",
       "            V      : 394   OK     : 776   Max.   :9999448  \n",
       "            (Other): 277   (Other):4592                    \n",
       "             NAME1           ADDR2                       STREET     \n",
       " Maria Hernandez:   11          :16365                      :   15  \n",
       " Jose Garcia    :    8   Dr.    :    6   P.O. Box 202       :    3  \n",
       " Jose Rodriguez :    7   Ln.    :    5   P.O. Box 264       :    3  \n",
       " Maria Garcia   :    7   Road   :    5   10 Forestgrove Ct. :    2  \n",
       " Maria Rodriguez:    7   Lane   :    4   101 Waters Edge Ct.:    2  \n",
       " Jose Lopez     :    6          :    3   1016 8th Ave. SW   :    2  \n",
       " (Other)        :16527   (Other):  185   (Other)            :16546  \n",
       "          CITY           STATE           ZIP5            ZIP4     \n",
       " Houston    :  877   TX     :6749   Min.   :20110   Min.   :   1  \n",
       " San Antonio:  689   SC     :2540   1st Qu.:29540   1st Qu.:2735  \n",
       " El Paso    :  541   NC     :2163   Median :73099   Median :4460  \n",
       " Albuquerque:  221   AL     :1706   Mean   :55128   Mean   :4807  \n",
       " Charlotte  :  209   OK     :1005   3rd Qu.:77584   3rd Qu.:6835  \n",
       " Columbia   :  187   TN     : 986   Max.   :88352   Max.   :9948  \n",
       " (Other)    :13849   (Other):1424   NA's   :95      NA's   :95    \n",
       "    QSEQNUM           Drop_Date         Closed_Date   \n",
       " Min.   :    1             :   95             :   95  \n",
       " 1st Qu.: 4341   05/10/2018:16478   06/07/2018:16478  \n",
       " Median : 8944                                        \n",
       " Mean   : 9672                                        \n",
       " 3rd Qu.:15332                                        \n",
       " Max.   :20298                                        \n",
       " NA's   :95                                           \n",
       "                                 CheckAmount_SpelledOut   CheckAmount  \n",
       " one thousand three hundred fifty and 00/100:5113       1,350.00:5113  \n",
       " two thousand four hundred and 00/100       :3565       2,400.00:3565  \n",
       " one thousand two hundred and 00/100        :2097       1,200.00:2097  \n",
       " one thousand and 00/100                    :1628       1,000.00:1628  \n",
       " two thousand and 00/100                    :1245       2,000.00:1245  \n",
       " two thousand two hundred and 00/100        :1032       2,200.00:1032  \n",
       " (Other)                                    :1893       (Other) :1893  \n",
       "  CheckNumber           AcctNum              AMT_ID       amt_finan1  \n",
       " Min.   :2.001e+09   Min.   :8.018e+09   Min.   :229   1,350.00:5113  \n",
       " 1st Qu.:2.003e+09   1st Qu.:2.080e+12   1st Qu.:587   2,400.00:3565  \n",
       " Median :2.003e+09   Median :2.080e+12   Median :607   1,200.00:2097  \n",
       " Mean   :2.004e+09   Mean   :1.572e+12   Mean   :577   1,000.00:1628  \n",
       " 3rd Qu.:2.005e+09   3rd Qu.:2.080e+12   3rd Qu.:617   2,000.00:1245  \n",
       " Max.   :2.009e+09   Max.   :2.080e+12   Max.   :617   2,200.00:1032  \n",
       " NA's   :95          NA's   :95          NA's   :95    (Other) :1893  \n",
       "      Apr1         pmt_amt_1        num_pmt_1        fin_chg_1   \n",
       " Min.   :30.85   Min.   : 98.96   Min.   :13.00   569.55  :5113  \n",
       " 1st Qu.:43.19   1st Qu.:106.65   1st Qu.:15.00   2,011.79:2046  \n",
       " Median :48.00   Median :116.69   Median :18.00   522.17  :1628  \n",
       " Mean   :48.20   Mean   :115.02   Mean   :21.34   1,307.90:1234  \n",
       " 3rd Qu.:48.11   3rd Qu.:122.56   3rd Qu.:24.00   945.19  :1032  \n",
       " Max.   :79.45   Max.   :141.99   Max.   :36.00   284.46  : 929  \n",
       " NA's   :95      NA's   :95       NA's   :95      (Other) :4591  \n",
       "    tot_pmt_1        amt_given1     Lproc_fee1       Acq_chg_1    \n",
       " 1,919.55:5113   $1,350.00:5117   Min.   : 25.00   Min.   :100.0  \n",
       " 4,411.79:2046   $2,400.00:3558   1st Qu.: 25.00   1st Qu.:100.0  \n",
       " 1,522.17:1628   $1,200.00:2096   Median : 40.00   Median :100.0  \n",
       " 3,707.90:1234   $1,000.00:1626   Mean   : 44.81   Mean   :114.8  \n",
       " 3,145.19:1032   $2,000.00:1246   3rd Qu.: 40.00   3rd Qu.:127.5  \n",
       " 1,484.46: 929   $2,200.00:1032   Max.   :120.00   Max.   :200.0  \n",
       " (Other) :4591   (Other)  :1898   NA's   :13901    NA's   :7167   \n",
       "   InHandChg1    PrepaidFinChg     IntSurchgLen    Int_to_Lender  \n",
       " Min.   :352.5   Min.   : 92.21   Min.   :120             :   95  \n",
       " 1st Qu.:422.2   1st Qu.: 92.21   1st Qu.:120             :15438  \n",
       " Median :469.6   Median :113.15   Median :120     1,267.69:    8  \n",
       " Mean   :455.9   Mean   :103.80   Mean   :120     753.19  : 1032  \n",
       " 3rd Qu.:469.6   3rd Qu.:113.15   3rd Qu.:120                     \n",
       " Max.   :639.8   Max.   :113.15   Max.   :120                     \n",
       " NA's   :7167    NA's   :16443    NA's   :15541                   \n",
       "   MntFeeToL1     Mo_InHandChg     FaceAmtLoan       LoanFee8    \n",
       " Min.   :45.0    Min.   :23.5            :   95   Min.   :48     \n",
       " 1st Qu.:72.0    1st Qu.:23.5            :16356   1st Qu.:48     \n",
       " Median :72.0    Median :23.5    1,705.35:   53   Median :48     \n",
       " Mean   :69.5    Mean   :23.7    2,228.87:   69   Mean   :48     \n",
       " 3rd Qu.:72.0    3rd Qu.:23.5                     3rd Qu.:48     \n",
       " Max.   :72.0    Max.   :24.5                     Max.   :48     \n",
       " NA's   :15419   NA's   :15568                    NA's   :16451  \n",
       "    LoanFee4     Effective_rate     Principle     NumPmts_exceptLast\n",
       " Min.   :44.21   Min.   :10.00           :   95   Min.   :14.00     \n",
       " 1st Qu.:44.21   1st Qu.:30.78           :15969   1st Qu.:14.00     \n",
       " Median :65.15   Median :37.58   1,260.00:  232   Median :23.00     \n",
       " Mean   :56.05   Mean   :39.34   2,520.00:  277   Mean   :24.65     \n",
       " 3rd Qu.:65.15   3rd Qu.:44.99                    3rd Qu.:35.00     \n",
       " Max.   :65.15   Max.   :64.99                    Max.   :35.00     \n",
       " NA's   :16451   NA's   :95                       NA's   :13203     \n",
       " LastPmtAmount     BranchNumber             BranchCompany  \n",
       " Min.   : 99.02   Min.   : 101.0                   :   95  \n",
       " 1st Qu.: 99.02   1st Qu.: 520.0   Regional Finance:16478  \n",
       " Median :102.90   Median : 573.0                           \n",
       " Mean   :106.11   Mean   : 606.8                           \n",
       " 3rd Qu.:107.54   3rd Qu.: 720.0                           \n",
       " Max.   :127.83   Max.   :1217.0                           \n",
       " NA's   :13203    NA's   :95                               \n",
       "                        BranchStreetAddress       BranchCity     BranchState  \n",
       " 3910 Fairmont Parkway, Suite D   :  165    San Antonio:  797   TX     :6749  \n",
       " 1121 SW Military Drive, Suite 103:  154    Houston    :  585   SC     :2540  \n",
       " 1703 Shaver Street               :  152    El Paso    :  522   NC     :2163  \n",
       " 459 Uvalde Road                  :  134    Pasadena   :  317   AL     :1706  \n",
       " 1015 S. Mays Street, Suite 101   :  123    Columbia   :  287   OK     :1005  \n",
       " 217 S. Oklahoma Avenue, Suite D  :  116    Austin     :  248   TN     : 986  \n",
       " (Other)                          :15729    (Other)    :13817   (Other):1424  \n",
       "      BranchZip             BranchPhone             BranchFax    \n",
       " 77504-3066:  165   (281) 487-3529:  165   (281) 305-2747:  165  \n",
       " 78221-1672:  154   (210) 924-2220:  154   (210) 417-4208:  154  \n",
       " 77502-2027:  152   (832) 786-3844:  152   (832) 559-0679:  152  \n",
       " 77015-3717:  134   (832) 623-7068:  134   (832) 699-7697:  134  \n",
       " 78664-6745:  123   (512) 865-4142:  123   (512) 253-7174:  123  \n",
       " 78596-7970:  116   (505) 835-1627:  116   (505) 738-3807:  116  \n",
       " (Other)   :15729   (Other)       :15729   (Other)       :15729  \n",
       "           BranchManager          BranchSupervisor         BranchStateVP \n",
       "                  :  464                  : 1028                  :  95  \n",
       " Maritza Manriquez:  165   Sandra Lopez   :  915   Heather Meares :1828  \n",
       " George Silva     :  154   Darla Donica   :  752   Kenny Haynes   :3149  \n",
       " Crystal Martinez :  152   Nellie Carrillo:  716   Lee Wright     : 509  \n",
       " Fannie Garza     :  134   Nick Miaoulis  :  691   Michael Johnson:5888  \n",
       " Rachel Pereyra   :  123   Joe Gandaria   :  672   Pedro Mariscal :2564  \n",
       " (Other)          :15381   (Other)        :11799   Scott Juvelier :2540  \n",
       " Distance_to_Branch            campaign_id         DOB           Made_Unmade   \n",
       " Min.   :  0.000                     :   95   Min.   :19121019         :   95  \n",
       " 1st Qu.:  2.760    FB_5.0_2018CC    :16478   1st Qu.:19561104         :16478  \n",
       " Median :  5.404    RetailXS_5.0_2018:    0   Median :19670215   MADE  :    0  \n",
       " Mean   :  8.996                              Mean   :19671849   UNMADE:    0  \n",
       " 3rd Qu.: 10.452                              3rd Qu.:19790202                 \n",
       " Max.   :659.736                              Max.   :19980825                 \n",
       " NA's   :95                                   NA's   :95                       \n",
       " MLA_Status    AMT_ID.1     ConProfile          BrAcctNo         CifNo       \n",
       "  :   95    Min.   :229   Min.   : NA               :   95   Min.   :  1462  \n",
       " N:16478    1st Qu.:587   1st Qu.: NA     0101037363:    1   1st Qu.:311562  \n",
       "            Median :607   Median : NA     0101037567:    1   Median :516466  \n",
       "            Mean   :577   Mean   :NaN     0101037602:    1   Mean   :504396  \n",
       "            3rd Qu.:617   3rd Qu.: NA     0101037699:    1   3rd Qu.:684009  \n",
       "            Max.   :617   Max.   : NA     0101037743:    1   Max.   :986249  \n",
       "            NA's   :95    NA's   :16573   (Other)   :16473   NA's   :95      \n",
       "   MGC          Month_Split      FNAME           MNAME             LNAME      \n",
       " Mode:logical       :   95   JAMES  :  256          :16478   SMITH    :  153  \n",
       " NA's:16573     EVEN:15219   MARIA  :  244          :   95   GARCIA   :  148  \n",
       "                ODD : 1259   JOSE   :  188   a      :    0   MARTINEZ :  147  \n",
       "                             JOHN   :  165   A      :    0   RODRIGUEZ:  137  \n",
       "                             MICHAEL:  159   AARON  :    0   WILLIAMS :  134  \n",
       "                             ROBERT :  159   Adriana:    0   HERNANDEZ:  127  \n",
       "                             (Other):15402   (Other):    0   (Other)  :15727  \n",
       "    amt_given1.1  Fico_Range_25pt  State1        Test_Code     \n",
       " $1,350.00:5117   625-649:3570    Mode:logical   Mode:logical  \n",
       " $2,400.00:3558   600-624:3231    NA's:16573     NA's:16573    \n",
       " $1,200.00:2096   650-674:3011                                 \n",
       " $1,000.00:1626   575-599:2101                                 \n",
       " $2,000.00:1246   675-699:1332                                 \n",
       " $2,200.00:1032   550-574:1155                                 \n",
       " (Other)  :1898   (Other):2173                                 \n",
       "       POffDate          fico                 Phone           CellPhone    \n",
       " 2018-02-22:  214   Min.   :  0.0                :7304   ()-       :16478  \n",
       " 2018-04-06:  214   1st Qu.:600.0                :  95             :   95  \n",
       " 2018-04-13:  196   Median :631.0   (111)111-1111:   9             :    0  \n",
       " 2018-02-23:  193   Mean   :634.8   (999)999-9999:   6   0000000000:    0  \n",
       " 2018-04-02:  182   3rd Qu.:661.0   (555)555-5555:   3   2017096518:    0  \n",
       " 2018-04-09:  169   Max.   :999.0   (111)000-0000:   2   2052819863:    0  \n",
       " (Other)   :15405   NA's   :108     (Other)      :9154   (Other)   :    0  \n",
       "    X          \n",
       " Mode:logical  \n",
       " NA's:16573    \n",
       "               \n",
       "               \n",
       "               \n",
       "               \n",
       "               "
      ]
     },
     "metadata": {},
     "output_type": "display_data"
    }
   ],
   "source": [
    "str(mb_fb_cc_0518)\n",
    "summary(mb_fb_cc_0518)"
   ]
  },
  {
   "cell_type": "code",
   "execution_count": 104,
   "metadata": {},
   "outputs": [],
   "source": [
    "mb_xsell_cc_0518 <- sqldf(\n",
    "   \"\n",
    "   SELECT * \n",
    "   FROM mb_fb_xsell_cc_0518 \n",
    "   WHERE FILECODE IN ('XS')\n",
    "   \"\n",
    "   )"
   ]
  },
  {
   "cell_type": "code",
   "execution_count": 105,
   "metadata": {},
   "outputs": [
    {
     "data": {
      "text/html": [
       "<ol class=list-inline>\n",
       "\t<li>3605</li>\n",
       "\t<li>75</li>\n",
       "</ol>\n"
      ],
      "text/latex": [
       "\\begin{enumerate*}\n",
       "\\item 3605\n",
       "\\item 75\n",
       "\\end{enumerate*}\n"
      ],
      "text/markdown": [
       "1. 3605\n",
       "2. 75\n",
       "\n",
       "\n"
      ],
      "text/plain": [
       "[1] 3605   75"
      ]
     },
     "metadata": {},
     "output_type": "display_data"
    }
   ],
   "source": [
    "dim(mb_xsell_cc_0518)"
   ]
  },
  {
   "cell_type": "code",
   "execution_count": 106,
   "metadata": {},
   "outputs": [
    {
     "name": "stdout",
     "output_type": "stream",
     "text": [
      "'data.frame':\t3605 obs. of  75 variables:\n",
      " $ FILECODE              : Factor w/ 2 levels \"FB\",\"XS\": 2 2 2 2 2 2 2 2 2 2 ...\n",
      " $ BATCH                 : Factor w/ 8 levels \"A\",\"D\",\"E\",\"MA\",..: 1 1 1 1 1 1 1 1 1 1 ...\n",
      " $ LETTERCD              : Factor w/ 34 levels \"ALL\",\"ALS\",\"ARL\",..: 22 22 27 27 4 4 29 29 29 29 ...\n",
      " $ SS7                   : int  2695692 6410578 1176918 8191628 430410 5403364 3557220 8235324 6132332 8927754 ...\n",
      " $ NAME1                 : Factor w/ 19515 levels \"Aaliyah Brent\",..: 2117 8070 16413 17247 10586 14963 7138 1647 16998 9064 ...\n",
      " $ ADDR2                 : Factor w/ 181 levels \"\",\" \",\"/ 510 Zion Street\",..: 2 2 2 2 2 2 2 2 2 2 ...\n",
      " $ STREET                : Factor w/ 19924 levels \"\",\"1 Blackwell St.\",..: 201 12649 4188 17687 17338 10815 2191 11861 5774 17943 ...\n",
      " $ CITY                  : Factor w/ 1828 levels \"\",\"Abbeville\",..: 1398 658 14 1187 1640 1087 62 1057 1057 1057 ...\n",
      " $ STATE                 : Factor w/ 10 levels \"\",\"AL\",\"GA\",\"NC\",..: 4 4 7 7 2 2 8 8 8 8 ...\n",
      " $ ZIP5                  : int  27804 27858 29805 29860 36582 36606 38002 38115 38116 38125 ...\n",
      " $ ZIP4                  : int  9303 8173 6719 9733 2387 3026 5346 5251 8545 4618 ...\n",
      " $ QSEQNUM               : int  2 39 117 183 269 291 443 457 460 464 ...\n",
      " $ Drop_Date             : Factor w/ 2 levels \"\",\"05/10/2018\": 2 2 2 2 2 2 2 2 2 2 ...\n",
      " $ Closed_Date           : Factor w/ 2 levels \"\",\"06/07/2018\": 2 2 2 2 2 2 2 2 2 2 ...\n",
      " $ CheckAmount_SpelledOut: Factor w/ 12 levels \"\",\"one thousand and 00/100\",..: 8 8 11 11 9 9 4 4 10 4 ...\n",
      " $ CheckAmount           : Factor w/ 12 levels \"\",\"1,000.00\",..: 3 3 12 12 4 4 7 7 10 7 ...\n",
      " $ CheckNumber           : num  3.00e+09 3.00e+09 3.00e+09 3.00e+09 3.01e+09 ...\n",
      " $ AcctNum               : num  2.08e+12 2.08e+12 2.08e+12 2.08e+12 8.02e+09 ...\n",
      " $ AMT_ID                : int  601 601 535 535 610 610 490 490 608 490 ...\n",
      " $ amt_finan1            : Factor w/ 12 levels \"\",\"1,000.00\",..: 3 3 12 12 4 4 7 7 10 7 ...\n",
      " $ Apr1                  : num  33.4 33.4 45 45 55.1 ...\n",
      " $ pmt_amt_1             : num  99 99 123 123 119 ...\n",
      " $ num_pmt_1             : int  15 15 36 36 15 15 15 15 20 15 ...\n",
      " $ fin_chg_1             : Factor w/ 24 levels \"\",\"1,067.92\",..: 7 7 6 6 14 14 18 18 23 18 ...\n",
      " $ tot_pmt_1             : Factor w/ 25 levels \"\",\"1,484.46\",..: 2 2 25 25 9 9 14 14 18 14 ...\n",
      " $ amt_given1            : Factor w/ 12 levels \"\",\"$1,000.00\",..: 3 3 12 12 4 4 7 7 10 7 ...\n",
      " $ Lproc_fee1            : num  25 25 NA NA NA NA NA NA NA NA ...\n",
      " $ Acq_chg_1             : num  NA NA NA NA 128 ...\n",
      " $ InHandChg1            : num  NA NA NA NA 390 ...\n",
      " $ PrepaidFinChg         : num  NA NA NA NA NA NA NA NA NA NA ...\n",
      " $ IntSurchgLen          : num  NA NA NA NA NA NA NA NA NA NA ...\n",
      " $ Int_to_Lender         : Factor w/ 4 levels \"\",\" \",\"1,267.69\",..: 2 2 2 2 2 2 2 2 2 2 ...\n",
      " $ MntFeeToL1            : num  NA NA NA NA NA NA NA NA NA NA ...\n",
      " $ Mo_InHandChg          : num  NA NA NA NA NA NA NA NA NA NA ...\n",
      " $ FaceAmtLoan           : Factor w/ 4 levels \"\",\" \",\"1,705.35\",..: 2 2 2 2 2 2 2 2 2 2 ...\n",
      " $ LoanFee8              : num  NA NA NA NA NA NA NA NA NA NA ...\n",
      " $ LoanFee4              : num  NA NA NA NA NA NA NA NA NA NA ...\n",
      " $ Effective_rate        : num  29.9 29.9 45 45 38.8 ...\n",
      " $ Principle             : Factor w/ 4 levels \"\",\" \",\"1,260.00\",..: 2 2 2 2 2 2 2 2 2 2 ...\n",
      " $ NumPmts_exceptLast    : int  14 14 NA NA NA NA NA NA NA NA ...\n",
      " $ LastPmtAmount         : num  99 99 NA NA NA ...\n",
      " $ BranchNumber          : int  669 684 109 147 818 820 721 721 721 721 ...\n",
      " $ BranchCompany         : Factor w/ 2 levels \"\",\"Regional Finance\": 2 2 2 2 2 2 2 2 2 2 ...\n",
      " $ BranchStreetAddress   : Factor w/ 340 levels \"\",\"100 Forum Drive, Suite 4\",..: 97 237 79 224 258 284 307 307 307 307 ...\n",
      " $ BranchCity            : Factor w/ 261 levels \"\",\"Abilene\",\"Abingdon\",..: 199 106 5 181 166 166 161 161 161 161 ...\n",
      " $ BranchState           : Factor w/ 10 levels \"\",\"AL\",\"GA\",\"NC\",..: 4 4 7 7 2 2 8 8 8 8 ...\n",
      " $ BranchZip             : Factor w/ 340 levels \"\",\"20110-1700\",..: 32 35 117 120 173 172 192 192 192 192 ...\n",
      " $ BranchPhone           : Factor w/ 340 levels \"\",\"(205) 227-0090\",..: 314 33 200 186 30 29 278 278 278 278 ...\n",
      " $ BranchFax             : Factor w/ 340 levels \"\",\"(205) 210-4965\",..: 318 32 206 198 31 30 292 292 292 292 ...\n",
      " $ BranchManager         : Factor w/ 331 levels \"\",\" \",\"Aaron Balls\",..: 2 278 196 127 96 297 77 77 77 77 ...\n",
      " $ BranchSupervisor      : Factor w/ 39 levels \"\",\" \",\"Andrew Ivy\",..: 5 5 17 17 39 39 25 25 25 25 ...\n",
      " $ BranchStateVP         : Factor w/ 7 levels \"\",\"Heather Meares\",..: 3 3 7 7 2 2 3 3 3 3 ...\n",
      " $ Distance_to_Branch    : num  45.18 4.64 14.11 4.71 4.27 ...\n",
      " $ campaign_id           : Factor w/ 3 levels \"\",\"FB_5.0_2018CC\",..: 3 3 3 3 3 3 3 3 3 3 ...\n",
      " $ DOB                   : int  19881002 19810314 19690819 19820513 19941017 19490129 19801217 19730430 19740626 19750106 ...\n",
      " $ Made_Unmade           : Factor w/ 4 levels \"\",\" \",\"MADE\",..: 3 3 3 4 3 4 3 3 3 3 ...\n",
      " $ MLA_Status            : Factor w/ 2 levels \"\",\"N\": 2 2 2 2 2 2 2 2 2 2 ...\n",
      " $ AMT_ID.1              : int  601 601 535 535 610 610 490 490 608 490 ...\n",
      " $ ConProfile            : num  1e+12 1e+12 1e+12 NA 1e+12 ...\n",
      " $ BrAcctNo              : Factor w/ 20072 levels \"\",\"0101037363\",..: 17115 17247 275 19114 13394 19768 12615 12618 17713 12617 ...\n",
      " $ CifNo                 : int  237292 707952 310160 NA 804943 NA 912313 913117 914954 912557 ...\n",
      " $ MGC                   : logi  NA NA NA NA NA NA ...\n",
      " $ Month_Split           : Factor w/ 3 levels \"\",\"EVEN\",\"ODD\": 2 2 2 2 2 2 2 2 2 2 ...\n",
      " $ FNAME                 : Factor w/ 4870 levels \"\",\"AALIYAH\",\"AAMAR\",..: 531 2049 3983 4246 2481 3694 1817 413 4143 2244 ...\n",
      " $ MNAME                 : Factor w/ 119 levels \"\",\" \",\"a\",\"A\",..: 2 65 2 2 2 65 2 70 2 2 ...\n",
      " $ LNAME                 : Factor w/ 7659 levels \"\",\"A\",\"Abadin\",..: 3634 7394 2687 6619 6872 637 3619 7456 7523 1704 ...\n",
      " $ amt_given1.1          : Factor w/ 12 levels \"\",\"$1,000.00\",..: 3 3 12 12 4 4 7 7 10 7 ...\n",
      " $ Fico_Range_25pt       : Factor w/ 19 levels \"\",\" \",\"<500\",..: 10 10 12 11 10 10 10 10 12 10 ...\n",
      " $ State1                : logi  NA NA NA NA NA NA ...\n",
      " $ Test_Code             : logi  NA NA NA NA NA NA ...\n",
      " $ POffDate              : Factor w/ 394 levels \"\",\" \",\"2017-01-22\",..: 2 2 2 2 2 2 2 2 2 2 ...\n",
      " $ fico                  : int  629 633 682 650 627 641 626 627 676 646 ...\n",
      " $ Phone                 : Factor w/ 12631 levels \"\",\" \",\"()-\",\"(000)280-5827\",..: 1037 9857 5368 10807 9855 10332 7407 11898 11900 11125 ...\n",
      " $ CellPhone             : Factor w/ 2492 levels \"\",\" \",\"()-\",\"0000000000\",..: 3 2 3 1397 461 2 3 2008 2 2 ...\n",
      " $ X                     : logi  NA NA NA NA NA NA ...\n"
     ]
    },
    {
     "data": {
      "text/plain": [
       " FILECODE      BATCH         LETTERCD         SS7         \n",
       " FB:   0   E      :2545   TXR    :2544   Min.   :  11594  \n",
       " XS:3605   ME     : 751   MTXR   : 751   1st Qu.:2435776  \n",
       "           A      : 275   NCR    : 100   Median :4841406  \n",
       "           MA     :  18   OKR    :  83   Mean   :4902133  \n",
       "           D      :  15   SCR    :  68   3rd Qu.:7398106  \n",
       "           MD     :   1   NMS    :  15   Max.   :9997146  \n",
       "           (Other):   0   (Other):  44                    \n",
       "               NAME1                        ADDR2     \n",
       " Daniel Garcia    :   3                        :3602  \n",
       " Maria Gonzalez   :   3   Apt. 1924S.HARRAH Rd.:   1  \n",
       " Abigail Rodriguez:   2   Pkwy. North APT      :   1  \n",
       " Ana Flores       :   2   Way                  :   1  \n",
       " Anna Martinez    :   2                        :   0  \n",
       " Daniel Gonzalez  :   2   / 510 Zion Street    :   0  \n",
       " (Other)          :3591   (Other)              :   0  \n",
       "                       STREET              CITY          STATE     \n",
       " 10101 S. 1st St. Apt. 823:   2   Houston    : 558   TX     :3285  \n",
       " 10911 Canter Spur        :   2   San Antonio: 463   NC     : 104  \n",
       " 110 County Road 2757     :   2   Austin     : 126   OK     :  94  \n",
       " 1102 56th St.            :   2   El Paso    : 120   SC     :  69  \n",
       " 112 Farmer Cv.           :   2   Brownsville:  93   NM     :  16  \n",
       " 12500 Barker Cypress Rd. :   2   Humble     :  88   TN     :  16  \n",
       " (Other)                  :3593   (Other)    :2157   (Other):  21  \n",
       "      ZIP5            ZIP4         QSEQNUM           Drop_Date   \n",
       " Min.   :27045   Min.   :   2   Min.   :    2             :  12  \n",
       " 1st Qu.:77072   1st Qu.:2522   1st Qu.: 9708   05/10/2018:3593  \n",
       " Median :77545   Median :4034   Median :11852                    \n",
       " Mean   :75096   Mean   :4298   Mean   :12312                    \n",
       " 3rd Qu.:78504   3rd Qu.:5838   3rd Qu.:14636                    \n",
       " Max.   :88260   Max.   :9938   Max.   :19779                    \n",
       " NA's   :12      NA's   :12     NA's   :12                       \n",
       "     Closed_Date                                   CheckAmount_SpelledOut\n",
       "           :  12   one thousand three hundred fifty and 00/100:2108      \n",
       " 06/07/2018:3593   one thousand three hundred and 00/100      :1176      \n",
       "                   one thousand two hundred and 00/100        : 112      \n",
       "                   two thousand four hundred and 00/100       :  77      \n",
       "                   one thousand four hundred and 00/100       :  61      \n",
       "                   one thousand four hundred ten and 00/100   :  39      \n",
       "                   (Other)                                    :  32      \n",
       "   CheckAmount    CheckNumber           AcctNum              AMT_ID     \n",
       " 1,350.00:2108   Min.   :3.002e+09   Min.   :8.018e+09   Min.   :483.0  \n",
       " 1,300.00:1176   1st Qu.:3.003e+09   1st Qu.:2.080e+12   1st Qu.:604.0  \n",
       " 1,200.00: 112   Median :3.003e+09   Median :2.080e+12   Median :618.0  \n",
       " 2,400.00:  77   Mean   :3.003e+09   Mean   :2.011e+12   Mean   :607.1  \n",
       " 1,400.00:  61   3rd Qu.:3.003e+09   3rd Qu.:2.080e+12   3rd Qu.:618.0  \n",
       " 1,410.00:  39   Max.   :3.008e+09   Max.   :2.080e+12   Max.   :618.0  \n",
       " (Other) :  32   NA's   :12          NA's   :12          NA's   :12     \n",
       "    amt_finan1        Apr1         pmt_amt_1        num_pmt_1    \n",
       " 1,350.00:2108   Min.   :30.85   Min.   : 98.96   Min.   :15.00  \n",
       " 1,300.00:1176   1st Qu.:48.00   1st Qu.:106.65   1st Qu.:18.00  \n",
       " 1,200.00: 112   Median :48.00   Median :106.65   Median :18.00  \n",
       " 2,400.00:  77   Mean   :54.86   Mean   :111.30   Mean   :18.23  \n",
       " 1,400.00:  61   3rd Qu.:69.91   3rd Qu.:118.50   3rd Qu.:18.00  \n",
       " 1,410.00:  39   Max.   :69.91   Max.   :141.99   Max.   :36.00  \n",
       " (Other) :  32   NA's   :12      NA's   :12       NA's   :12     \n",
       "    fin_chg_1       tot_pmt_1        amt_given1     Lproc_fee1   \n",
       " 569.55  :2108   1,919.55:2108   $1,350.00:2108   Min.   :25.00  \n",
       " 833.00  :1176   2,133.00:1176   $1,300.00:1177   1st Qu.:25.00  \n",
       " 284.46  :  57   1,484.46:  57   $1,200.00: 111   Median :25.00  \n",
       " 487.50  :  55   1,687.50:  55   $2,400.00:  77   Mean   :31.78  \n",
       " 1,307.90:  47   3,707.90:  47   $1,400.00:  61   3rd Qu.:40.00  \n",
       " 544.00  :  40   1,944.00:  40   $1,410.00:  39   Max.   :40.00  \n",
       " (Other) : 122   (Other) : 122   (Other)  :  32   NA's   :3501   \n",
       "   Acq_chg_1       InHandChg1    PrepaidFinChg   IntSurchgLen   Int_to_Lender \n",
       " Min.   :100.0   Min.   :352.5   Min.   :100    Min.   :120            :  12  \n",
       " 1st Qu.:100.0   1st Qu.:469.6   1st Qu.:100    1st Qu.:120            :3588  \n",
       " Median :100.0   Median :469.6   Median :100    Median :120    1,267.69:   1  \n",
       " Mean   :101.1   Mean   :557.5   Mean   :100    Mean   :120    753.19  :   4  \n",
       " 3rd Qu.:100.0   3rd Qu.:733.0   3rd Qu.:100    3rd Qu.:120                   \n",
       " Max.   :200.0   Max.   :733.0   Max.   :100    Max.   :120                   \n",
       " NA's   :206     NA's   :206     NA's   :3604   NA's   :3601                  \n",
       "   MntFeeToL1    Mo_InHandChg     FaceAmtLoan      LoanFee8       LoanFee4   \n",
       " Min.   :72     Min.   :23.50           :  12   Min.   : NA    Min.   : NA   \n",
       " 1st Qu.:72     1st Qu.:23.50           :3593   1st Qu.: NA    1st Qu.: NA   \n",
       " Median :72     Median :24.50   1,705.35:   0   Median : NA    Median : NA   \n",
       " Mean   :72     Mean   :24.09   2,228.87:   0   Mean   :NaN    Mean   :NaN   \n",
       " 3rd Qu.:72     3rd Qu.:24.50                   3rd Qu.: NA    3rd Qu.: NA   \n",
       " Max.   :72     Max.   :24.50                   Max.   : NA    Max.   : NA   \n",
       " NA's   :3601   NA's   :3511                    NA's   :3605   NA's   :3605  \n",
       " Effective_rate     Principle    NumPmts_exceptLast LastPmtAmount   \n",
       " Min.   :27.80           :  12   Min.   :14.00      Min.   : 99.02  \n",
       " 1st Qu.:37.58           :3593   1st Qu.:14.00      1st Qu.: 99.02  \n",
       " Median :37.58   1,260.00:   0   Median :14.00      Median :102.90  \n",
       " Mean   :44.30   2,520.00:   0   Mean   :22.75      Mean   :104.39  \n",
       " 3rd Qu.:58.16                   3rd Qu.:35.00      3rd Qu.:102.90  \n",
       " Max.   :58.16                   Max.   :35.00      Max.   :127.98  \n",
       " NA's   :12                      NA's   :3485       NA's   :3485    \n",
       "  BranchNumber             BranchCompany \n",
       " Min.   : 101.0                   :  12  \n",
       " 1st Qu.: 533.0   Regional Finance:3593  \n",
       " Median : 555.0                          \n",
       " Mean   : 559.9                          \n",
       " 3rd Qu.: 576.0                          \n",
       " Max.   :1017.0                          \n",
       " NA's   :12                              \n",
       "                          BranchStreetAddress       BranchCity    BranchState  \n",
       " 1420 FM 1960 Bypass Rd E, Suite 118: 131     San Antonio: 516   TX     :3285  \n",
       " 3719 N. Fry Road, Suite O          : 109     Houston    : 364   NC     : 104  \n",
       " 3910 Fairmont Parkway, Suite D     : 104     Austin     : 174   OK     :  94  \n",
       " 5015 FM 2920 Road, Suite B         : 102     Spring     : 174   SC     :  69  \n",
       " 2550 Broadway Street               :  97     Pasadena   : 168   NM     :  16  \n",
       " 1015 S. Mays Street, Suite 101     :  93     Katy       : 146   TN     :  16  \n",
       " (Other)                            :2969     (Other)    :2063   (Other):  21  \n",
       "      BranchZip            BranchPhone            BranchFax   \n",
       " 77338-3934: 131   (281) 540-0302: 131   (281) 612-1952: 131  \n",
       " 77449-6740: 109   (281) 646-1082: 109   (832) 404-6426: 109  \n",
       " 77504-3066: 104   (281) 487-3529: 104   (281) 305-2747: 104  \n",
       " 77388-3114: 102   (281) 528-1038: 102   (281) 668-7188: 102  \n",
       " 77581-4904:  97   (281) 619-8419:  97   (281) 815-2092:  97  \n",
       " 78664-6745:  93   (512) 865-4142:  93   (512) 253-7174:  93  \n",
       " (Other)   :2969   (Other)       :2969   (Other)       :2969  \n",
       "           BranchManager         BranchSupervisor         BranchStateVP \n",
       " Ernest Menefee   : 131   Darla Donica   :624                    :  12  \n",
       "                  : 122   Sandra Lopez   :593     Heather Meares :   9  \n",
       " Lisa Forrest     : 109   Joe Gandaria   :458     Kenny Haynes   : 120  \n",
       " Maritza Manriquez: 104   Nick Miaoulis  :388     Lee Wright     :   0  \n",
       " Ingrid Zelaya    : 102   Nellie Carrillo:385     Michael Johnson:3082  \n",
       " Paulina S. Reyes :  97   Ed Macias      :286     Pedro Mariscal : 313  \n",
       " (Other)          :2940   (Other)        :871     Scott Juvelier :  69  \n",
       " Distance_to_Branch            campaign_id        DOB           Made_Unmade  \n",
       " Min.   :  0.000                     :  12   Min.   :18991230         :  12  \n",
       " 1st Qu.:  2.657    FB_5.0_2018CC    :   0   1st Qu.:19670511         :   0  \n",
       " Median :  4.665    RetailXS_5.0_2018:3593   Median :19780312   MADE  :1592  \n",
       " Mean   :  7.723                             Mean   :19759114   UNMADE:2001  \n",
       " 3rd Qu.:  7.900                             3rd Qu.:19870111                \n",
       " Max.   :465.063                             Max.   :19981127                \n",
       " NA's   :12                                  NA's   :12                      \n",
       " MLA_Status    AMT_ID.1       ConProfile             BrAcctNo   \n",
       "  :  12     Min.   :483.0   Min.   :1.00e+10             :  12  \n",
       " N:3593     1st Qu.:604.0   1st Qu.:1.00e+12   0102051566:   1  \n",
       "            Median :618.0   Median :1.00e+12   0109087076:   1  \n",
       "            Mean   :607.1   Mean   :9.97e+11   0126051406:   1  \n",
       "            3rd Qu.:618.0   3rd Qu.:1.00e+12   0128050627:   1  \n",
       "            Max.   :618.0   Max.   :1.00e+12   0128050631:   1  \n",
       "            NA's   :12      NA's   :2014       (Other)   :3588  \n",
       "     CifNo          MGC          Month_Split     FNAME          MNAME     \n",
       " Min.   :145552   Mode:logical       :  12   MARIA  :  41          :3403  \n",
       " 1st Qu.:573903   NA's:3605      EVEN:3593   JOSE   :  36   A      :  14  \n",
       " Median :696219                  ODD :   0   MICHAEL:  33          :  12  \n",
       " Mean   :687122                              DAVID  :  30   M      :  10  \n",
       " 3rd Qu.:756777                              DANIEL :  24   L      :   7  \n",
       " Max.   :980622                              JUAN   :  23   D      :   6  \n",
       " NA's   :2013                                (Other):3418   (Other): 153  \n",
       "       LNAME         amt_given1.1  Fico_Range_25pt  State1       \n",
       " GARCIA   :  61   $1,350.00:2108   625-649:1354    Mode:logical  \n",
       " MARTINEZ :  58   $1,300.00:1177   650-674: 988    NA's:3605     \n",
       " RODRIGUEZ:  36   $1,200.00: 111   675-699: 703                  \n",
       " GONZALEZ :  35   $2,400.00:  77   700-724: 531                  \n",
       " HERNANDEZ:  35   $1,400.00:  61   725-749:  17                  \n",
       " GARZA    :  33   $1,410.00:  39          :  12                  \n",
       " (Other)  :3347   (Other)  :  32   (Other):   0                  \n",
       " Test_Code            POffDate         fico              Phone     \n",
       " Mode:logical             :3593   Min.   :625.0             :  79  \n",
       " NA's:3605                :  12   1st Qu.:641.0             :  12  \n",
       "                2017-01-22:   0   Median :660.0   0000000000:   2  \n",
       "                2017-01-23:   0   Mean   :664.6   2105579947:   2  \n",
       "                2017-01-24:   0   3rd Qu.:686.0   2106639045:   2  \n",
       "                2017-01-25:   0   Max.   :725.0   2812562991:   2  \n",
       "                (Other)   :   0   NA's   :12      (Other)   :3506  \n",
       "      CellPhone       X          \n",
       "           : 798   Mode:logical  \n",
       " ()-       : 292   NA's:3605     \n",
       "           :  12                 \n",
       " 0000000000:   9                 \n",
       " 2106639045:   2                 \n",
       " 2145163078:   2                 \n",
       " (Other)   :2490                 "
      ]
     },
     "metadata": {},
     "output_type": "display_data"
    }
   ],
   "source": [
    "str(mb_xsell_cc_0518)\n",
    "summary(mb_xsell_cc_0518)"
   ]
  },
  {
   "cell_type": "markdown",
   "metadata": {},
   "source": [
    "Check Drop_Date"
   ]
  },
  {
   "cell_type": "code",
   "execution_count": 107,
   "metadata": {},
   "outputs": [
    {
     "data": {
      "text/html": [
       "<ol class=list-inline>\n",
       "\t<li>05/10/2018</li>\n",
       "\t<li></li>\n",
       "</ol>\n"
      ],
      "text/latex": [
       "\\begin{enumerate*}\n",
       "\\item 05/10/2018\n",
       "\\item \n",
       "\\end{enumerate*}\n"
      ],
      "text/markdown": [
       "1. 05/10/2018\n",
       "2. \n",
       "\n",
       "\n"
      ],
      "text/plain": [
       "[1] 05/10/2018           \n",
       "Levels:  05/10/2018"
      ]
     },
     "metadata": {},
     "output_type": "display_data"
    }
   ],
   "source": [
    "unique(mb_fb_cc_0518$Drop_Date)"
   ]
  },
  {
   "cell_type": "code",
   "execution_count": 108,
   "metadata": {},
   "outputs": [
    {
     "data": {
      "text/html": [
       "<ol class=list-inline>\n",
       "\t<li>05/10/2018</li>\n",
       "\t<li></li>\n",
       "</ol>\n"
      ],
      "text/latex": [
       "\\begin{enumerate*}\n",
       "\\item 05/10/2018\n",
       "\\item \n",
       "\\end{enumerate*}\n"
      ],
      "text/markdown": [
       "1. 05/10/2018\n",
       "2. \n",
       "\n",
       "\n"
      ],
      "text/plain": [
       "[1] 05/10/2018           \n",
       "Levels:  05/10/2018"
      ]
     },
     "metadata": {},
     "output_type": "display_data"
    }
   ],
   "source": [
    "unique(mb_xsell_cc_0518$Drop_Date)"
   ]
  },
  {
   "cell_type": "markdown",
   "metadata": {},
   "source": [
    "CHANGE DATE and date format if required"
   ]
  },
  {
   "cell_type": "code",
   "execution_count": 109,
   "metadata": {},
   "outputs": [],
   "source": [
    "mb_fb_cc_0518$Drop_Date <- as.Date(\"05/10/2018\", format = \"%m/%d/%Y\",\n",
    "                                   origin = \"01/01/1970\")"
   ]
  },
  {
   "cell_type": "code",
   "execution_count": 110,
   "metadata": {},
   "outputs": [
    {
     "data": {
      "text/html": [
       "<time datetime=\"2018-05-10\">2018-05-10</time>"
      ],
      "text/latex": [
       "2018-05-10"
      ],
      "text/markdown": [
       "2018-05-10"
      ],
      "text/plain": [
       "[1] \"2018-05-10\""
      ]
     },
     "metadata": {},
     "output_type": "display_data"
    }
   ],
   "source": [
    "unique(mb_fb_cc_0518$Drop_Date)"
   ]
  },
  {
   "cell_type": "code",
   "execution_count": 111,
   "metadata": {},
   "outputs": [
    {
     "name": "stdout",
     "output_type": "stream",
     "text": [
      " Date[1:16573], format: \"2018-05-10\" \"2018-05-10\" \"2018-05-10\" \"2018-05-10\" \"2018-05-10\" ...\n"
     ]
    }
   ],
   "source": [
    "str(mb_fb_cc_0518$Drop_Date)"
   ]
  },
  {
   "cell_type": "code",
   "execution_count": 112,
   "metadata": {},
   "outputs": [],
   "source": [
    "mb_xsell_cc_0518$Drop_Date <- as.Date(\"05/10/2018\",\n",
    "                                      format = \"%m/%d/%Y\",\n",
    "                                      origin = \"01/01/1970\")"
   ]
  },
  {
   "cell_type": "code",
   "execution_count": 113,
   "metadata": {},
   "outputs": [
    {
     "data": {
      "text/html": [
       "<time datetime=\"2018-05-10\">2018-05-10</time>"
      ],
      "text/latex": [
       "2018-05-10"
      ],
      "text/markdown": [
       "2018-05-10"
      ],
      "text/plain": [
       "[1] \"2018-05-10\""
      ]
     },
     "metadata": {},
     "output_type": "display_data"
    }
   ],
   "source": [
    "unique(mb_xsell_cc_0518$Drop_Date)"
   ]
  },
  {
   "cell_type": "code",
   "execution_count": 114,
   "metadata": {},
   "outputs": [
    {
     "name": "stdout",
     "output_type": "stream",
     "text": [
      " Date[1:3605], format: \"2018-05-10\" \"2018-05-10\" \"2018-05-10\" \"2018-05-10\" \"2018-05-10\" ...\n"
     ]
    }
   ],
   "source": [
    "str(mb_xsell_cc_0518$Drop_Date)"
   ]
  },
  {
   "cell_type": "code",
   "execution_count": 115,
   "metadata": {},
   "outputs": [],
   "source": [
    "save(mb_fb_cc_0518, \n",
    "     file=\"C:/Users/cepps/RMC/Mail Files/R_data_objects/fb_xsell_cc/mb_fb_cc_0518.RData\")"
   ]
  },
  {
   "cell_type": "code",
   "execution_count": 116,
   "metadata": {},
   "outputs": [],
   "source": [
    "save(mb_xsell_cc_0518, \n",
    "     file=\"C:/Users/cepps/RMC/Mail Files/R_data_objects/fb_xsell_cc/mb_xsell_cc_0518.RData\")"
   ]
  },
  {
   "cell_type": "markdown",
   "metadata": {},
   "source": [
    "June18\n",
    "  \n",
    "Import new mailfile"
   ]
  },
  {
   "cell_type": "code",
   "execution_count": 117,
   "metadata": {},
   "outputs": [],
   "source": [
    "mb_fb_xsell_cc_0618 <- read.table(\"E:/Pallavi/2018/rev1/rev2/mailfile/mailfiles/566) 118307A_RMC_FB_XS_LC_Final_Mailfile.txt\",\n",
    "                                  fill = TRUE, header = TRUE,\n",
    "                                  sep = \"\\t\", quote = \"\")"
   ]
  },
  {
   "cell_type": "code",
   "execution_count": 118,
   "metadata": {},
   "outputs": [
    {
     "data": {
      "text/html": [
       "<ol class=list-inline>\n",
       "\t<li>21465</li>\n",
       "\t<li>75</li>\n",
       "</ol>\n"
      ],
      "text/latex": [
       "\\begin{enumerate*}\n",
       "\\item 21465\n",
       "\\item 75\n",
       "\\end{enumerate*}\n"
      ],
      "text/markdown": [
       "1. 21465\n",
       "2. 75\n",
       "\n",
       "\n"
      ],
      "text/plain": [
       "[1] 21465    75"
      ]
     },
     "metadata": {},
     "output_type": "display_data"
    }
   ],
   "source": [
    "dim(mb_fb_xsell_cc_0618)"
   ]
  },
  {
   "cell_type": "code",
   "execution_count": 119,
   "metadata": {},
   "outputs": [
    {
     "name": "stdout",
     "output_type": "stream",
     "text": [
      "'data.frame':\t21465 obs. of  75 variables:\n",
      " $ FILECODE              : Factor w/ 2 levels \"FB\",\"XS\": 1 1 1 1 1 1 1 1 1 1 ...\n",
      " $ BATCH                 : Factor w/ 8 levels \"A\",\"D\",\"E\",\"PA\",..: 1 1 1 1 1 1 1 1 1 1 ...\n",
      " $ LETTERCD              : Factor w/ 19 levels \"ALL\",\"ALS\",\"ARL\",..: 6 6 6 6 6 6 6 6 6 6 ...\n",
      " $ SS7                   : int  6259809 7707207 9046513 3964833 984839 7113163 820985 8806479 2609055 1689683 ...\n",
      " $ NAME1                 : Factor w/ 20786 levels \".shauna Ingram\",..: 11996 5970 4386 2910 2155 1758 18313 10438 9666 10067 ...\n",
      " $ ADDR2                 : Factor w/ 182 levels \"\",\" \",\"\\\"carlos\\\"\",..: 2 2 2 2 2 2 2 2 2 2 ...\n",
      " $ STREET                : Factor w/ 21191 levels \"\",\"1 Berwick Ct.\",..: 2773 17091 17499 17493 19871 12977 11465 13254 1960 2693 ...\n",
      " $ CITY                  : Factor w/ 1857 levels \"\",\"Abbeville\",..: 1443 97 172 320 567 567 706 706 706 706 ...\n",
      " $ STATE                 : Factor w/ 10 levels \"\",\"AL\",\"GA\",\"NC\",..: 4 4 4 4 4 4 4 4 4 4 ...\n",
      " $ ZIP5                  : int  27803 27807 27814 27817 27828 27828 27834 27834 27834 27834 ...\n",
      " $ ZIP4                  : int  2107 9086 9668 9111 9612 9697 2162 3888 4603 5083 ...\n",
      " $ QSEQNUM               : int  1 2 3 4 5 6 7 8 9 10 ...\n",
      " $ Drop_Date             : Factor w/ 2 levels \"\",\"06/01/2018\": 2 2 2 2 2 2 2 2 2 2 ...\n",
      " $ Closed_Date           : Factor w/ 2 levels \"\",\"06/29/2018\": 2 2 2 2 2 2 2 2 2 2 ...\n",
      " $ CheckAmount_SpelledOut: Factor w/ 11 levels \"\",\"one thousand and 00/100\",..: 7 10 7 7 7 10 10 7 7 7 ...\n",
      " $ CheckAmount           : Factor w/ 11 levels \"\",\"1,000.00\",..: 3 11 3 3 3 11 11 3 3 3 ...\n",
      " $ CheckNumber           : num  2e+09 2e+09 2e+09 2e+09 2e+09 ...\n",
      " $ AcctNum               : num  2.08e+12 2.08e+12 2.08e+12 2.08e+12 2.08e+12 ...\n",
      " $ AMT_ID                : int  599 600 599 599 599 600 600 599 599 599 ...\n",
      " $ amt_finan1            : Factor w/ 11 levels \"\",\"1,000.00\",..: 3 11 3 3 3 11 11 3 3 3 ...\n",
      " $ Apr1                  : num  33.4 30.9 33.4 33.4 33.4 ...\n",
      " $ pmt_amt_1             : num  99 103 99 99 99 ...\n",
      " $ num_pmt_1             : int  15 36 15 15 15 36 36 15 15 15 ...\n",
      " $ fin_chg_1             : Factor w/ 23 levels \"\",\"1,067.92\",..: 6 3 6 6 6 3 3 6 6 6 ...\n",
      " $ tot_pmt_1             : Factor w/ 23 levels \"\",\"1,484.46\",..: 2 21 2 2 2 21 21 2 2 2 ...\n",
      " $ amt_given1            : Factor w/ 11 levels \"\",\"$1,000.00\",..: 3 11 3 3 3 11 11 3 3 3 ...\n",
      " $ Lproc_fee1            : num  25 40 25 25 25 40 40 25 25 25 ...\n",
      " $ Acq_chg_1             : num  NA NA NA NA NA NA NA NA NA NA ...\n",
      " $ InHandChg1            : num  NA NA NA NA NA NA NA NA NA NA ...\n",
      " $ PrepaidFinChg         : num  NA NA NA NA NA NA NA NA NA NA ...\n",
      " $ IntSurchgLen          : num  NA NA NA NA NA NA NA NA NA NA ...\n",
      " $ Int_to_Lender         : num  NA NA NA NA NA NA NA NA NA NA ...\n",
      " $ MntFeeToL1            : num  NA NA NA NA NA NA NA NA NA NA ...\n",
      " $ Mo_InHandChg          : num  NA NA NA NA NA NA NA NA NA NA ...\n",
      " $ FaceAmtLoan           : Factor w/ 4 levels \"\",\" \",\"1,705.35\",..: 2 2 2 2 2 2 2 2 2 2 ...\n",
      " $ LoanFee8              : num  NA NA NA NA NA NA NA NA NA NA ...\n",
      " $ LoanFee4              : num  NA NA NA NA NA NA NA NA NA NA ...\n",
      " $ Effective_rate        : num  29.9 29.5 29.9 29.9 29.9 ...\n",
      " $ Principle             : Factor w/ 4 levels \"\",\" \",\"1,260.00\",..: 2 2 2 2 2 2 2 2 2 2 ...\n",
      " $ NumPmts_exceptLast    : int  14 35 14 14 14 35 35 14 14 14 ...\n",
      " $ LastPmtAmount         : num  99 103 99 99 99 ...\n",
      " $ BranchNumber          : int  684 669 684 684 684 684 684 684 684 684 ...\n",
      " $ BranchCompany         : Factor w/ 2 levels \"\",\"Regional Finance\": 2 2 2 2 2 2 2 2 2 2 ...\n",
      " $ BranchStreetAddress   : Factor w/ 342 levels \"\",\"100 Forum Drive, Suite 4\",..: 239 98 239 239 239 239 239 239 239 239 ...\n",
      " $ BranchCity            : Factor w/ 262 levels \"\",\"Abilene\",\"Abingdon\",..: 107 200 107 107 107 107 107 107 107 107 ...\n",
      " $ BranchState           : Factor w/ 10 levels \"\",\"AL\",\"GA\",\"NC\",..: 4 4 4 4 4 4 4 4 4 4 ...\n",
      " $ BranchZip             : Factor w/ 342 levels \"\",\"20110-1700\",..: 35 32 35 35 35 35 35 35 35 35 ...\n",
      " $ BranchPhone           : Factor w/ 342 levels \"\",\" \",\"(205) 227-0090\",..: 34 316 34 34 34 34 34 34 34 34 ...\n",
      " $ BranchFax             : Factor w/ 342 levels \"\",\" \",\"(205) 210-4965\",..: 33 320 33 33 33 33 33 33 33 33 ...\n",
      " $ BranchManager         : Factor w/ 338 levels \"\",\" \",\"Aaron Balls\",..: 284 196 284 284 284 284 284 284 284 284 ...\n",
      " $ BranchSupervisor      : Factor w/ 39 levels \"\",\" \",\"Andrew Ivy\",..: 5 5 5 5 5 5 5 5 5 5 ...\n",
      " $ BranchStateVP         : Factor w/ 7 levels \"\",\"Heather Meares\",..: 3 3 3 3 3 3 3 3 3 3 ...\n",
      " $ Distance_to_Branch    : num  33.4 28.3 31.2 15.4 10.8 ...\n",
      " $ campaign_id           : Factor w/ 3 levels \"\",\"FB_6.0_2018CC\",..: 2 2 2 2 2 2 2 2 2 2 ...\n",
      " $ DOB                   : int  19720718 19840404 19580505 19550515 19610822 19551220 19520131 19480208 19390609 19480825 ...\n",
      " $ Made_Unmade           : Factor w/ 4 levels \"\",\" \",\"MADE\",..: 2 2 2 2 2 2 2 2 2 2 ...\n",
      " $ MLA_Status            : Factor w/ 2 levels \"\",\"N\": 2 2 2 2 2 2 2 2 2 2 ...\n",
      " $ AMT_ID.1              : int  599 600 599 599 599 600 600 599 599 599 ...\n",
      " $ ConProfile            : num  NA NA NA NA NA NA NA NA NA NA ...\n",
      " $ BrAcctNo              : Factor w/ 21370 levels \"\",\"0101037718\",..: 12114 11727 12115 12116 12121 17060 12132 16680 12110 17126 ...\n",
      " $ CifNo                 : int  208408 177452 208722 208209 208814 708191 207928 242658 208080 723665 ...\n",
      " $ MGC                   : logi  NA NA NA NA NA NA ...\n",
      " $ Month_Split           : Factor w/ 3 levels \"\",\"EVEN\",\"ODD\": 3 3 3 3 3 3 3 3 3 3 ...\n",
      " $ FNAME                 : Factor w/ 5188 levels \"\",\".SHAUNA\",\"AARHYON\",..: 2935 1514 1112 755 559 472 4459 2476 2383 2439 ...\n",
      " $ MNAME                 : Factor w/ 104 levels \"\",\" \",\"a\",\"A\",..: 2 2 2 2 2 2 2 2 2 2 ...\n",
      " $ LNAME                 : Factor w/ 8140 levels \"\",\"AARON\",\"ABASTA\",..: 5248 2746 959 4234 5135 6780 3523 7940 7518 1635 ...\n",
      " $ amt_given1.1          : Factor w/ 11 levels \"\",\"$1,000.00\",..: 3 11 3 3 3 11 11 3 3 3 ...\n",
      " $ Fico_Range_25pt       : Factor w/ 20 levels \"\",\" \",\"<500\",..: 10 10 9 10 10 11 11 7 8 9 ...\n",
      " $ State1                : logi  NA NA NA NA NA NA ...\n",
      " $ Test_Code             : logi  NA NA NA NA NA NA ...\n",
      " $ POffDate              : Factor w/ 398 levels \"\",\" \",\"2017-02-11\",..: 83 135 156 157 216 278 294 387 111 325 ...\n",
      " $ fico                  : int  629 647 616 640 625 674 658 573 593 609 ...\n",
      " $ Phone                 : Factor w/ 13544 levels \"\",\" \",\"(000)366-8770\",..: 2 1046 2 2 2 2 1055 2 2 2 ...\n",
      " $ CellPhone             : Factor w/ 2680 levels \"\",\" \",\"()-\",\"0000000000\",..: 3 3 3 3 3 3 3 3 3 3 ...\n",
      " $ X                     : logi  NA NA NA NA NA NA ...\n"
     ]
    },
    {
     "data": {
      "text/plain": [
       " FILECODE       BATCH         LETTERCD         SS7         \n",
       " FB:17565   E      :8110   TXL    :5240   Min.   :  11859  \n",
       " XS: 3900   A      :7389   SC     :2754   1st Qu.:2356146  \n",
       "            PE     :2497   NC     :2435   Median :4953875  \n",
       "            PA     :2185   XRL    :2283   Mean   :4964337  \n",
       "            D      : 560   TX     :1767   3rd Qu.:7565765  \n",
       "            V      : 433   TXR    :1317   Max.   :9999613  \n",
       "            (Other): 291   (Other):5669                    \n",
       "             NAME1           ADDR2                            STREET     \n",
       " Jose Hernandez :   12          :21266                           :   10  \n",
       " Maria Hernandez:    9   Rd.    :    8   8602 Cinnamon Creek Dr. :    4  \n",
       " Maria Reyes    :    8   NE     :    4   2526 Business Center Dr.:    3  \n",
       " Maria Rodriguez:    8   Dr.    :    3   5565 Mansions Blfs.     :    3  \n",
       " Jose Garcia    :    6   Lane   :    3   P.O. Box 12             :    3  \n",
       " Juan Gonzalez  :    6   SW     :    3   P.O. Box 43             :    3  \n",
       " (Other)        :21416   (Other):  178   (Other)                 :21439  \n",
       "          CITY           STATE            ZIP5            ZIP4     \n",
       " Houston    : 1541   TX     :10551   Min.   :20105   Min.   :   2  \n",
       " San Antonio: 1209   SC     : 2804   1st Qu.:29666   1st Qu.:2678  \n",
       " El Paso    :  722   NC     : 2519   Median :75224   Median :4404  \n",
       " Austin     :  316   AL     : 1882   Mean   :58232   Mean   :4732  \n",
       " Charlotte  :  269   OK     : 1139   3rd Qu.:78130   3rd Qu.:6646  \n",
       " Dallas     :  237   TN     : 1039   Max.   :88352   Max.   :9924  \n",
       " (Other)    :17171   (Other): 1531   NA's   :96      NA's   :98    \n",
       "    QSEQNUM           Drop_Date         Closed_Date   \n",
       " Min.   :    1             :   96             :   96  \n",
       " 1st Qu.: 5392   06/01/2018:21369   06/29/2018:21369  \n",
       " Median :10792                                        \n",
       " Mean   :10788                                        \n",
       " 3rd Qu.:16162                                        \n",
       " Max.   :21583                                        \n",
       " NA's   :96                                           \n",
       "                           CheckAmount_SpelledOut   CheckAmount   \n",
       " two thousand four hundred and 00/100 :11394      2,400.00:11394  \n",
       " one thousand two hundred and 00/100  : 2415      1,200.00: 2415  \n",
       " one thousand and 00/100              : 1756      1,000.00: 1756  \n",
       " one thousand three hundred and 00/100: 1310      1,300.00: 1310  \n",
       " two thousand two hundred and 00/100  : 1274      2,200.00: 1274  \n",
       " two thousand and 00/100              : 1272      2,000.00: 1272  \n",
       " (Other)                              : 2044      (Other) : 2044  \n",
       "  CheckNumber           AcctNum              AMT_ID         amt_finan1   \n",
       " Min.   :2.001e+09   Min.   :8.018e+09   Min.   :229.0   2,400.00:11394  \n",
       " 1st Qu.:2.003e+09   1st Qu.:2.080e+12   1st Qu.:599.0   1,200.00: 2415  \n",
       " Median :2.004e+09   Median :2.080e+12   Median :607.0   1,000.00: 1756  \n",
       " Mean   :2.186e+09   Mean   :1.648e+12   Mean   :584.2   1,300.00: 1310  \n",
       " 3rd Qu.:2.007e+09   3rd Qu.:2.080e+12   3rd Qu.:623.0   2,200.00: 1274  \n",
       " Max.   :3.008e+09   Max.   :2.080e+12   Max.   :624.0   2,000.00: 1272  \n",
       " NA's   :96          NA's   :96          NA's   :96      (Other) : 2044  \n",
       "      Apr1         pmt_amt_1        num_pmt_1        fin_chg_1   \n",
       " Min.   :30.85   Min.   : 98.96   Min.   :13.00   913.42  :7485  \n",
       " 1st Qu.:33.11   1st Qu.:117.09   1st Qu.:15.00   2,011.79:2198  \n",
       " Median :35.99   Median :126.90   Median :24.00   522.17  :1756  \n",
       " Mean   :44.09   Mean   :125.42   Mean   :22.94   1,307.90:1407  \n",
       " 3rd Qu.:48.11   3rd Qu.:138.06   3rd Qu.:24.00   833.00  :1310  \n",
       " Max.   :79.45   Max.   :141.99   Max.   :36.00   945.19  :1274  \n",
       " NA's   :96      NA's   :96       NA's   :96      (Other) :6035  \n",
       "    tot_pmt_1        amt_given1      Lproc_fee1       Acq_chg_1    \n",
       " 3,313.42:7485   $2,400.00:11392   Min.   : 25.00   Min.   :100.0  \n",
       " 4,411.79:2198   $1,200.00: 2417   1st Qu.: 25.00   1st Qu.:100.0  \n",
       " 1,522.17:1756   $1,000.00: 1755   Median : 40.00   Median :100.0  \n",
       " 3,707.90:1407   $1,300.00: 1310   Mean   : 44.13   Mean   :124.7  \n",
       " 2,133.00:1310   $2,200.00: 1274   3rd Qu.: 40.00   3rd Qu.:141.0  \n",
       " 3,145.19:1274   $2,000.00: 1273   Max.   :120.00   Max.   :200.0  \n",
       " (Other) :6035   (Other)  : 2044   NA's   :18389    NA's   :15613  \n",
       "   InHandChg1    PrepaidFinChg     IntSurchgLen   Int_to_Lender  \n",
       " Min.   :352.5   Min.   : 92.21   Min.   :120     Min.   :753.2  \n",
       " 1st Qu.:389.8   1st Qu.:100.00   1st Qu.:120     1st Qu.:813.4  \n",
       " Median :422.2   Median :100.00   Median :120     Median :813.4  \n",
       " Mean   :503.6   Mean   :100.06   Mean   :120     Mean   :804.7  \n",
       " 3rd Qu.:639.8   3rd Qu.:100.00   3rd Qu.:120     3rd Qu.:813.4  \n",
       " Max.   :733.0   Max.   :113.15   Max.   :120     Max.   :813.4  \n",
       " NA's   :15613   NA's   :13823    NA's   :20191   NA's   :12706  \n",
       "   MntFeeToL1     Mo_InHandChg     FaceAmtLoan       LoanFee8    \n",
       " Min.   :45.00   Min.   :23.50           :   96   Min.   :48     \n",
       " 1st Qu.:72.00   1st Qu.:23.50           :21212   1st Qu.:48     \n",
       " Median :72.00   Median :23.50   1,705.35:   77   Median :48     \n",
       " Mean   :69.37   Mean   :23.72   2,228.87:   80   Mean   :48     \n",
       " 3rd Qu.:72.00   3rd Qu.:23.50                    3rd Qu.:48     \n",
       " Max.   :72.00   Max.   :24.50                    Max.   :48     \n",
       " NA's   :20034   NA's   :20326                    NA's   :21308  \n",
       "    LoanFee4     Effective_rate     Principle     NumPmts_exceptLast\n",
       " Min.   :44.21   Min.   :10.00           :   96   Min.   :14.0      \n",
       " 1st Qu.:44.21   1st Qu.:29.72           :20812   1st Qu.:14.0      \n",
       " Median :65.15   Median :29.92   1,260.00:  253   Median :23.0      \n",
       " Mean   :54.88   Mean   :37.44   2,520.00:  304   Mean   :24.6      \n",
       " 3rd Qu.:65.15   3rd Qu.:44.99                    3rd Qu.:35.0      \n",
       " Max.   :65.15   Max.   :64.99                    Max.   :35.0      \n",
       " NA's   :21308   NA's   :96                       NA's   :17668     \n",
       " LastPmtAmount     BranchNumber             BranchCompany  \n",
       " Min.   : 99.02   Min.   : 101.0                   :   96  \n",
       " 1st Qu.: 99.02   1st Qu.: 524.0   Regional Finance:21369  \n",
       " Median :102.90   Median : 567.0                           \n",
       " Mean   :105.75   Mean   : 598.8                           \n",
       " 3rd Qu.:107.54   3rd Qu.: 702.0                           \n",
       " Max.   :127.98   Max.   :1217.0                           \n",
       " NA's   :17668    NA's   :96                               \n",
       "                          BranchStreetAddress       BranchCity   \n",
       " 1420 FM 1960 Bypass Rd E, Suite 118:  231    San Antonio: 1377  \n",
       " 1121 SW Military Drive, Suite 103  :  227    Houston    : 1049  \n",
       " 3719 N. Fry Road, Suite O          :  225    El Paso    :  706  \n",
       " 459 Uvalde Road                    :  225    Austin     :  456  \n",
       " 1703 Shaver Street                 :  224    Pasadena   :  443  \n",
       " 5015 FM 2920 Road, Suite B         :  223    Spring     :  381  \n",
       " (Other)                            :20110    (Other)    :17053  \n",
       "  BranchState         BranchZip             BranchPhone   \n",
       " TX     :10551   77338-3934:  231   (281) 540-0302:  231  \n",
       " SC     : 2804   78221-1672:  227   (210) 924-2220:  227  \n",
       " NC     : 2519   77015-3717:  225   (281) 646-1082:  225  \n",
       " AL     : 1882   77449-6740:  225   (832) 623-7068:  225  \n",
       " OK     : 1139   77502-2027:  224   (832) 786-3844:  224  \n",
       " TN     : 1039   77388-3114:  223   (281) 528-1038:  223  \n",
       " (Other): 1531   (Other)   :20110   (Other)       :20110  \n",
       "          BranchFax              BranchManager          BranchSupervisor\n",
       " (281) 612-1952:  231   Ernest Menefee  :  231   Sandra Lopez   : 1525  \n",
       " (210) 417-4208:  227   George Silva    :  227   Darla Donica   : 1410  \n",
       " (832) 404-6426:  225   Fannie Garza    :  225   Nellie Carrillo: 1200  \n",
       " (832) 699-7697:  225   Lisa Forrest    :  225   Nick Miaoulis  : 1181  \n",
       " (832) 559-0679:  224   Crystal Martinez:  224   Joe Gandaria   : 1147  \n",
       " (281) 668-7188:  223   Ingrid Zelaya   :  223                  : 1139  \n",
       " (Other)       :20110   (Other)         :20110   (Other)        :13863  \n",
       "         BranchStateVP  Distance_to_Branch            campaign_id   \n",
       "                :  96   Min.   :  0.000                     :   96  \n",
       " Heather Meares :2039   1st Qu.:  2.738    FB_6.0_2018CC    :17482  \n",
       " Kenny Haynes   :3558   Median :  5.225    RetailXS_6.0_2018: 3887  \n",
       " Lee Wright     : 557   Mean   :  8.792                             \n",
       " Michael Johnson:9395   3rd Qu.:  9.758                             \n",
       " Pedro Mariscal :3016   Max.   :651.331                             \n",
       " Scott Juvelier :2804   NA's   :96                                  \n",
       "      DOB           Made_Unmade    MLA_Status    AMT_ID.1    \n",
       " Min.   :19100206         :   96    :   96    Min.   :229.0  \n",
       " 1st Qu.:19580502         :17482   N:21369    1st Qu.:599.0  \n",
       " Median :19690511   MADE  : 1686              Median :607.0  \n",
       " Mean   :19688060   UNMADE: 2201              Mean   :584.2  \n",
       " 3rd Qu.:19810316                             3rd Qu.:623.0  \n",
       " Max.   :20170830                             Max.   :624.0  \n",
       " NA's   :96                                   NA's   :96     \n",
       "   ConProfile              BrAcctNo         CifNo          MGC         \n",
       " Min.   :1.000e+10             :   96   Min.   :  1609   Mode:logical  \n",
       " 1st Qu.:1.000e+12   0101037718:    1   1st Qu.:324764   NA's:21465    \n",
       " Median :1.000e+12   0101037720:    1   Median :541553                 \n",
       " Mean   :9.977e+11   0101037830:    1   Mean   :522414                 \n",
       " 3rd Qu.:1.000e+12   0101037838:    1   3rd Qu.:703796                 \n",
       " Max.   :1.000e+12   0101038033:    1   Max.   :999959                 \n",
       " NA's   :19779       (Other)   :21364   NA's   :2297                   \n",
       " Month_Split      FNAME           MNAME             LNAME      \n",
       "     :   96   MARIA  :  286          :21179   GARCIA   :  206  \n",
       " EVEN: 1310   JAMES  :  258          :   96   SMITH    :  183  \n",
       " ODD :20059   MICHAEL:  233   A      :   17   MARTINEZ :  178  \n",
       "              DAVID  :  228   M      :   12   HERNANDEZ:  173  \n",
       "              JOSE   :  210   L      :   11   RODRIGUEZ:  168  \n",
       "              ROBERT :  204   D      :   10   WILLIAMS :  159  \n",
       "              (Other):20046   (Other):  140   (Other)  :20398  \n",
       "    amt_given1.1   Fico_Range_25pt  State1        Test_Code     \n",
       " $2,400.00:11392   625-649:5270    Mode:logical   Mode:logical  \n",
       " $1,200.00: 2417   650-674:4191    NA's:21465     NA's:21465    \n",
       " $1,000.00: 1755   600-624:3520                                 \n",
       " $1,300.00: 1310   575-599:2234                                 \n",
       " $2,200.00: 1274   675-699:2084                                 \n",
       " $2,000.00: 1273   550-574:1250                                 \n",
       " (Other)  : 2044   (Other):2916                                 \n",
       "       POffDate          fico                 Phone            CellPhone    \n",
       "           : 3887   Min.   :  0.0                : 7778   ()-       :17778  \n",
       " 2018-05-01:  250   1st Qu.:607.0                :   96             :  903  \n",
       " 2018-02-22:  245   Median :637.0   (111)111-1111:   13             :   96  \n",
       " 2018-05-07:  222   Mean   :638.5   (999)999-9999:   10   0000000000:    9  \n",
       " 2018-05-03:  216   3rd Qu.:666.0   (205)629-7364:    2   8326431466:    2  \n",
       " 2018-05-04:  206   Max.   :999.0   (210)923-2047:    2   8328601733:    2  \n",
       " (Other)   :16439   NA's   :105     (Other)      :13564   (Other)   : 2675  \n",
       "    X          \n",
       " Mode:logical  \n",
       " NA's:21465    \n",
       "               \n",
       "               \n",
       "               \n",
       "               \n",
       "               "
      ]
     },
     "metadata": {},
     "output_type": "display_data"
    }
   ],
   "source": [
    "str(mb_fb_xsell_cc_0618)\n",
    "summary(mb_fb_xsell_cc_0618)"
   ]
  },
  {
   "cell_type": "markdown",
   "metadata": {},
   "source": [
    "Subset for XSELL and FBCC(Monthly)"
   ]
  },
  {
   "cell_type": "code",
   "execution_count": 120,
   "metadata": {},
   "outputs": [],
   "source": [
    "mb_fb_cc_0618 <- sqldf(\n",
    "   \"\n",
    "   SELECT * \n",
    "   FROM mb_fb_xsell_cc_0618 \n",
    "   WHERE FILECODE IN ('FB')\n",
    "   \"\n",
    "   )"
   ]
  },
  {
   "cell_type": "code",
   "execution_count": 121,
   "metadata": {},
   "outputs": [
    {
     "data": {
      "text/html": [
       "<ol class=list-inline>\n",
       "\t<li>17565</li>\n",
       "\t<li>75</li>\n",
       "</ol>\n"
      ],
      "text/latex": [
       "\\begin{enumerate*}\n",
       "\\item 17565\n",
       "\\item 75\n",
       "\\end{enumerate*}\n"
      ],
      "text/markdown": [
       "1. 17565\n",
       "2. 75\n",
       "\n",
       "\n"
      ],
      "text/plain": [
       "[1] 17565    75"
      ]
     },
     "metadata": {},
     "output_type": "display_data"
    }
   ],
   "source": [
    "dim(mb_fb_cc_0618)"
   ]
  },
  {
   "cell_type": "code",
   "execution_count": 122,
   "metadata": {},
   "outputs": [
    {
     "name": "stdout",
     "output_type": "stream",
     "text": [
      "'data.frame':\t17565 obs. of  75 variables:\n",
      " $ FILECODE              : Factor w/ 2 levels \"FB\",\"XS\": 1 1 1 1 1 1 1 1 1 1 ...\n",
      " $ BATCH                 : Factor w/ 8 levels \"A\",\"D\",\"E\",\"PA\",..: 1 1 1 1 1 1 1 1 1 1 ...\n",
      " $ LETTERCD              : Factor w/ 19 levels \"ALL\",\"ALS\",\"ARL\",..: 6 6 6 6 6 6 6 6 6 6 ...\n",
      " $ SS7                   : int  6259809 7707207 9046513 3964833 984839 7113163 820985 8806479 2609055 1689683 ...\n",
      " $ NAME1                 : Factor w/ 20786 levels \".shauna Ingram\",..: 11996 5970 4386 2910 2155 1758 18313 10438 9666 10067 ...\n",
      " $ ADDR2                 : Factor w/ 182 levels \"\",\" \",\"\\\"carlos\\\"\",..: 2 2 2 2 2 2 2 2 2 2 ...\n",
      " $ STREET                : Factor w/ 21191 levels \"\",\"1 Berwick Ct.\",..: 2773 17091 17499 17493 19871 12977 11465 13254 1960 2693 ...\n",
      " $ CITY                  : Factor w/ 1857 levels \"\",\"Abbeville\",..: 1443 97 172 320 567 567 706 706 706 706 ...\n",
      " $ STATE                 : Factor w/ 10 levels \"\",\"AL\",\"GA\",\"NC\",..: 4 4 4 4 4 4 4 4 4 4 ...\n",
      " $ ZIP5                  : int  27803 27807 27814 27817 27828 27828 27834 27834 27834 27834 ...\n",
      " $ ZIP4                  : int  2107 9086 9668 9111 9612 9697 2162 3888 4603 5083 ...\n",
      " $ QSEQNUM               : int  1 2 3 4 5 6 7 8 9 10 ...\n",
      " $ Drop_Date             : Factor w/ 2 levels \"\",\"06/01/2018\": 2 2 2 2 2 2 2 2 2 2 ...\n",
      " $ Closed_Date           : Factor w/ 2 levels \"\",\"06/29/2018\": 2 2 2 2 2 2 2 2 2 2 ...\n",
      " $ CheckAmount_SpelledOut: Factor w/ 11 levels \"\",\"one thousand and 00/100\",..: 7 10 7 7 7 10 10 7 7 7 ...\n",
      " $ CheckAmount           : Factor w/ 11 levels \"\",\"1,000.00\",..: 3 11 3 3 3 11 11 3 3 3 ...\n",
      " $ CheckNumber           : num  2e+09 2e+09 2e+09 2e+09 2e+09 ...\n",
      " $ AcctNum               : num  2.08e+12 2.08e+12 2.08e+12 2.08e+12 2.08e+12 ...\n",
      " $ AMT_ID                : int  599 600 599 599 599 600 600 599 599 599 ...\n",
      " $ amt_finan1            : Factor w/ 11 levels \"\",\"1,000.00\",..: 3 11 3 3 3 11 11 3 3 3 ...\n",
      " $ Apr1                  : num  33.4 30.9 33.4 33.4 33.4 ...\n",
      " $ pmt_amt_1             : num  99 103 99 99 99 ...\n",
      " $ num_pmt_1             : int  15 36 15 15 15 36 36 15 15 15 ...\n",
      " $ fin_chg_1             : Factor w/ 23 levels \"\",\"1,067.92\",..: 6 3 6 6 6 3 3 6 6 6 ...\n",
      " $ tot_pmt_1             : Factor w/ 23 levels \"\",\"1,484.46\",..: 2 21 2 2 2 21 21 2 2 2 ...\n",
      " $ amt_given1            : Factor w/ 11 levels \"\",\"$1,000.00\",..: 3 11 3 3 3 11 11 3 3 3 ...\n",
      " $ Lproc_fee1            : num  25 40 25 25 25 40 40 25 25 25 ...\n",
      " $ Acq_chg_1             : num  NA NA NA NA NA NA NA NA NA NA ...\n",
      " $ InHandChg1            : num  NA NA NA NA NA NA NA NA NA NA ...\n",
      " $ PrepaidFinChg         : num  NA NA NA NA NA NA NA NA NA NA ...\n",
      " $ IntSurchgLen          : num  NA NA NA NA NA NA NA NA NA NA ...\n",
      " $ Int_to_Lender         : num  NA NA NA NA NA NA NA NA NA NA ...\n",
      " $ MntFeeToL1            : num  NA NA NA NA NA NA NA NA NA NA ...\n",
      " $ Mo_InHandChg          : num  NA NA NA NA NA NA NA NA NA NA ...\n",
      " $ FaceAmtLoan           : Factor w/ 4 levels \"\",\" \",\"1,705.35\",..: 2 2 2 2 2 2 2 2 2 2 ...\n",
      " $ LoanFee8              : num  NA NA NA NA NA NA NA NA NA NA ...\n",
      " $ LoanFee4              : num  NA NA NA NA NA NA NA NA NA NA ...\n",
      " $ Effective_rate        : num  29.9 29.5 29.9 29.9 29.9 ...\n",
      " $ Principle             : Factor w/ 4 levels \"\",\" \",\"1,260.00\",..: 2 2 2 2 2 2 2 2 2 2 ...\n",
      " $ NumPmts_exceptLast    : int  14 35 14 14 14 35 35 14 14 14 ...\n",
      " $ LastPmtAmount         : num  99 103 99 99 99 ...\n",
      " $ BranchNumber          : int  684 669 684 684 684 684 684 684 684 684 ...\n",
      " $ BranchCompany         : Factor w/ 2 levels \"\",\"Regional Finance\": 2 2 2 2 2 2 2 2 2 2 ...\n",
      " $ BranchStreetAddress   : Factor w/ 342 levels \"\",\"100 Forum Drive, Suite 4\",..: 239 98 239 239 239 239 239 239 239 239 ...\n",
      " $ BranchCity            : Factor w/ 262 levels \"\",\"Abilene\",\"Abingdon\",..: 107 200 107 107 107 107 107 107 107 107 ...\n",
      " $ BranchState           : Factor w/ 10 levels \"\",\"AL\",\"GA\",\"NC\",..: 4 4 4 4 4 4 4 4 4 4 ...\n",
      " $ BranchZip             : Factor w/ 342 levels \"\",\"20110-1700\",..: 35 32 35 35 35 35 35 35 35 35 ...\n",
      " $ BranchPhone           : Factor w/ 342 levels \"\",\" \",\"(205) 227-0090\",..: 34 316 34 34 34 34 34 34 34 34 ...\n",
      " $ BranchFax             : Factor w/ 342 levels \"\",\" \",\"(205) 210-4965\",..: 33 320 33 33 33 33 33 33 33 33 ...\n",
      " $ BranchManager         : Factor w/ 338 levels \"\",\" \",\"Aaron Balls\",..: 284 196 284 284 284 284 284 284 284 284 ...\n",
      " $ BranchSupervisor      : Factor w/ 39 levels \"\",\" \",\"Andrew Ivy\",..: 5 5 5 5 5 5 5 5 5 5 ...\n",
      " $ BranchStateVP         : Factor w/ 7 levels \"\",\"Heather Meares\",..: 3 3 3 3 3 3 3 3 3 3 ...\n",
      " $ Distance_to_Branch    : num  33.4 28.3 31.2 15.4 10.8 ...\n",
      " $ campaign_id           : Factor w/ 3 levels \"\",\"FB_6.0_2018CC\",..: 2 2 2 2 2 2 2 2 2 2 ...\n",
      " $ DOB                   : int  19720718 19840404 19580505 19550515 19610822 19551220 19520131 19480208 19390609 19480825 ...\n",
      " $ Made_Unmade           : Factor w/ 4 levels \"\",\" \",\"MADE\",..: 2 2 2 2 2 2 2 2 2 2 ...\n",
      " $ MLA_Status            : Factor w/ 2 levels \"\",\"N\": 2 2 2 2 2 2 2 2 2 2 ...\n",
      " $ AMT_ID.1              : int  599 600 599 599 599 600 600 599 599 599 ...\n",
      " $ ConProfile            : num  NA NA NA NA NA NA NA NA NA NA ...\n",
      " $ BrAcctNo              : Factor w/ 21370 levels \"\",\"0101037718\",..: 12114 11727 12115 12116 12121 17060 12132 16680 12110 17126 ...\n",
      " $ CifNo                 : int  208408 177452 208722 208209 208814 708191 207928 242658 208080 723665 ...\n",
      " $ MGC                   : logi  NA NA NA NA NA NA ...\n",
      " $ Month_Split           : Factor w/ 3 levels \"\",\"EVEN\",\"ODD\": 3 3 3 3 3 3 3 3 3 3 ...\n",
      " $ FNAME                 : Factor w/ 5188 levels \"\",\".SHAUNA\",\"AARHYON\",..: 2935 1514 1112 755 559 472 4459 2476 2383 2439 ...\n",
      " $ MNAME                 : Factor w/ 104 levels \"\",\" \",\"a\",\"A\",..: 2 2 2 2 2 2 2 2 2 2 ...\n",
      " $ LNAME                 : Factor w/ 8140 levels \"\",\"AARON\",\"ABASTA\",..: 5248 2746 959 4234 5135 6780 3523 7940 7518 1635 ...\n",
      " $ amt_given1.1          : Factor w/ 11 levels \"\",\"$1,000.00\",..: 3 11 3 3 3 11 11 3 3 3 ...\n",
      " $ Fico_Range_25pt       : Factor w/ 20 levels \"\",\" \",\"<500\",..: 10 10 9 10 10 11 11 7 8 9 ...\n",
      " $ State1                : logi  NA NA NA NA NA NA ...\n",
      " $ Test_Code             : logi  NA NA NA NA NA NA ...\n",
      " $ POffDate              : Factor w/ 398 levels \"\",\" \",\"2017-02-11\",..: 83 135 156 157 216 278 294 387 111 325 ...\n",
      " $ fico                  : int  629 647 616 640 625 674 658 573 593 609 ...\n",
      " $ Phone                 : Factor w/ 13544 levels \"\",\" \",\"(000)366-8770\",..: 2 1046 2 2 2 2 1055 2 2 2 ...\n",
      " $ CellPhone             : Factor w/ 2680 levels \"\",\" \",\"()-\",\"0000000000\",..: 3 3 3 3 3 3 3 3 3 3 ...\n",
      " $ X                     : logi  NA NA NA NA NA NA ...\n"
     ]
    },
    {
     "data": {
      "text/plain": [
       " FILECODE       BATCH         LETTERCD         SS7         \n",
       " FB:17565   A      :7133   TXL    :5240   Min.   :  11859  \n",
       " XS:    0   E      :5330   SC     :2754   1st Qu.:2311903  \n",
       "            PA     :2165   NC     :2435   Median :4989345  \n",
       "            PE     :1677   TX     :1767   Mean   :4978096  \n",
       "            D      : 539   ALL    :1273   3rd Qu.:7603375  \n",
       "            V      : 433   OK     :1041   Max.   :9999613  \n",
       "            (Other): 288   (Other):3055                    \n",
       "             NAME1           ADDR2                STREET     \n",
       " Jose Hernandez :   10          :17369               :   10  \n",
       " Maria Hernandez:    9   Rd.    :    8   P.O. Box 12 :    3  \n",
       " Maria Reyes    :    8   NE     :    4   P.O. Box 43 :    3  \n",
       " Maria Rodriguez:    7   Dr.    :    3   P.O. Box 44 :    3  \n",
       " Jose Garcia    :    5   Lane   :    3   P.O. Box 681:    3  \n",
       " Jose Perez     :    5   SW     :    3   P.O. Box 903:    3  \n",
       " (Other)        :17521   (Other):  175   (Other)     :17540  \n",
       "          CITY           STATE           ZIP5            ZIP4     \n",
       " Houston    :  897   TX     :6964   Min.   :20105   Min.   :   2  \n",
       " San Antonio:  706   SC     :2741   1st Qu.:29501   1st Qu.:2728  \n",
       " El Paso    :  594   NC     :2428   Median :38556   Median :4511  \n",
       " Charlotte  :  262   AL     :1870   Mean   :54383   Mean   :4833  \n",
       " Albuquerque:  215   OK     :1041   3rd Qu.:77571   3rd Qu.:6850  \n",
       " Fort Worth :  205   TN     :1027   Max.   :88352   Max.   :9924  \n",
       " (Other)    :14686   (Other):1494   NA's   :83      NA's   :85    \n",
       "    QSEQNUM           Drop_Date         Closed_Date   \n",
       " Min.   :    1             :   83             :   83  \n",
       " 1st Qu.: 4536   06/01/2018:17482   06/29/2018:17482  \n",
       " Median : 9400                                        \n",
       " Mean   :10256                                        \n",
       " 3rd Qu.:16298                                        \n",
       " Max.   :21583                                        \n",
       " NA's   :83                                           \n",
       "                              CheckAmount_SpelledOut   CheckAmount  \n",
       " two thousand four hundred and 00/100    :9056       2,400.00:9056  \n",
       " one thousand two hundred and 00/100     :2298       1,200.00:2298  \n",
       " one thousand and 00/100                 :1756       1,000.00:1756  \n",
       " two thousand two hundred and 00/100     :1268       2,200.00:1268  \n",
       " two thousand and 00/100                 :1252       2,000.00:1252  \n",
       " one thousand four hundred ten and 00/100: 854       1,410.00: 854  \n",
       " (Other)                                 :1081       (Other) :1081  \n",
       "  CheckNumber           AcctNum              AMT_ID         amt_finan1  \n",
       " Min.   :2.001e+09   Min.   :8.018e+09   Min.   :229.0   2,400.00:9056  \n",
       " 1st Qu.:2.003e+09   1st Qu.:2.080e+12   1st Qu.:586.0   1,200.00:2298  \n",
       " Median :2.003e+09   Median :2.080e+12   Median :603.0   1,000.00:1756  \n",
       " Mean   :2.004e+09   Mean   :1.568e+12   Mean   :578.2   2,200.00:1268  \n",
       " 3rd Qu.:2.005e+09   3rd Qu.:2.080e+12   3rd Qu.:623.0   2,000.00:1252  \n",
       " Max.   :2.009e+09   Max.   :2.080e+12   Max.   :623.0   1,410.00: 854  \n",
       " NA's   :83          NA's   :83          NA's   :83      (Other) :1081  \n",
       "      Apr1         pmt_amt_1        num_pmt_1        fin_chg_1   \n",
       " Min.   :30.85   Min.   : 98.96   Min.   :13.00   913.42  :5208  \n",
       " 1st Qu.:33.11   1st Qu.:117.09   1st Qu.:15.00   2,011.79:2171  \n",
       " Median :36.98   Median :122.56   Median :24.00   522.17  :1756  \n",
       " Mean   :43.57   Mean   :124.45   Mean   :23.23   1,307.90:1373  \n",
       " 3rd Qu.:48.11   3rd Qu.:138.06   3rd Qu.:24.00   945.19  :1268  \n",
       " Max.   :79.45   Max.   :141.99   Max.   :36.00   284.46  :1055  \n",
       " NA's   :83      NA's   :83       NA's   :83      (Other) :4734  \n",
       "    tot_pmt_1        amt_given1     Lproc_fee1       Acq_chg_1    \n",
       " 3,313.42:5208   $2,400.00:9054   Min.   : 25.00   Min.   :100.0  \n",
       " 4,411.79:2171   $1,200.00:2300   1st Qu.: 25.00   1st Qu.:100.0  \n",
       " 1,522.17:1756   $1,000.00:1755   Median : 40.00   Median :127.5  \n",
       " 3,707.90:1373   $2,200.00:1268   Mean   : 44.54   Mean   :131.8  \n",
       " 3,145.19:1268   $2,000.00:1253   3rd Qu.: 40.00   3rd Qu.:141.0  \n",
       " 1,484.46:1055   $1,410.00: 856   Max.   :120.00   Max.   :200.0  \n",
       " (Other) :4734   (Other)  :1079   NA's   :14580    NA's   :13139  \n",
       "   InHandChg1    PrepaidFinChg     IntSurchgLen   Int_to_Lender  \n",
       " Min.   :352.5   Min.   : 92.21   Min.   :120     Min.   :753.2  \n",
       " 1st Qu.:389.8   1st Qu.:100.00   1st Qu.:120     1st Qu.:813.4  \n",
       " Median :422.2   Median :100.00   Median :120     Median :813.4  \n",
       " Mean   :439.0   Mean   :100.08   Mean   :120     Mean   :801.6  \n",
       " 3rd Qu.:422.2   3rd Qu.:100.00   3rd Qu.:120     3rd Qu.:813.4  \n",
       " Max.   :639.8   Max.   :113.15   Max.   :120     Max.   :813.4  \n",
       " NA's   :13139   NA's   :12200    NA's   :16297   NA's   :11089  \n",
       "   MntFeeToL1     Mo_InHandChg     FaceAmtLoan       LoanFee8    \n",
       " Min.   :45.00   Min.   :23.50           :   83   Min.   :48     \n",
       " 1st Qu.:72.00   1st Qu.:23.50           :17325   1st Qu.:48     \n",
       " Median :72.00   Median :23.50   1,705.35:   77   Median :48     \n",
       " Mean   :69.36   Mean   :23.68   2,228.87:   80   Mean   :48     \n",
       " 3rd Qu.:72.00   3rd Qu.:23.50                    3rd Qu.:48     \n",
       " Max.   :72.00   Max.   :24.50                    Max.   :48     \n",
       " NA's   :16140   NA's   :16524                    NA's   :17408  \n",
       "    LoanFee4     Effective_rate     Principle     NumPmts_exceptLast\n",
       " Min.   :44.21   Min.   :10.00           :   83   Min.   :14.0      \n",
       " 1st Qu.:44.21   1st Qu.:29.72           :16925   1st Qu.:14.0      \n",
       " Median :65.15   Median :29.92   1,260.00:  253   Median :23.0      \n",
       " Mean   :54.88   Mean   :36.88   2,520.00:  304   Mean   :24.7      \n",
       " 3rd Qu.:65.15   3rd Qu.:44.99                    3rd Qu.:35.0      \n",
       " Max.   :65.15   Max.   :64.99                    Max.   :35.0      \n",
       " NA's   :17408   NA's   :83                       NA's   :13883     \n",
       " LastPmtAmount     BranchNumber             BranchCompany  \n",
       " Min.   : 99.02   Min.   : 101.0                   :   83  \n",
       " 1st Qu.: 99.02   1st Qu.: 520.0   Regional Finance:17482  \n",
       " Median :102.90   Median : 575.0                           \n",
       " Mean   :105.74   Mean   : 607.3                           \n",
       " 3rd Qu.:107.54   3rd Qu.: 721.0                           \n",
       " Max.   :127.83   Max.   :1217.0                           \n",
       " NA's   :13883    NA's   :83                               \n",
       "                        BranchStreetAddress       BranchCity     BranchState  \n",
       " 1703 Shaver Street               :  161    San Antonio:  797   TX     :6964  \n",
       " 1121 SW Military Drive, Suite 103:  145    Houston    :  610   SC     :2741  \n",
       " 3910 Fairmont Parkway, Suite D   :  140    El Paso    :  579   NC     :2428  \n",
       " 1015 S. Mays Street, Suite 101   :  136    Pasadena   :  301   AL     :1870  \n",
       " 14145 Nacogdoches Road, Suite 1  :  122    Columbia   :  270   OK     :1041  \n",
       " 459 Uvalde Road                  :  122    Austin     :  269   TN     :1027  \n",
       " (Other)                          :16739    (Other)    :14739   (Other):1494  \n",
       "      BranchZip             BranchPhone             BranchFax    \n",
       " 77502-2027:  161   (832) 786-3844:  161   (832) 559-0679:  161  \n",
       " 78221-1672:  145   (210) 924-2220:  145   (210) 417-4208:  145  \n",
       " 77504-3066:  140   (281) 487-3529:  140   (281) 305-2747:  140  \n",
       " 78664-6745:  136   (512) 865-4142:  136   (512) 253-7174:  136  \n",
       " 77015-3717:  122   (210) 655-7800:  122   (210) 802-0322:  122  \n",
       " 78247-1931:  122   (832) 623-7068:  122   (832) 699-7697:  122  \n",
       " (Other)   :16739   (Other)       :16739   (Other)       :16739  \n",
       "           BranchManager          BranchSupervisor         BranchStateVP \n",
       " Crystal Martinez :  161                  : 1127                  :  83  \n",
       "                  :  157   Sandra Lopez   :  890   Heather Meares :2027  \n",
       " George Silva     :  145   Nellie Carrillo:  784   Kenny Haynes   :3455  \n",
       " Maritza Manriquez:  140   Darla Donica   :  761   Lee Wright     : 557  \n",
       " Rachel Pereyra   :  136   Nick Miaoulis  :  745   Michael Johnson:6052  \n",
       " Fannie Garza     :  122   Joe Gandaria   :  677   Pedro Mariscal :2650  \n",
       " (Other)          :16704   (Other)        :12581   Scott Juvelier :2741  \n",
       " Distance_to_Branch            campaign_id         DOB           Made_Unmade   \n",
       " Min.   :  0.000                     :   83   Min.   :19100206         :   83  \n",
       " 1st Qu.:  2.763    FB_6.0_2018CC    :17482   1st Qu.:19561111         :17482  \n",
       " Median :  5.392    RetailXS_6.0_2018:    0   Median :19670504   MADE  :    0  \n",
       " Mean   :  8.952                              Mean   :19672126   UNMADE:    0  \n",
       " 3rd Qu.: 10.363                              3rd Qu.:19790107                 \n",
       " Max.   :651.331                              Max.   :19980205                 \n",
       " NA's   :83                                   NA's   :83                       \n",
       " MLA_Status    AMT_ID.1       ConProfile          BrAcctNo         CifNo       \n",
       "  :   83    Min.   :229.0   Min.   : NA               :   83   Min.   :  1609  \n",
       " N:17482    1st Qu.:586.0   1st Qu.: NA     0101037718:    1   1st Qu.:310530  \n",
       "            Median :603.0   Median : NA     0101037720:    1   Median :511140  \n",
       "            Mean   :578.2   Mean   :NaN     0101037830:    1   Mean   :504493  \n",
       "            3rd Qu.:623.0   3rd Qu.: NA     0101037838:    1   3rd Qu.:687424  \n",
       "            Max.   :623.0   Max.   : NA     0101038033:    1   Max.   :999959  \n",
       "            NA's   :83      NA's   :17565   (Other)   :17477   NA's   :83      \n",
       "   MGC          Month_Split      FNAME           MNAME             LNAME      \n",
       " Mode:logical       :   83   MARIA  :  244          :17480   SMITH    :  163  \n",
       " NA's:17565     EVEN: 1310   JAMES  :  237          :   83   GARCIA   :  146  \n",
       "                ODD :16172   DAVID  :  206   ANN    :    1   WILLIAMS :  146  \n",
       "                             MICHAEL:  201   ESTAR  :    1   HERNANDEZ:  144  \n",
       "                             ROBERT :  183   a      :    0   MARTINEZ :  134  \n",
       "                             JOSE   :  175   A      :    0   RODRIGUEZ:  128  \n",
       "                             (Other):16319   (Other):    0   (Other)  :16704  \n",
       "    amt_given1.1  Fico_Range_25pt  State1        Test_Code     \n",
       " $2,400.00:9054   625-649:3785    Mode:logical   Mode:logical  \n",
       " $1,200.00:2300   600-624:3520    NA's:17565     NA's:17565    \n",
       " $1,000.00:1755   650-674:3152                                 \n",
       " $2,200.00:1268   575-599:2234                                 \n",
       " $2,000.00:1253   675-699:1340                                 \n",
       " $1,410.00: 856   550-574:1250                                 \n",
       " (Other)  :1079   (Other):2284                                 \n",
       "       POffDate          fico                 Phone           CellPhone    \n",
       " 2018-05-01:  250   Min.   :  0.0                :7725   ()-       :17482  \n",
       " 2018-02-22:  245   1st Qu.:600.0                :  83             :   83  \n",
       " 2018-05-07:  222   Median :630.0   (111)111-1111:  13             :    0  \n",
       " 2018-05-03:  216   Mean   :632.7   (999)999-9999:  10   0000000000:    0  \n",
       " 2018-05-04:  206   3rd Qu.:660.0   (205)629-7364:   2   2013648328:    0  \n",
       " 2018-04-30:  205   Max.   :999.0   (210)923-2047:   2   2015876288:    0  \n",
       " (Other)   :16221   NA's   :92      (Other)      :9730   (Other)   :    0  \n",
       "    X          \n",
       " Mode:logical  \n",
       " NA's:17565    \n",
       "               \n",
       "               \n",
       "               \n",
       "               \n",
       "               "
      ]
     },
     "metadata": {},
     "output_type": "display_data"
    }
   ],
   "source": [
    "str(mb_fb_cc_0618)\n",
    "summary(mb_fb_cc_0618)"
   ]
  },
  {
   "cell_type": "code",
   "execution_count": 123,
   "metadata": {},
   "outputs": [],
   "source": [
    "mb_xsell_cc_0618 <- sqldf(\n",
    "   \"\n",
    "   SELECT * \n",
    "   FROM mb_fb_xsell_cc_0618 \n",
    "   WHERE FILECODE IN ('XS')\n",
    "   \"\n",
    "   )"
   ]
  },
  {
   "cell_type": "code",
   "execution_count": 124,
   "metadata": {},
   "outputs": [
    {
     "data": {
      "text/html": [
       "<ol class=list-inline>\n",
       "\t<li>3900</li>\n",
       "\t<li>75</li>\n",
       "</ol>\n"
      ],
      "text/latex": [
       "\\begin{enumerate*}\n",
       "\\item 3900\n",
       "\\item 75\n",
       "\\end{enumerate*}\n"
      ],
      "text/markdown": [
       "1. 3900\n",
       "2. 75\n",
       "\n",
       "\n"
      ],
      "text/plain": [
       "[1] 3900   75"
      ]
     },
     "metadata": {},
     "output_type": "display_data"
    }
   ],
   "source": [
    "dim(mb_xsell_cc_0618)"
   ]
  },
  {
   "cell_type": "code",
   "execution_count": 125,
   "metadata": {},
   "outputs": [
    {
     "name": "stdout",
     "output_type": "stream",
     "text": [
      "'data.frame':\t3900 obs. of  75 variables:\n",
      " $ FILECODE              : Factor w/ 2 levels \"FB\",\"XS\": 2 2 2 2 2 2 2 2 2 2 ...\n",
      " $ BATCH                 : Factor w/ 8 levels \"A\",\"D\",\"E\",\"PA\",..: 1 1 1 1 1 1 1 1 1 1 ...\n",
      " $ LETTERCD              : Factor w/ 19 levels \"ALL\",\"ALS\",\"ARL\",..: 12 12 12 12 14 14 7 7 7 7 ...\n",
      " $ SS7                   : int  911959 1192129 5588547 5743113 5450457 5479705 5514273 3834581 4350241 4660413 ...\n",
      " $ NAME1                 : Factor w/ 20786 levels \".shauna Ingram\",..: 20049 4697 14100 10751 1266 18336 15110 11472 2569 18112 ...\n",
      " $ ADDR2                 : Factor w/ 182 levels \"\",\" \",\"\\\"carlos\\\"\",..: 2 2 2 2 2 2 2 2 2 2 ...\n",
      " $ STREET                : Factor w/ 21191 levels \"\",\"1 Berwick Ct.\",..: 6438 15694 2645 14831 6533 18548 8697 98 18724 14356 ...\n",
      " $ CITY                  : Factor w/ 1857 levels \"\",\"Abbeville\",..: 13 691 1768 1828 1103 1103 1834 1834 1834 68 ...\n",
      " $ STATE                 : Factor w/ 10 levels \"\",\"AL\",\"GA\",\"NC\",..: 7 7 7 7 8 8 4 4 4 4 ...\n",
      " $ ZIP5                  : int  29805 29829 29851 29856 38114 38119 27105 27105 27107 27203 ...\n",
      " $ ZIP4                  : int  8341 2873 3652 2024 2108 9056 4936 7020 9755 6926 ...\n",
      " $ QSEQNUM               : int  125 153 184 195 349 353 568 574 602 620 ...\n",
      " $ Drop_Date             : Factor w/ 2 levels \"\",\"06/01/2018\": 2 2 2 2 2 2 2 2 2 2 ...\n",
      " $ Closed_Date           : Factor w/ 2 levels \"\",\"06/29/2018\": 2 2 2 2 2 2 2 2 2 2 ...\n",
      " $ CheckAmount_SpelledOut: Factor w/ 11 levels \"\",\"one thousand and 00/100\",..: 10 4 4 4 4 9 7 7 7 7 ...\n",
      " $ CheckAmount           : Factor w/ 11 levels \"\",\"1,000.00\",..: 11 6 6 6 6 9 3 3 3 3 ...\n",
      " $ CheckNumber           : num  3.00e+09 3.00e+09 3.00e+09 3.00e+09 3.01e+09 ...\n",
      " $ AcctNum               : num  2.08e+12 2.08e+12 2.08e+12 2.08e+12 2.08e+12 ...\n",
      " $ AMT_ID                : int  535 483 483 483 490 608 601 601 601 601 ...\n",
      " $ amt_finan1            : Factor w/ 11 levels \"\",\"1,000.00\",..: 11 6 6 6 6 9 3 3 3 3 ...\n",
      " $ Apr1                  : num  45 53 53 53 51.7 ...\n",
      " $ pmt_amt_1             : num  123 130 130 130 129 ...\n",
      " $ num_pmt_1             : int  36 15 15 15 15 20 15 15 15 15 ...\n",
      " $ fin_chg_1             : Factor w/ 23 levels \"\",\"1,067.92\",..: 5 18 18 18 17 21 6 6 6 6 ...\n",
      " $ tot_pmt_1             : Factor w/ 23 levels \"\",\"1,484.46\",..: 23 14 14 14 13 17 2 2 2 2 ...\n",
      " $ amt_given1            : Factor w/ 11 levels \"\",\"$1,000.00\",..: 11 6 6 6 6 9 3 3 3 3 ...\n",
      " $ Lproc_fee1            : num  NA NA NA NA NA NA 25 25 25 25 ...\n",
      " $ Acq_chg_1             : num  NA NA NA NA 140 200 NA NA NA NA ...\n",
      " $ InHandChg1            : num  NA NA NA NA 390 ...\n",
      " $ PrepaidFinChg         : num  NA NA NA NA NA NA NA NA NA NA ...\n",
      " $ IntSurchgLen          : num  NA NA NA NA NA NA NA NA NA NA ...\n",
      " $ Int_to_Lender         : num  NA NA NA NA NA NA NA NA NA NA ...\n",
      " $ MntFeeToL1            : num  NA NA NA NA NA NA NA NA NA NA ...\n",
      " $ Mo_InHandChg          : num  NA NA NA NA NA NA NA NA NA NA ...\n",
      " $ FaceAmtLoan           : Factor w/ 4 levels \"\",\" \",\"1,705.35\",..: 2 2 2 2 2 2 2 2 2 2 ...\n",
      " $ LoanFee8              : num  NA NA NA NA NA NA NA NA NA NA ...\n",
      " $ LoanFee4              : num  NA NA NA NA NA NA NA NA NA NA ...\n",
      " $ Effective_rate        : num  45 53 53 53 35.6 ...\n",
      " $ Principle             : Factor w/ 4 levels \"\",\" \",\"1,260.00\",..: 2 2 2 2 2 2 2 2 2 2 ...\n",
      " $ NumPmts_exceptLast    : int  NA NA NA NA NA NA 14 14 14 14 ...\n",
      " $ LastPmtAmount         : num  NA NA NA NA NA ...\n",
      " $ BranchNumber          : int  109 147 147 109 721 721 679 679 654 663 ...\n",
      " $ BranchCompany         : Factor w/ 2 levels \"\",\"Regional Finance\": 2 2 2 2 2 2 2 2 2 2 ...\n",
      " $ BranchStreetAddress   : Factor w/ 342 levels \"\",\"100 Forum Drive, Suite 4\",..: 79 226 226 79 309 309 167 167 122 61 ...\n",
      " $ BranchCity            : Factor w/ 262 levels \"\",\"Abilene\",\"Abingdon\",..: 5 182 182 5 162 162 259 259 117 20 ...\n",
      " $ BranchState           : Factor w/ 10 levels \"\",\"AL\",\"GA\",\"NC\",..: 7 7 7 7 8 8 4 4 4 4 ...\n",
      " $ BranchZip             : Factor w/ 342 levels \"\",\"20110-1700\",..: 117 120 120 117 193 193 20 20 24 22 ...\n",
      " $ BranchPhone           : Factor w/ 342 levels \"\",\" \",\"(205) 227-0090\",..: 202 188 188 202 280 280 83 83 88 86 ...\n",
      " $ BranchFax             : Factor w/ 342 levels \"\",\" \",\"(205) 210-4965\",..: 208 200 200 208 294 294 78 78 83 79 ...\n",
      " $ BranchManager         : Factor w/ 338 levels \"\",\" \",\"Aaron Balls\",..: 202 131 131 202 82 82 187 187 238 137 ...\n",
      " $ BranchSupervisor      : Factor w/ 39 levels \"\",\" \",\"Andrew Ivy\",..: 17 17 17 17 25 25 32 32 14 14 ...\n",
      " $ BranchStateVP         : Factor w/ 7 levels \"\",\"Heather Meares\",..: 7 7 7 7 3 3 3 3 3 3 ...\n",
      " $ Distance_to_Branch    : num  13.74 8.78 9.54 15.13 11.28 ...\n",
      " $ campaign_id           : Factor w/ 3 levels \"\",\"FB_6.0_2018CC\",..: 3 3 3 3 3 3 3 3 3 3 ...\n",
      " $ DOB                   : int  19930311 19630105 19390112 19940613 19840109 19690304 19601006 19960621 19651117 19810212 ...\n",
      " $ Made_Unmade           : Factor w/ 4 levels \"\",\" \",\"MADE\",..: 3 4 4 4 3 3 3 3 3 3 ...\n",
      " $ MLA_Status            : Factor w/ 2 levels \"\",\"N\": 2 2 2 2 2 2 2 2 2 2 ...\n",
      " $ AMT_ID.1              : int  535 483 483 483 490 608 601 601 601 601 ...\n",
      " $ ConProfile            : num  1e+12 NA NA NA 1e+12 ...\n",
      " $ BrAcctNo              : Factor w/ 21370 levels \"\",\"0101037718\",..: 18422 20646 21088 21094 19069 13106 19099 18129 18084 18103 ...\n",
      " $ CifNo                 : int  727439 NA NA NA 972785 912707 974653 410632 243612 296289 ...\n",
      " $ MGC                   : logi  NA NA NA NA NA NA ...\n",
      " $ Month_Split           : Factor w/ 3 levels \"\",\"EVEN\",\"ODD\": 3 3 3 3 3 3 3 3 3 3 ...\n",
      " $ FNAME                 : Factor w/ 5188 levels \"\",\".SHAUNA\",\"AARHYON\",..: 4977 1144 3431 2551 312 4461 3720 2744 671 4386 ...\n",
      " $ MNAME                 : Factor w/ 104 levels \"\",\" \",\"a\",\"A\",..: 73 2 2 104 2 59 2 2 2 98 ...\n",
      " $ LNAME                 : Factor w/ 8140 levels \"\",\"AARON\",\"ABASTA\",..: 2685 7836 8129 4336 2678 7089 3766 6074 2418 3270 ...\n",
      " $ amt_given1.1          : Factor w/ 11 levels \"\",\"$1,000.00\",..: 11 6 6 6 6 9 3 3 3 3 ...\n",
      " $ Fico_Range_25pt       : Factor w/ 20 levels \"\",\" \",\"<500\",..: 12 10 10 10 10 11 10 10 10 10 ...\n",
      " $ State1                : logi  NA NA NA NA NA NA ...\n",
      " $ Test_Code             : logi  NA NA NA NA NA NA ...\n",
      " $ POffDate              : Factor w/ 398 levels \"\",\" \",\"2017-02-11\",..: 2 2 2 2 2 2 2 2 2 2 ...\n",
      " $ fico                  : int  685 628 638 626 645 659 635 627 628 636 ...\n",
      " $ Phone                 : Factor w/ 13544 levels \"\",\" \",\"(000)366-8770\",..: 11918 11915 11916 11919 12744 12743 11002 11003 11004 10988 ...\n",
      " $ CellPhone             : Factor w/ 2680 levels \"\",\" \",\"()-\",\"0000000000\",..: 2 2 2 2 2 2160 2 2 2 2 ...\n",
      " $ X                     : logi  NA NA NA NA NA NA ...\n"
     ]
    },
    {
     "data": {
      "text/plain": [
       " FILECODE      BATCH         LETTERCD         SS7         \n",
       " FB:   0   E      :2780   XRL    :2283   Min.   :  13693  \n",
       " XS:3900   PE     : 820   TXR    :1317   1st Qu.:2526731  \n",
       "           A      : 256   OKR    :  98   Median :4793192  \n",
       "           D      :  21   NCR    :  91   Mean   :4902365  \n",
       "           PA     :  20   SCR    :  63   3rd Qu.:7343096  \n",
       "           PD     :   3   NMS    :  24   Max.   :9999605  \n",
       "           (Other):   0   (Other):  24                    \n",
       "              NAME1                              ADDR2     \n",
       " Laura Gonzalez  :   3                              :3897  \n",
       " Maria Gonzalez  :   3   404 Mike Maros             :   1  \n",
       " Alberto Martinez:   2   Apt. 106476 South 3440 Road:   1  \n",
       " Ana Gonzalez    :   2   Apt. Texas                 :   1  \n",
       " Claudia Martinez:   2                              :   0  \n",
       " Daniel Lopez    :   2   \"carlos\"                   :   0  \n",
       " (Other)         :3886   (Other)                    :   0  \n",
       "                      STREET              CITY          STATE     \n",
       " 8602 Cinnamon Creek Dr. :   4   Houston    : 644   TX     :3587  \n",
       " 2526 Business Center Dr.:   3   San Antonio: 503   OK     :  98  \n",
       " 5565 Mansions Blfs.     :   3   Austin     : 128   NC     :  91  \n",
       " 1050 Mellow Breeze      :   2   El Paso    : 128   SC     :  63  \n",
       " 10500 Fountain Lake Dr. :   2   Spring     :  92   NM     :  24  \n",
       " 1055 Fm 646 Rd. W.      :   2   Humble     :  82          :  13  \n",
       " (Other)                 :3884   (Other)    :2323   (Other):  24  \n",
       "      ZIP5            ZIP4         QSEQNUM           Drop_Date   \n",
       " Min.   :27105   Min.   :   6   Min.   :  125             :  13  \n",
       " 1st Qu.:77070   1st Qu.:2516   1st Qu.:10397   06/01/2018:3887  \n",
       " Median :77515   Median :4007   Median :12578                    \n",
       " Mean   :75538   Mean   :4279   Mean   :13182                    \n",
       " 3rd Qu.:78501   3rd Qu.:5704   3rd Qu.:15386                    \n",
       " Max.   :88240   Max.   :9839   Max.   :21016                    \n",
       " NA's   :13      NA's   :13     NA's   :13                       \n",
       "     Closed_Date                                CheckAmount_SpelledOut\n",
       "           :  13   two thousand four hundred and 00/100    :2338      \n",
       " 06/29/2018:3887   one thousand three hundred and 00/100   :1310      \n",
       "                   one thousand two hundred and 00/100     : 117      \n",
       "                   one thousand four hundred and 00/100    :  52      \n",
       "                   one thousand four hundred ten and 00/100:  38      \n",
       "                   two thousand and 00/100                 :  20      \n",
       "                   (Other)                                 :  25      \n",
       "   CheckAmount    CheckNumber           AcctNum              AMT_ID     \n",
       " 2,400.00:2338   Min.   :3.002e+09   Min.   :8.018e+09   Min.   :483.0  \n",
       " 1,300.00:1310   1st Qu.:3.003e+09   1st Qu.:2.080e+12   1st Qu.:604.0  \n",
       " 1,200.00: 117   Median :3.003e+09   Median :2.080e+12   Median :624.0  \n",
       " 1,400.00:  52   Mean   :3.003e+09   Mean   :2.008e+12   Mean   :611.2  \n",
       " 1,410.00:  38   3rd Qu.:3.003e+09   3rd Qu.:2.080e+12   3rd Qu.:624.0  \n",
       " 2,000.00:  20   Max.   :3.008e+09   Max.   :2.080e+12   Max.   :624.0  \n",
       " (Other) :  25   NA's   :13          NA's   :13          NA's   :13     \n",
       "    amt_finan1        Apr1         pmt_amt_1        num_pmt_1    \n",
       " 2,400.00:2338   Min.   :30.85   Min.   : 98.96   Min.   :15.00  \n",
       " 1,300.00:1310   1st Qu.:33.11   1st Qu.:118.50   1st Qu.:18.00  \n",
       " 1,200.00: 117   Median :33.11   Median :138.06   Median :24.00  \n",
       " 1,400.00:  52   Mean   :46.42   Mean   :129.79   Mean   :21.67  \n",
       " 1,410.00:  38   3rd Qu.:69.91   3rd Qu.:138.06   3rd Qu.:24.00  \n",
       " 2,000.00:  20   Max.   :69.91   Max.   :141.99   Max.   :36.00  \n",
       " (Other) :  25   NA's   :13      NA's   :13       NA's   :13     \n",
       "   fin_chg_1       tot_pmt_1        amt_given1     Lproc_fee1     Acq_chg_1    \n",
       " 913.42 :2277   3,313.42:2277   $2,400.00:2338   Min.   :25.0   Min.   :100.0  \n",
       " 833.00 :1310   2,133.00:1310   $1,300.00:1310   1st Qu.:25.0   1st Qu.:100.0  \n",
       " 487.50 :  60   1,687.50:  60   $1,200.00: 117   Median :25.0   Median :100.0  \n",
       " 284.46 :  57   1,484.46:  57   $1,400.00:  52   Mean   :30.6   Mean   :102.6  \n",
       " 493.50 :  38   1,903.50:  38   $1,410.00:  38   3rd Qu.:40.0   3rd Qu.:100.0  \n",
       " 544.00 :  36   1,944.00:  36   $2,000.00:  20   Max.   :40.0   Max.   :200.0  \n",
       " (Other): 122   (Other) : 122   (Other)  :  25   NA's   :3809   NA's   :2474   \n",
       "   InHandChg1    PrepaidFinChg   IntSurchgLen  Int_to_Lender     MntFeeToL1  \n",
       " Min.   :352.5   Min.   :100    Min.   :120    Min.   :753.2   Min.   :72    \n",
       " 1st Qu.:733.0   1st Qu.:100    1st Qu.:120    1st Qu.:813.4   1st Qu.:72    \n",
       " Median :733.0   Median :100    Median :120    Median :813.4   Median :72    \n",
       " Mean   :704.2   Mean   :100    Mean   :120    Mean   :813.3   Mean   :72    \n",
       " 3rd Qu.:733.0   3rd Qu.:100    3rd Qu.:120    3rd Qu.:813.4   3rd Qu.:72    \n",
       " Max.   :733.0   Max.   :100    Max.   :120    Max.   :813.4   Max.   :72    \n",
       " NA's   :2474    NA's   :1623   NA's   :3894   NA's   :1617    NA's   :3894  \n",
       "  Mo_InHandChg     FaceAmtLoan      LoanFee8       LoanFee4    Effective_rate \n",
       " Min.   :23.50           :  13   Min.   : NA    Min.   : NA    Min.   :27.80  \n",
       " 1st Qu.:23.50           :3887   1st Qu.: NA    1st Qu.: NA    1st Qu.:29.72  \n",
       " Median :24.50   1,705.35:   0   Median : NA    Median : NA    Median :29.72  \n",
       " Mean   :24.11   2,228.87:   0   Mean   :NaN    Mean   :NaN    Mean   :39.92  \n",
       " 3rd Qu.:24.50                   3rd Qu.: NA    3rd Qu.: NA    3rd Qu.:58.16  \n",
       " Max.   :24.50                   Max.   : NA    Max.   : NA    Max.   :58.16  \n",
       " NA's   :3802                    NA's   :3900   NA's   :3900   NA's   :13     \n",
       "    Principle    NumPmts_exceptLast LastPmtAmount     BranchNumber   \n",
       "         :  13   Min.   :14.0       Min.   : 99.02   Min.   : 101.0  \n",
       "         :3887   1st Qu.:14.0       1st Qu.: 99.02   1st Qu.: 532.0  \n",
       " 1,260.00:   0   Median :14.0       Median :102.90   Median : 555.0  \n",
       " 2,520.00:   0   Mean   :21.3       Mean   :106.19   Mean   : 560.7  \n",
       "                 3rd Qu.:35.0       3rd Qu.:102.90   3rd Qu.: 576.0  \n",
       "                 Max.   :35.0       Max.   :127.98   Max.   :1017.0  \n",
       "                 NA's   :3785       NA's   :3785     NA's   :13      \n",
       "          BranchCompany                           BranchStreetAddress\n",
       "                 :  13   3719 N. Fry Road, Suite O          : 127    \n",
       " Regional Finance:3887   5015 FM 2920 Road, Suite B         : 124    \n",
       "                         1420 FM 1960 Bypass Rd E, Suite 118: 119    \n",
       "                         459 Uvalde Road                    : 103    \n",
       "                         16876 Stuebner Airline Road        :  94    \n",
       "                         9714 Potranco Road, Suite 113      :  94    \n",
       "                         (Other)                            :3239    \n",
       "       BranchCity    BranchState        BranchZip            BranchPhone  \n",
       " San Antonio: 580   TX     :3587   77449-6740: 127   (281) 646-1082: 127  \n",
       " Houston    : 439   OK     :  98   77388-3114: 124   (281) 528-1038: 124  \n",
       " Spring     : 218   NC     :  91   77338-3934: 119   (281) 540-0302: 119  \n",
       " Austin     : 187   SC     :  63   77015-3717: 103   (832) 623-7068: 103  \n",
       " Katy       : 182   NM     :  24   77379-6207:  94   (210) 572-3295:  94  \n",
       " Pasadena   : 142          :  13   78251-9617:  94   (281) 251-0069:  94  \n",
       " (Other)    :2152   (Other):  24   (Other)   :3239   (Other)       :3239  \n",
       "          BranchFax              BranchManager         BranchSupervisor\n",
       " (832) 404-6426: 127   Lisa Forrest     : 127   Darla Donica   :649    \n",
       " (281) 668-7188: 124   Ingrid Zelaya    : 124   Sandra Lopez   :635    \n",
       " (281) 612-1952: 119   Ernest Menefee   : 119   Joe Gandaria   :470    \n",
       " (832) 699-7697: 103   Fannie Garza     : 103   Nick Miaoulis  :436    \n",
       " (210) 504-1508:  94   Melissa Fernandez:  94   Nellie Carrillo:416    \n",
       " (832) 384-9538:  94   Stephanie Rios   :  94   Ed Macias      :341    \n",
       " (Other)       :3239   (Other)          :3239   (Other)        :953    \n",
       "         BranchStateVP  Distance_to_Branch            campaign_id  \n",
       "                :  13   Min.   :  0.000                     :  13  \n",
       " Heather Meares :  12   1st Qu.:  2.645    FB_6.0_2018CC    :   0  \n",
       " Kenny Haynes   : 103   Median :  4.710    RetailXS_6.0_2018:3887  \n",
       " Lee Wright     :   0   Mean   :  8.071                            \n",
       " Michael Johnson:3343   3rd Qu.:  7.835                            \n",
       " Pedro Mariscal : 366   Max.   :447.116                            \n",
       " Scott Juvelier :  63   NA's   :13                                 \n",
       "      DOB           Made_Unmade   MLA_Status    AMT_ID.1    \n",
       " Min.   :19111008         :  13    :  13     Min.   :483.0  \n",
       " 1st Qu.:19670918         :   0   N:3887     1st Qu.:604.0  \n",
       " Median :19780308   MADE  :1686              Median :624.0  \n",
       " Mean   :19759723   UNMADE:2201              Mean   :611.2  \n",
       " 3rd Qu.:19870104                            3rd Qu.:624.0  \n",
       " Max.   :20170830                            Max.   :624.0  \n",
       " NA's   :13                                  NA's   :13     \n",
       "   ConProfile              BrAcctNo        CifNo          MGC         \n",
       " Min.   :1.000e+10             :  13   Min.   : 70808   Mode:logical  \n",
       " 1st Qu.:1.000e+12   0114051587:   1   1st Qu.:593500   NA's:3900     \n",
       " Median :1.000e+12   0114051597:   1   Median :705817                 \n",
       " Mean   :9.977e+11   0133050415:   1   Mean   :708238                 \n",
       " 3rd Qu.:1.000e+12   0133050421:   1   3rd Qu.:909564                 \n",
       " Max.   :1.000e+12   0158050033:   1   Max.   :991334                 \n",
       " NA's   :2214        (Other)   :3882   NA's   :2214                   \n",
       " Month_Split     FNAME          MNAME            LNAME         amt_given1.1 \n",
       "     :  13   JUAN   :  42          :3699   GARCIA   :  60   $2,400.00:2338  \n",
       " EVEN:   0   MARIA  :  42   A      :  17   MARTINEZ :  44   $1,300.00:1310  \n",
       " ODD :3887   JOSE   :  35          :  13   RODRIGUEZ:  40   $1,200.00: 117  \n",
       "             MICHAEL:  32   M      :  12   GONZALEZ :  39   $1,400.00:  52  \n",
       "             DAVID  :  22   L      :  11   LOPEZ    :  30   $1,410.00:  38  \n",
       "             LUIS   :  22   D      :  10   HERNANDEZ:  29   $2,000.00:  20  \n",
       "             (Other):3705   (Other): 138   (Other)  :3658   (Other)  :  25  \n",
       " Fico_Range_25pt  State1        Test_Code            POffDate   \n",
       " 625-649:1485    Mode:logical   Mode:logical             :3887  \n",
       " 650-674:1039    NA's:3900      NA's:3900                :  13  \n",
       " 675-699: 744                                  2017-02-11:   0  \n",
       " 700-724: 592                                  2017-02-13:   0  \n",
       " 725-749:  27                                  2017-02-14:   0  \n",
       "        :  13                                  2017-02-15:   0  \n",
       " (Other):   0                                  (Other)   :   0  \n",
       "      fico                 Phone           CellPhone       X          \n",
       " Min.   :625.0                :  53             : 903   Mode:logical  \n",
       " 1st Qu.:640.0                :  13   ()-       : 296   NA's:3900     \n",
       " Median :659.0   7138121098   :   2             :  13                 \n",
       " Mean   :664.8   8309805188   :   2   0000000000:   9                 \n",
       " 3rd Qu.:687.0   (205)401-8535:   1   8326431466:   2                 \n",
       " Max.   :725.0   (207)485-7752:   1   8328601733:   2                 \n",
       " NA's   :13      (Other)      :3828   (Other)   :2675                 "
      ]
     },
     "metadata": {},
     "output_type": "display_data"
    }
   ],
   "source": [
    "str(mb_xsell_cc_0618)\n",
    "summary(mb_xsell_cc_0618)"
   ]
  },
  {
   "cell_type": "markdown",
   "metadata": {},
   "source": [
    "Check Drop_Date"
   ]
  },
  {
   "cell_type": "code",
   "execution_count": 126,
   "metadata": {},
   "outputs": [
    {
     "data": {
      "text/html": [
       "<ol class=list-inline>\n",
       "\t<li>06/01/2018</li>\n",
       "\t<li></li>\n",
       "</ol>\n"
      ],
      "text/latex": [
       "\\begin{enumerate*}\n",
       "\\item 06/01/2018\n",
       "\\item \n",
       "\\end{enumerate*}\n"
      ],
      "text/markdown": [
       "1. 06/01/2018\n",
       "2. \n",
       "\n",
       "\n"
      ],
      "text/plain": [
       "[1] 06/01/2018           \n",
       "Levels:  06/01/2018"
      ]
     },
     "metadata": {},
     "output_type": "display_data"
    }
   ],
   "source": [
    "unique(mb_fb_cc_0618$Drop_Date)"
   ]
  },
  {
   "cell_type": "code",
   "execution_count": 127,
   "metadata": {},
   "outputs": [
    {
     "data": {
      "text/html": [
       "<ol class=list-inline>\n",
       "\t<li>06/01/2018</li>\n",
       "\t<li></li>\n",
       "</ol>\n"
      ],
      "text/latex": [
       "\\begin{enumerate*}\n",
       "\\item 06/01/2018\n",
       "\\item \n",
       "\\end{enumerate*}\n"
      ],
      "text/markdown": [
       "1. 06/01/2018\n",
       "2. \n",
       "\n",
       "\n"
      ],
      "text/plain": [
       "[1] 06/01/2018           \n",
       "Levels:  06/01/2018"
      ]
     },
     "metadata": {},
     "output_type": "display_data"
    }
   ],
   "source": [
    "unique(mb_xsell_cc_0618$Drop_Date)"
   ]
  },
  {
   "cell_type": "markdown",
   "metadata": {},
   "source": [
    "CHANGE DATE and date format if required"
   ]
  },
  {
   "cell_type": "code",
   "execution_count": 128,
   "metadata": {},
   "outputs": [],
   "source": [
    "mb_fb_cc_0618$Drop_Date <- as.Date(\"06/01/2018\", format = \"%m/%d/%Y\",\n",
    "                                   origin = \"01/01/1970\")"
   ]
  },
  {
   "cell_type": "code",
   "execution_count": 129,
   "metadata": {},
   "outputs": [
    {
     "data": {
      "text/html": [
       "<time datetime=\"2018-06-01\">2018-06-01</time>"
      ],
      "text/latex": [
       "2018-06-01"
      ],
      "text/markdown": [
       "2018-06-01"
      ],
      "text/plain": [
       "[1] \"2018-06-01\""
      ]
     },
     "metadata": {},
     "output_type": "display_data"
    }
   ],
   "source": [
    "unique(mb_fb_cc_0618$Drop_Date)"
   ]
  },
  {
   "cell_type": "code",
   "execution_count": 130,
   "metadata": {},
   "outputs": [
    {
     "name": "stdout",
     "output_type": "stream",
     "text": [
      " Date[1:17565], format: \"2018-06-01\" \"2018-06-01\" \"2018-06-01\" \"2018-06-01\" \"2018-06-01\" ...\n"
     ]
    }
   ],
   "source": [
    "str(mb_fb_cc_0618$Drop_Date)"
   ]
  },
  {
   "cell_type": "code",
   "execution_count": 131,
   "metadata": {},
   "outputs": [],
   "source": [
    "mb_xsell_cc_0618$Drop_Date <- as.Date(\"06/01/2018\", \n",
    "                                      format = \"%m/%d/%Y\", \n",
    "                                      origin = \"01/01/1970\")"
   ]
  },
  {
   "cell_type": "code",
   "execution_count": 132,
   "metadata": {},
   "outputs": [
    {
     "data": {
      "text/html": [
       "<time datetime=\"2018-06-01\">2018-06-01</time>"
      ],
      "text/latex": [
       "2018-06-01"
      ],
      "text/markdown": [
       "2018-06-01"
      ],
      "text/plain": [
       "[1] \"2018-06-01\""
      ]
     },
     "metadata": {},
     "output_type": "display_data"
    }
   ],
   "source": [
    "unique(mb_xsell_cc_0618$Drop_Date)"
   ]
  },
  {
   "cell_type": "code",
   "execution_count": 133,
   "metadata": {},
   "outputs": [
    {
     "name": "stdout",
     "output_type": "stream",
     "text": [
      " Date[1:3900], format: \"2018-06-01\" \"2018-06-01\" \"2018-06-01\" \"2018-06-01\" \"2018-06-01\" ...\n"
     ]
    }
   ],
   "source": [
    "str(mb_xsell_cc_0618$Drop_Date)"
   ]
  },
  {
   "cell_type": "code",
   "execution_count": 134,
   "metadata": {},
   "outputs": [],
   "source": [
    "save(mb_fb_cc_0618, \n",
    "     file=\"C:/Users/cepps/RMC/Mail Files/R_data_objects/fb_xsell_cc/mb_fb_cc_0618.RData\")"
   ]
  },
  {
   "cell_type": "code",
   "execution_count": 135,
   "metadata": {},
   "outputs": [],
   "source": [
    "save(mb_xsell_cc_0618, \n",
    "     file=\"C:/Users/cepps/RMC/Mail Files/R_data_objects/fb_xsell_cc/mb_xsell_cc_0618.RData\")"
   ]
  },
  {
   "cell_type": "markdown",
   "metadata": {},
   "source": [
    "Load latest consolidated FBCC mailfile"
   ]
  },
  {
   "cell_type": "code",
   "execution_count": 136,
   "metadata": {},
   "outputs": [],
   "source": [
    "load(\"C:/Users/cepps/RMC/Mail Files/R_data_objects/fb_xsell_cc/mb_fb_cc.RData\")"
   ]
  },
  {
   "cell_type": "code",
   "execution_count": 137,
   "metadata": {},
   "outputs": [
    {
     "data": {
      "text/html": [
       "<ol class=list-inline>\n",
       "\t<li>314395</li>\n",
       "\t<li>13</li>\n",
       "</ol>\n"
      ],
      "text/latex": [
       "\\begin{enumerate*}\n",
       "\\item 314395\n",
       "\\item 13\n",
       "\\end{enumerate*}\n"
      ],
      "text/markdown": [
       "1. 314395\n",
       "2. 13\n",
       "\n",
       "\n"
      ],
      "text/plain": [
       "[1] 314395     13"
      ]
     },
     "metadata": {},
     "output_type": "display_data"
    }
   ],
   "source": [
    "dim(mb_fb_cc)"
   ]
  },
  {
   "cell_type": "code",
   "execution_count": 138,
   "metadata": {},
   "outputs": [
    {
     "name": "stdout",
     "output_type": "stream",
     "text": [
      "'data.frame':\t314395 obs. of  13 variables:\n",
      " $ mon_ind     : int  81 81 81 81 81 81 81 81 81 81 ...\n",
      " $ camp_type   : chr  \"04.FB_BW\" \"04.FB_BW\" \"04.FB_BW\" \"04.FB_BW\" ...\n",
      " $ camp_type1  : chr  \"FB_BW_0916__FB Biweekly Sep16\" \"FB_BW_0916__FB Biweekly Sep16\" \"FB_BW_0916__FB Biweekly Sep16\" \"FB_BW_0916__FB Biweekly Sep16\" ...\n",
      " $ SS7         : chr  \"24335\" \"18653\" \"23571\" \"7973\" ...\n",
      " $ Drop_Date   : Date, format: \"2016-09-16\" \"2016-09-16\" ...\n",
      " $ NAME        : chr  \"JANICE\" \"ROY D\" \"SARAH\" \"BRIAN\" ...\n",
      " $ STREET      : chr  \"3078A Youngs Park Dr.\" \"621 Clearwater Lake Rd.\" \"682 Bridge St.\" \"4931 Dale Dr.\" ...\n",
      " $ ZIP5        : int  29175 29067 29003 29203 29114 29560 29627 29657 29520 29138 ...\n",
      " $ FICO        : num  0 0 0 0 0 0 0 0 0 0 ...\n",
      " $ APR         : chr  \"59\" \"44\" \"44\" \"68\" ...\n",
      " $ OFFER_AMOUNT: int  1200 2000 2000 1000 1200 2000 1200 2000 2000 625 ...\n",
      " $ STATE       : chr  \"SC\" \"SC\" \"SC\" \"SC\" ...\n",
      " $ BRANCHNUMBER: int  111 111 122 123 128 128 133 133 137 139 ...\n"
     ]
    },
    {
     "data": {
      "text/plain": [
       "    mon_ind       camp_type          camp_type1            SS7           \n",
       " Min.   :81.00   Length:314395      Length:314395      Length:314395     \n",
       " 1st Qu.:87.00   Class :character   Class :character   Class :character  \n",
       " Median :91.00   Mode  :character   Mode  :character   Mode  :character  \n",
       " Mean   :90.86                                                           \n",
       " 3rd Qu.:95.00                                                           \n",
       " Max.   :99.00                                                           \n",
       "                                                                         \n",
       "   Drop_Date              NAME              STREET               ZIP5      \n",
       " Min.   :2016-09-16   Length:314395      Length:314395      Min.   :20105  \n",
       " 1st Qu.:2017-03-09   Class :character   Class :character   1st Qu.:29664  \n",
       " Median :2017-07-28   Mode  :character   Mode  :character   Median :73075  \n",
       " Mean   :2017-07-10                                         Mean   :55393  \n",
       " 3rd Qu.:2017-11-30                                         3rd Qu.:77583  \n",
       " Max.   :2018-03-27                                         Max.   :88415  \n",
       "                                                            NA's   :1011   \n",
       "      FICO            APR             OFFER_AMOUNT     STATE          \n",
       " Min.   :  0.00   Length:314395      Min.   :   0   Length:314395     \n",
       " 1st Qu.:  0.00   Class :character   1st Qu.:   2   Class :character  \n",
       " Median :  0.00   Mode  :character   Median :1000   Mode  :character  \n",
       " Mean   : 81.72                      Mean   : 955                     \n",
       " 3rd Qu.:  0.00                      3rd Qu.:1300                     \n",
       " Max.   :999.00                      Max.   :2200                     \n",
       " NA's   :742                         NA's   :404                      \n",
       "  BRANCHNUMBER   \n",
       " Min.   : 101.0  \n",
       " 1st Qu.: 514.0  \n",
       " Median : 565.0  \n",
       " Mean   : 590.3  \n",
       " 3rd Qu.: 801.0  \n",
       " Max.   :1217.0  \n",
       " NA's   :1011    "
      ]
     },
     "metadata": {},
     "output_type": "display_data"
    }
   ],
   "source": [
    "str(mb_fb_cc)\n",
    "summary(mb_fb_cc)"
   ]
  },
  {
   "cell_type": "code",
   "execution_count": 139,
   "metadata": {},
   "outputs": [
    {
     "name": "stderr",
     "output_type": "stream",
     "text": [
      "Warning message in rsqlite_fetch(res@ptr, n = n):\n",
      "\"Column `SS7`: mixed type, first seen values of type string, coercing other values of type integer\"Warning message in rsqlite_fetch(res@ptr, n = n):\n",
      "\"Column `APR`: mixed type, first seen values of type string, coercing other values of type real\"Warning message in rsqlite_fetch(res@ptr, n = n):\n",
      "\"Column `OFFER_AMOUNT`: mixed type, first seen values of type integer, coercing other values of type string\""
     ]
    }
   ],
   "source": [
    "mb_fb_cc <- sqldf(\n",
    "   \"\n",
    "   SELECT mon_ind, camp_type, camp_type1, ss7, Drop_Date, NAME, STREET,\n",
    "          ZIP5, FICO, apr, offer_amount, state, branchnumber \n",
    "   FROM mb_fb_cc\n",
    "\n",
    "   UNION ALL\n",
    "\n",
    "   SELECT 100 AS mon_ind, '04.FB_BW' AS camp_type,\n",
    "          'FB_CC_Monthly_Apr-18_Drop-1' AS camp_type1, ss7, Drop_Date,\n",
    "          NAME1 AS NAME, STREET, ZIP5, 0 AS FICO, Apr1 AS apr,\n",
    "          checkamount AS offer_amount, state, BranchNumber \n",
    "   FROM mb_fb_cc_0418\n",
    "\n",
    "   UNION ALL\n",
    "\n",
    "   SELECT 101 AS mon_ind, '04.FB_BW' AS camp_type,\n",
    "          'FB_CC_Monthly_May-18_Drop-1' AS camp_type1, ss7, Drop_Date,\n",
    "          NAME1 AS NAME, STREET, ZIP5, 0 AS FICO, Apr1 AS apr,\n",
    "          checkamount AS offer_amount, state, BranchNumber \n",
    "   FROM mb_fb_cc_0518\n",
    "\n",
    "   UNION ALL\n",
    "\n",
    "   SELECT 102 AS mon_ind, '04.FB_BW' AS camp_type,\n",
    "          'FB_CC_Monthly_Jun-18_Drop-1' AS camp_type1, ss7, Drop_Date,\n",
    "          NAME1 AS NAME, STREET, ZIP5, 0 AS FICO, Apr1 AS apr,\n",
    "          checkamount AS offer_amount, state, BranchNumber \n",
    "   FROM mb_fb_cc_0618\n",
    "   \"\n",
    "   )"
   ]
  },
  {
   "cell_type": "code",
   "execution_count": 140,
   "metadata": {},
   "outputs": [],
   "source": [
    "save(mb_fb_cc,\n",
    "     file = \"C:/Users/cepps/RMC/Mail Files/R_data_objects/fb_xsell_cc/new_consol/mb_fb_cc.RData\")"
   ]
  },
  {
   "cell_type": "code",
   "execution_count": 141,
   "metadata": {},
   "outputs": [
    {
     "data": {
      "text/html": [
       "<ol class=list-inline>\n",
       "\t<li>364881</li>\n",
       "\t<li>13</li>\n",
       "</ol>\n"
      ],
      "text/latex": [
       "\\begin{enumerate*}\n",
       "\\item 364881\n",
       "\\item 13\n",
       "\\end{enumerate*}\n"
      ],
      "text/markdown": [
       "1. 364881\n",
       "2. 13\n",
       "\n",
       "\n"
      ],
      "text/plain": [
       "[1] 364881     13"
      ]
     },
     "metadata": {},
     "output_type": "display_data"
    }
   ],
   "source": [
    "dim(mb_fb_cc)"
   ]
  },
  {
   "cell_type": "code",
   "execution_count": 142,
   "metadata": {},
   "outputs": [
    {
     "name": "stdout",
     "output_type": "stream",
     "text": [
      "'data.frame':\t364881 obs. of  13 variables:\n",
      " $ mon_ind     : int  81 81 81 81 81 81 81 81 81 81 ...\n",
      " $ camp_type   : chr  \"04.FB_BW\" \"04.FB_BW\" \"04.FB_BW\" \"04.FB_BW\" ...\n",
      " $ camp_type1  : chr  \"FB_BW_0916__FB Biweekly Sep16\" \"FB_BW_0916__FB Biweekly Sep16\" \"FB_BW_0916__FB Biweekly Sep16\" \"FB_BW_0916__FB Biweekly Sep16\" ...\n",
      " $ SS7         : chr  \"24335\" \"18653\" \"23571\" \"7973\" ...\n",
      " $ Drop_Date   : Date, format: \"2016-09-16\" \"2016-09-16\" ...\n",
      " $ NAME        : chr  \"JANICE\" \"ROY D\" \"SARAH\" \"BRIAN\" ...\n",
      " $ STREET      : chr  \"3078A Youngs Park Dr.\" \"621 Clearwater Lake Rd.\" \"682 Bridge St.\" \"4931 Dale Dr.\" ...\n",
      " $ ZIP5        : int  29175 29067 29003 29203 29114 29560 29627 29657 29520 29138 ...\n",
      " $ FICO        : num  0 0 0 0 0 0 0 0 0 0 ...\n",
      " $ APR         : chr  \"59\" \"44\" \"44\" \"68\" ...\n",
      " $ OFFER_AMOUNT: int  1200 2000 2000 1000 1200 2000 1200 2000 2000 625 ...\n",
      " $ STATE       : chr  \"SC\" \"SC\" \"SC\" \"SC\" ...\n",
      " $ BRANCHNUMBER: int  111 111 122 123 128 128 133 133 137 139 ...\n"
     ]
    },
    {
     "data": {
      "text/plain": [
       "    mon_ind        camp_type          camp_type1            SS7           \n",
       " Min.   : 81.00   Length:364881      Length:364881      Length:364881     \n",
       " 1st Qu.: 87.00   Class :character   Class :character   Class :character  \n",
       " Median : 92.00   Mode  :character   Mode  :character   Mode  :character  \n",
       " Mean   : 92.27                                                           \n",
       " 3rd Qu.: 97.00                                                           \n",
       " Max.   :102.00                                                           \n",
       "                                                                          \n",
       "   Drop_Date              NAME              STREET               ZIP5      \n",
       " Min.   :2016-09-16   Length:364881      Length:364881      Min.   :20105  \n",
       " 1st Qu.:2017-03-09   Class :character   Class :character   1st Qu.:29646  \n",
       " Median :2017-08-22   Mode  :character   Mode  :character   Median :73071  \n",
       " Mean   :2017-08-21                                         Mean   :55277  \n",
       " 3rd Qu.:2018-01-18                                         3rd Qu.:77581  \n",
       " Max.   :2018-06-01                                         Max.   :88415  \n",
       "                                                            NA's   :1279   \n",
       "      FICO            APR             OFFER_AMOUNT       STATE          \n",
       " Min.   :  0.00   Length:364881      Min.   :   0.0   Length:364881     \n",
       " 1st Qu.:  0.00   Class :character   1st Qu.:   2.0   Class :character  \n",
       " Median :  0.00   Mode  :character   Median :1000.0   Mode  :character  \n",
       " Mean   : 70.39                      Mean   : 822.9                     \n",
       " 3rd Qu.:  0.00                      3rd Qu.:1300.0                     \n",
       " Max.   :999.00                      Max.   :2200.0                     \n",
       " NA's   :742                         NA's   :404                        \n",
       "  BRANCHNUMBER   \n",
       " Min.   : 101.0  \n",
       " 1st Qu.: 515.0  \n",
       " Median : 566.0  \n",
       " Mean   : 592.3  \n",
       " 3rd Qu.: 801.0  \n",
       " Max.   :1217.0  \n",
       " NA's   :1279    "
      ]
     },
     "metadata": {},
     "output_type": "display_data"
    }
   ],
   "source": [
    "str(mb_fb_cc)\n",
    "summary(mb_fb_cc)"
   ]
  },
  {
   "cell_type": "markdown",
   "metadata": {},
   "source": [
    "Load latest consolidated XSELLCC mailfile"
   ]
  },
  {
   "cell_type": "code",
   "execution_count": 143,
   "metadata": {},
   "outputs": [],
   "source": [
    "load(\"C:/Users/cepps/RMC/Mail Files/R_data_objects/fb_xsell_cc/mb_xsell_cc.RData\")"
   ]
  },
  {
   "cell_type": "code",
   "execution_count": 144,
   "metadata": {},
   "outputs": [
    {
     "data": {
      "text/html": [
       "<ol class=list-inline>\n",
       "\t<li>54504</li>\n",
       "\t<li>13</li>\n",
       "</ol>\n"
      ],
      "text/latex": [
       "\\begin{enumerate*}\n",
       "\\item 54504\n",
       "\\item 13\n",
       "\\end{enumerate*}\n"
      ],
      "text/markdown": [
       "1. 54504\n",
       "2. 13\n",
       "\n",
       "\n"
      ],
      "text/plain": [
       "[1] 54504    13"
      ]
     },
     "metadata": {},
     "output_type": "display_data"
    }
   ],
   "source": [
    "dim(mb_xsell_cc)"
   ]
  },
  {
   "cell_type": "code",
   "execution_count": 145,
   "metadata": {},
   "outputs": [
    {
     "name": "stdout",
     "output_type": "stream",
     "text": [
      "'data.frame':\t54504 obs. of  13 variables:\n",
      " $ mon_ind     : int  81 81 81 81 81 81 81 81 81 81 ...\n",
      " $ camp_type   : chr  \"08.XSELL\" \"08.XSELL\" \"08.XSELL\" \"08.XSELL\" ...\n",
      " $ camp_type1  : chr  \"XSELL_0916__XS09.0_16CC\" \"XSELL_0916__XS09.0_16CC\" \"XSELL_0916__XS09.0_16CC\" \"XSELL_0916__XS09.0_16CC\" ...\n",
      " $ SS7         : chr  \"3744582\" \"1156097\" \"2610555\" \"5934587\" ...\n",
      " $ Drop_Date   : Date, format: \"2016-09-23\" \"2016-09-23\" ...\n",
      " $ NAME        : chr  \"Annie Moye\" \"Don Johnson\" \"Spencer Meachum\" \"Omayra Flores\" ...\n",
      " $ STREET      : chr  \"5531 Folkstone Rd\" \"3749 Shacktown Rd\" \"675 N Main St\" \"402 Foxcroft Dr\" ...\n",
      " $ ZIP5        : int  27040 27055 27101 27103 27127 27203 27205 27205 27214 27214 ...\n",
      " $ FICO        : num  785 724 730 704 627 648 632 651 755 625 ...\n",
      " $ APR         : chr  \"30.74\" \"30.74\" \"30.74\" \"30.74\" ...\n",
      " $ OFFER_AMOUNT: chr  \"2000\" \"2000\" \"2000\" \"2000\" ...\n",
      " $ STATE       : chr  \"NC\" \"NC\" \"NC\" \"NC\" ...\n",
      " $ BRANCHNUMBER: int  679 671 679 671 655 663 663 663 667 667 ...\n"
     ]
    },
    {
     "data": {
      "text/plain": [
       "    mon_ind       camp_type          camp_type1            SS7           \n",
       " Min.   :81.00   Length:54504       Length:54504       Length:54504      \n",
       " 1st Qu.:89.00   Class :character   Class :character   Class :character  \n",
       " Median :94.00   Mode  :character   Mode  :character   Mode  :character  \n",
       " Mean   :92.24                                                           \n",
       " 3rd Qu.:96.00                                                           \n",
       " Max.   :99.00                                                           \n",
       "                                                                         \n",
       "   Drop_Date              NAME              STREET               ZIP5      \n",
       " Min.   :2016-09-23   Length:54504       Length:54504       Min.   :22553  \n",
       " 1st Qu.:2017-05-08   Class :character   Class :character   1st Qu.:77018  \n",
       " Median :2017-10-10   Mode  :character   Mode  :character   Median :77571  \n",
       " Mean   :2017-08-23                                         Mean   :72549  \n",
       " 3rd Qu.:2017-12-21                                         3rd Qu.:78521  \n",
       " Max.   :2018-03-27                                         Max.   :88352  \n",
       "                                                            NA's   :109    \n",
       "      FICO            APR            OFFER_AMOUNT          STATE          \n",
       " Min.   :  0.00   Length:54504       Length:54504       Length:54504      \n",
       " 1st Qu.:  0.00   Class :character   Class :character   Class :character  \n",
       " Median :  0.00   Mode  :character   Mode  :character   Mode  :character  \n",
       " Mean   : 82.09                                                           \n",
       " 3rd Qu.:  0.00                                                           \n",
       " Max.   :850.00                                                           \n",
       "                                                                          \n",
       "  BRANCHNUMBER   \n",
       " Min.   : 101.0  \n",
       " 1st Qu.: 531.0  \n",
       " Median : 556.0  \n",
       " Mean   : 567.6  \n",
       " 3rd Qu.: 582.0  \n",
       " Max.   :1214.0  \n",
       " NA's   :109     "
      ]
     },
     "metadata": {},
     "output_type": "display_data"
    }
   ],
   "source": [
    "str(mb_xsell_cc)\n",
    "summary(mb_xsell_cc)"
   ]
  },
  {
   "cell_type": "code",
   "execution_count": 146,
   "metadata": {},
   "outputs": [
    {
     "name": "stderr",
     "output_type": "stream",
     "text": [
      "Warning message in rsqlite_fetch(res@ptr, n = n):\n",
      "\"Column `SS7`: mixed type, first seen values of type string, coercing other values of type integer\"Warning message in rsqlite_fetch(res@ptr, n = n):\n",
      "\"Column `APR`: mixed type, first seen values of type string, coercing other values of type real\""
     ]
    }
   ],
   "source": [
    "mb_xsell_cc <- sqldf(\n",
    "   \"\n",
    "   SELECT mon_ind, camp_type, camp_type1, ss7, Drop_Date, NAME, STREET,\n",
    "          ZIP5, fico, apr, offer_amount, state, BranchNumber \n",
    "   FROM mb_xsell_cc\n",
    "   \n",
    "   UNION ALL\n",
    "\n",
    "   SELECT 100 as mon_ind, '08.XSELL' as camp_type,\n",
    "          'XSELL_0418_CC_Drop-1' as camp_type1, ss7, Drop_Date,\n",
    "          NAME1 as NAME, STREET, ZIP5, 0 as FICO, Apr1 as apr,\n",
    "          checkamount as offer_amount, state, BranchNumber \n",
    "   FROM mb_xsell_cc_0418\n",
    "\n",
    "   UNION ALL\n",
    "\n",
    "   SELECT 101 as mon_ind, '08.XSELL' as camp_type,\n",
    "          'XSELL_0518_CC_Drop-1' as camp_type1, ss7, Drop_Date,\n",
    "          NAME1 as NAME, STREET, ZIP5, 0 as FICO, Apr1 as apr,\n",
    "          checkamount as offer_amount, state, BranchNumber \n",
    "   FROM mb_xsell_cc_0518\n",
    "\n",
    "   UNION ALL\n",
    "\n",
    "   SELECT 102 as mon_ind, '08.XSELL' as camp_type,\n",
    "          'XSELL_0618_CC_Drop-1' as camp_type1, ss7, Drop_Date,\n",
    "          NAME1 as NAME, STREET, ZIP5, 0 as FICO, Apr1 as apr,\n",
    "          checkamount as offer_amount, state, BranchNumber \n",
    "   FROM mb_xsell_cc_0618\n",
    "   \"\n",
    "   )"
   ]
  },
  {
   "cell_type": "code",
   "execution_count": 147,
   "metadata": {},
   "outputs": [],
   "source": [
    "save(mb_xsell_cc, \n",
    "     file = \"C:/Users/cepps/RMC/Mail Files/R_data_objects/fb_xsell_cc/new_consol/mb_xsell_cc.RData\")"
   ]
  },
  {
   "cell_type": "code",
   "execution_count": 148,
   "metadata": {},
   "outputs": [
    {
     "data": {
      "text/html": [
       "<ol class=list-inline>\n",
       "\t<li>65886</li>\n",
       "\t<li>13</li>\n",
       "</ol>\n"
      ],
      "text/latex": [
       "\\begin{enumerate*}\n",
       "\\item 65886\n",
       "\\item 13\n",
       "\\end{enumerate*}\n"
      ],
      "text/markdown": [
       "1. 65886\n",
       "2. 13\n",
       "\n",
       "\n"
      ],
      "text/plain": [
       "[1] 65886    13"
      ]
     },
     "metadata": {},
     "output_type": "display_data"
    }
   ],
   "source": [
    "dim(mb_xsell_cc)"
   ]
  },
  {
   "cell_type": "code",
   "execution_count": 149,
   "metadata": {},
   "outputs": [
    {
     "name": "stdout",
     "output_type": "stream",
     "text": [
      "'data.frame':\t65886 obs. of  13 variables:\n",
      " $ mon_ind     : int  81 81 81 81 81 81 81 81 81 81 ...\n",
      " $ camp_type   : chr  \"08.XSELL\" \"08.XSELL\" \"08.XSELL\" \"08.XSELL\" ...\n",
      " $ camp_type1  : chr  \"XSELL_0916__XS09.0_16CC\" \"XSELL_0916__XS09.0_16CC\" \"XSELL_0916__XS09.0_16CC\" \"XSELL_0916__XS09.0_16CC\" ...\n",
      " $ SS7         : chr  \"3744582\" \"1156097\" \"2610555\" \"5934587\" ...\n",
      " $ Drop_Date   : Date, format: \"2016-09-23\" \"2016-09-23\" ...\n",
      " $ NAME        : chr  \"Annie Moye\" \"Don Johnson\" \"Spencer Meachum\" \"Omayra Flores\" ...\n",
      " $ STREET      : chr  \"5531 Folkstone Rd\" \"3749 Shacktown Rd\" \"675 N Main St\" \"402 Foxcroft Dr\" ...\n",
      " $ ZIP5        : int  27040 27055 27101 27103 27127 27203 27205 27205 27214 27214 ...\n",
      " $ FICO        : num  785 724 730 704 627 648 632 651 755 625 ...\n",
      " $ APR         : chr  \"30.74\" \"30.74\" \"30.74\" \"30.74\" ...\n",
      " $ OFFER_AMOUNT: chr  \"2000\" \"2000\" \"2000\" \"2000\" ...\n",
      " $ STATE       : chr  \"NC\" \"NC\" \"NC\" \"NC\" ...\n",
      " $ BRANCHNUMBER: int  679 671 679 671 655 663 663 663 667 667 ...\n"
     ]
    },
    {
     "data": {
      "text/plain": [
       "    mon_ind        camp_type          camp_type1            SS7           \n",
       " Min.   : 81.00   Length:65886       Length:65886       Length:65886      \n",
       " 1st Qu.: 91.00   Class :character   Class :character   Class :character  \n",
       " Median : 95.00   Mode  :character   Mode  :character   Mode  :character  \n",
       " Mean   : 93.75                                                           \n",
       " 3rd Qu.: 97.00                                                           \n",
       " Max.   :102.00                                                           \n",
       "                                                                          \n",
       "   Drop_Date              NAME              STREET               ZIP5      \n",
       " Min.   :2016-09-23   Length:65886       Length:65886       Min.   :22553  \n",
       " 1st Qu.:2017-06-30   Class :character   Class :character   1st Qu.:77034  \n",
       " Median :2017-11-03   Mode  :character   Mode  :character   Median :77547  \n",
       " Mean   :2017-10-07                                         Mean   :72979  \n",
       " 3rd Qu.:2018-01-18                                         3rd Qu.:78521  \n",
       " Max.   :2018-06-01                                         Max.   :88352  \n",
       "                                                            NA's   :154    \n",
       "      FICO            APR            OFFER_AMOUNT          STATE          \n",
       " Min.   :  0.00   Length:65886       Length:65886       Length:65886      \n",
       " 1st Qu.:  0.00   Class :character   Class :character   Class :character  \n",
       " Median :  0.00   Mode  :character   Mode  :character   Mode  :character  \n",
       " Mean   : 67.91                                                           \n",
       " 3rd Qu.:  0.00                                                           \n",
       " Max.   :850.00                                                           \n",
       "                                                                          \n",
       "  BRANCHNUMBER   \n",
       " Min.   : 101.0  \n",
       " 1st Qu.: 532.0  \n",
       " Median : 556.0  \n",
       " Mean   : 566.5  \n",
       " 3rd Qu.: 579.0  \n",
       " Max.   :1214.0  \n",
       " NA's   :154     "
      ]
     },
     "metadata": {},
     "output_type": "display_data"
    }
   ],
   "source": [
    "str(mb_xsell_cc)\n",
    "summary(mb_xsell_cc)"
   ]
  }
 ],
 "metadata": {
  "kernelspec": {
   "display_name": "R",
   "language": "R",
   "name": "ir"
  },
  "language_info": {
   "codemirror_mode": "r",
   "file_extension": ".r",
   "mimetype": "text/x-r-source",
   "name": "R",
   "pygments_lexer": "r",
   "version": "3.4.3"
  }
 },
 "nbformat": 4,
 "nbformat_minor": 2
}
